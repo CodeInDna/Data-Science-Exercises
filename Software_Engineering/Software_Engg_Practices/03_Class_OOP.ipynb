{
 "cells": [
  {
   "cell_type": "code",
   "execution_count": 1,
   "metadata": {},
   "outputs": [],
   "source": [
    "class Shirt:\n",
    "    def __init__(self, shirt_color, shirt_size, shirt_style, shirt_price):\n",
    "        self.color = shirt_color\n",
    "        self.size = shirt_size\n",
    "        self.style = shirt_style\n",
    "        self.price = shirt_price\n",
    "    \n",
    "    def change_price(self, new_price):\n",
    "        self.price = new_price\n",
    "    \n",
    "    def discount(self, discount):\n",
    "        return self.price * (1 - discount)"
   ]
  },
  {
   "cell_type": "code",
   "execution_count": 2,
   "metadata": {},
   "outputs": [
    {
     "data": {
      "text/plain": [
       "<__main__.Shirt at 0x1ba0f25e608>"
      ]
     },
     "execution_count": 2,
     "metadata": {},
     "output_type": "execute_result"
    }
   ],
   "source": [
    "Shirt('red', 'S', 'short sleeve', 15)"
   ]
  },
  {
   "cell_type": "code",
   "execution_count": 3,
   "metadata": {},
   "outputs": [],
   "source": [
    "new_shirt = Shirt('red', 'S', 'short sleeve', 15)"
   ]
  },
  {
   "cell_type": "code",
   "execution_count": 4,
   "metadata": {},
   "outputs": [
    {
     "name": "stdout",
     "output_type": "stream",
     "text": [
      "red\n",
      "S\n",
      "short sleeve\n",
      "15\n"
     ]
    }
   ],
   "source": [
    "print(new_shirt.color)\n",
    "print(new_shirt.size)\n",
    "print(new_shirt.style)\n",
    "print(new_shirt.price)"
   ]
  },
  {
   "cell_type": "code",
   "execution_count": 5,
   "metadata": {},
   "outputs": [
    {
     "name": "stdout",
     "output_type": "stream",
     "text": [
      "16\n"
     ]
    }
   ],
   "source": [
    "new_shirt.change_price(16)\n",
    "print(new_shirt.price)"
   ]
  },
  {
   "cell_type": "code",
   "execution_count": 6,
   "metadata": {},
   "outputs": [
    {
     "data": {
      "text/plain": [
       "14.4"
      ]
     },
     "execution_count": 6,
     "metadata": {},
     "output_type": "execute_result"
    }
   ],
   "source": [
    "new_shirt.discount(.1)"
   ]
  }
 ],
 "metadata": {
  "kernelspec": {
   "display_name": "Python 3",
   "language": "python",
   "name": "python3"
  },
  "language_info": {
   "codemirror_mode": {
    "name": "ipython",
    "version": 3
   },
   "file_extension": ".py",
   "mimetype": "text/x-python",
   "name": "python",
   "nbconvert_exporter": "python",
   "pygments_lexer": "ipython3",
   "version": "3.7.6"
  }
 },
 "nbformat": 4,
 "nbformat_minor": 2
}
