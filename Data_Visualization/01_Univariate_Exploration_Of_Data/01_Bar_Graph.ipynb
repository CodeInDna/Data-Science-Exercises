{
 "cells": [
  {
   "cell_type": "markdown",
   "metadata": {},
   "source": [
    "## Univariate Bar Graph for Categorical Variables"
   ]
  },
  {
   "cell_type": "code",
   "execution_count": 3,
   "metadata": {},
   "outputs": [],
   "source": [
    "# import the essentioal modules\n",
    "import numpy as np\n",
    "import pandas as pd\n",
    "import matplotlib.pyplot as plt\n",
    "import seaborn as sb\n",
    "\n",
    "%matplotlib inline"
   ]
  },
  {
   "cell_type": "code",
   "execution_count": 11,
   "metadata": {},
   "outputs": [
    {
     "name": "stdout",
     "output_type": "stream",
     "text": [
      "(807, 13)\n",
      "       species  generation_id  height  weight  base_experience type_1  type_2  \\\n",
      "id                                                                              \n",
      "1    bulbasaur              1     0.7     6.9               64  grass  poison   \n",
      "2      ivysaur              1     1.0    13.0              142  grass  poison   \n",
      "3     venusaur              1     2.0   100.0              236  grass  poison   \n",
      "4   charmander              1     0.6     8.5               62   fire     NaN   \n",
      "5   charmeleon              1     1.1    19.0              142   fire     NaN   \n",
      "\n",
      "    hp  attack  defense  speed  special-attack  special-defense  \n",
      "id                                                               \n",
      "1   45      49       49     45              65               65  \n",
      "2   60      62       63     60              80               80  \n",
      "3   80      82       83     80             100              100  \n",
      "4   39      52       43     65              60               50  \n",
      "5   58      64       58     80              80               65  \n"
     ]
    }
   ],
   "source": [
    "# Extract the data\n",
    "pokemon = pd.read_csv('../../Datasets/pokemon.csv', index_col='id')\n",
    "\n",
    "print(pokemon.shape)\n",
    "\n",
    "print(pokemon.head())"
   ]
  },
  {
   "cell_type": "code",
   "execution_count": 35,
   "metadata": {},
   "outputs": [],
   "source": [
    "# set the color palette(default palette is giving different colors for each bar)\n",
    "base_color = sb.color_palette()[9]"
   ]
  },
  {
   "cell_type": "code",
   "execution_count": 42,
   "metadata": {},
   "outputs": [],
   "source": [
    "# sort the graph in descending order of frequency count\n",
    "sorted_indices = pokemon.generation_id.value_counts().index"
   ]
  },
  {
   "cell_type": "code",
   "execution_count": 43,
   "metadata": {},
   "outputs": [
    {
     "data": {
      "text/plain": [
       "<matplotlib.axes._subplots.AxesSubplot at 0x2dec7471048>"
      ]
     },
     "execution_count": 43,
     "metadata": {},
     "output_type": "execute_result"
    },
    {
     "data": {
      "image/png": "[encoded data removed]",
      "text/plain": [
       "<Figure size 432x288 with 1 Axes>"
      ]
     },
     "metadata": {
      "needs_background": "light"
     },
     "output_type": "display_data"
    }
   ],
   "source": [
    "# Make a Bar Graph with seaborn\n",
    "sb.countplot(data=pokemon, x='generation_id', color=base_color, order=sorted_indices)"
   ]
  },
  {
   "cell_type": "code",
   "execution_count": 45,
   "metadata": {},
   "outputs": [],
   "source": [
    "sorted_indices = pokemon.type_1.value_counts().index"
   ]
  },
  {
   "cell_type": "code",
   "execution_count": 51,
   "metadata": {},
   "outputs": [
    {
     "data": {
      "image/png": "[encoded data removed]",
      "text/plain": [
       "<Figure size 432x288 with 1 Axes>"
      ]
     },
     "metadata": {
      "needs_background": "light"
     },
     "output_type": "display_data"
    }
   ],
   "source": [
    "sb.countplot(data=pokemon, x='type_1', order=sorted_indices, color=base_color);\n",
    "plt.xticks(rotation=90);"
   ]
  },
  {
   "cell_type": "code",
   "execution_count": 54,
   "metadata": {},
   "outputs": [
    {
     "data": {
      "image/png": "[encoded data removed]",
      "text/plain": [
       "<Figure size 432x288 with 1 Axes>"
      ]
     },
     "metadata": {
      "needs_background": "light"
     },
     "output_type": "display_data"
    }
   ],
   "source": [
    "# horizontal barGraph\n",
    "sb.countplot(data=pokemon, y='type_1', color=base_color, order=sorted_indices);"
   ]
  },
  {
   "cell_type": "markdown",
   "metadata": {},
   "source": [
    "**Absolute VS Relative Frequency in Bar Graph**\n",
    "\n",
    "**Absolute Frequency:** Shown in above Graphs\n",
    "\n",
    "**Relative Frequency:** Shown in Graphs Below"
   ]
  },
  {
   "cell_type": "code",
   "execution_count": 61,
   "metadata": {},
   "outputs": [
    {
     "name": "stdout",
     "output_type": "stream",
     "text": [
      "(807, 14)\n",
      "   id     species  generation_id  height  weight  base_experience type_1  \\\n",
      "0   1   bulbasaur              1     0.7     6.9               64  grass   \n",
      "1   2     ivysaur              1     1.0    13.0              142  grass   \n",
      "2   3    venusaur              1     2.0   100.0              236  grass   \n",
      "3   4  charmander              1     0.6     8.5               62   fire   \n",
      "4   5  charmeleon              1     1.1    19.0              142   fire   \n",
      "\n",
      "   type_2  hp  attack  defense  speed  special-attack  special-defense  \n",
      "0  poison  45      49       49     45              65               65  \n",
      "1  poison  60      62       63     60              80               80  \n",
      "2  poison  80      82       83     80             100              100  \n",
      "3     NaN  39      52       43     65              60               50  \n",
      "4     NaN  58      64       58     80              80               65  \n"
     ]
    }
   ],
   "source": [
    "# Extract the data\n",
    "pokemon = pd.read_csv('../../Datasets/pokemon.csv')\n",
    "\n",
    "print(pokemon.shape)\n",
    "\n",
    "print(pokemon.head())"
   ]
  },
  {
   "cell_type": "code",
   "execution_count": 71,
   "metadata": {},
   "outputs": [
    {
     "data": {
      "text/html": [
       "<div>\n",
       "<style scoped>\n",
       "    .dataframe tbody tr th:only-of-type {\n",
       "        vertical-align: middle;\n",
       "    }\n",
       "\n",
       "    .dataframe tbody tr th {\n",
       "        vertical-align: top;\n",
       "    }\n",
       "\n",
       "    .dataframe thead th {\n",
       "        text-align: right;\n",
       "    }\n",
       "</style>\n",
       "<table border=\"1\" class=\"dataframe\">\n",
       "  <thead>\n",
       "    <tr style=\"text-align: right;\">\n",
       "      <th></th>\n",
       "      <th>species</th>\n",
       "      <th>id</th>\n",
       "      <th>generation_id</th>\n",
       "      <th>type_level</th>\n",
       "      <th>type</th>\n",
       "    </tr>\n",
       "  </thead>\n",
       "  <tbody>\n",
       "    <tr>\n",
       "      <th>802</th>\n",
       "      <td>poipole</td>\n",
       "      <td>803</td>\n",
       "      <td>7</td>\n",
       "      <td>type_1</td>\n",
       "      <td>poison</td>\n",
       "    </tr>\n",
       "    <tr>\n",
       "      <th>803</th>\n",
       "      <td>naganadel</td>\n",
       "      <td>804</td>\n",
       "      <td>7</td>\n",
       "      <td>type_1</td>\n",
       "      <td>poison</td>\n",
       "    </tr>\n",
       "    <tr>\n",
       "      <th>804</th>\n",
       "      <td>stakataka</td>\n",
       "      <td>805</td>\n",
       "      <td>7</td>\n",
       "      <td>type_1</td>\n",
       "      <td>rock</td>\n",
       "    </tr>\n",
       "    <tr>\n",
       "      <th>805</th>\n",
       "      <td>blacephalon</td>\n",
       "      <td>806</td>\n",
       "      <td>7</td>\n",
       "      <td>type_1</td>\n",
       "      <td>fire</td>\n",
       "    </tr>\n",
       "    <tr>\n",
       "      <th>806</th>\n",
       "      <td>zeraora</td>\n",
       "      <td>807</td>\n",
       "      <td>7</td>\n",
       "      <td>type_1</td>\n",
       "      <td>electric</td>\n",
       "    </tr>\n",
       "    <tr>\n",
       "      <th>807</th>\n",
       "      <td>bulbasaur</td>\n",
       "      <td>1</td>\n",
       "      <td>1</td>\n",
       "      <td>type_2</td>\n",
       "      <td>poison</td>\n",
       "    </tr>\n",
       "    <tr>\n",
       "      <th>808</th>\n",
       "      <td>ivysaur</td>\n",
       "      <td>2</td>\n",
       "      <td>1</td>\n",
       "      <td>type_2</td>\n",
       "      <td>poison</td>\n",
       "    </tr>\n",
       "    <tr>\n",
       "      <th>809</th>\n",
       "      <td>venusaur</td>\n",
       "      <td>3</td>\n",
       "      <td>1</td>\n",
       "      <td>type_2</td>\n",
       "      <td>poison</td>\n",
       "    </tr>\n",
       "    <tr>\n",
       "      <th>812</th>\n",
       "      <td>charizard</td>\n",
       "      <td>6</td>\n",
       "      <td>1</td>\n",
       "      <td>type_2</td>\n",
       "      <td>flying</td>\n",
       "    </tr>\n",
       "    <tr>\n",
       "      <th>818</th>\n",
       "      <td>butterfree</td>\n",
       "      <td>12</td>\n",
       "      <td>1</td>\n",
       "      <td>type_2</td>\n",
       "      <td>flying</td>\n",
       "    </tr>\n",
       "  </tbody>\n",
       "</table>\n",
       "</div>"
      ],
      "text/plain": [
       "         species   id  generation_id type_level      type\n",
       "802      poipole  803              7     type_1    poison\n",
       "803    naganadel  804              7     type_1    poison\n",
       "804    stakataka  805              7     type_1      rock\n",
       "805  blacephalon  806              7     type_1      fire\n",
       "806      zeraora  807              7     type_1  electric\n",
       "807    bulbasaur    1              1     type_2    poison\n",
       "808      ivysaur    2              1     type_2    poison\n",
       "809     venusaur    3              1     type_2    poison\n",
       "812    charizard    6              1     type_2    flying\n",
       "818   butterfree   12              1     type_2    flying"
      ]
     },
     "execution_count": 71,
     "metadata": {},
     "output_type": "execute_result"
    }
   ],
   "source": [
    "# Melt the two columns type_1 and type_2 into one\n",
    "pkmn_types = pokemon.melt(id_vars=['species','id','generation_id'], value_vars=['type_1', 'type_2'], var_name='type_level', value_name='type').dropna()\n",
    "\n",
    "pkmn_types[802:812]"
   ]
  },
  {
   "cell_type": "code",
   "execution_count": 129,
   "metadata": {},
   "outputs": [],
   "source": [
    "# set the color palette(default palette is giving different colors for each bar)\n",
    "base_color = sb.color_palette()[0]\n",
    "\n",
    "# sort the graph in descending order of frequency count\n",
    "type_counts = pkmn_types.type.value_counts()\n",
    "type_index = type_counts.index"
   ]
  },
  {
   "cell_type": "code",
   "execution_count": 130,
   "metadata": {},
   "outputs": [
    {
     "data": {
      "text/plain": [
       "<matplotlib.axes._subplots.AxesSubplot at 0x2decb013588>"
      ]
     },
     "execution_count": 130,
     "metadata": {},
     "output_type": "execute_result"
    },
    {
     "data": {
      "image/png": "[encoded data removed]",
      "text/plain": [
       "<Figure size 432x288 with 1 Axes>"
      ]
     },
     "metadata": {
      "needs_background": "light"
     },
     "output_type": "display_data"
    }
   ],
   "source": [
    "# plot the graph\n",
    "sb.countplot(data=pkmn_types, order=type_index, color=base_color, y='type')"
   ]
  },
  {
   "cell_type": "code",
   "execution_count": 92,
   "metadata": {
    "scrolled": true
   },
   "outputs": [
    {
     "data": {
      "text/plain": [
       "0.1623296158612144"
      ]
     },
     "execution_count": 92,
     "metadata": {},
     "output_type": "execute_result"
    }
   ],
   "source": [
    "# finding the max tick value\n",
    "n_pokemon = pokemon.shape[0]  # 807\n",
    "max_type_count = type_counts[0]  # 131\n",
    "max_prop = max_type_count / n_pokemon  # 0.16\n",
    "max_prop"
   ]
  },
  {
   "cell_type": "code",
   "execution_count": 131,
   "metadata": {},
   "outputs": [],
   "source": [
    "ticks_prop = np.arange(0, max_prop, 0.02)  # [0.  , 0.02, 0.04, 0.06, 0.08, 0.1 , 0.12, 0.14, 0.16]\n",
    "tick_names = [str(n) for n in ticks_prop]  # ['0.0', '0.02', '0.04', '0.06', '0.08', '0.1', '0.12', '0.14', '0.16']"
   ]
  },
  {
   "cell_type": "code",
   "execution_count": 132,
   "metadata": {},
   "outputs": [
    {
     "data": {
      "image/png": "[encoded data removed]",
      "text/plain": [
       "<Figure size 432x288 with 1 Axes>"
      ]
     },
     "metadata": {
      "needs_background": "light"
     },
     "output_type": "display_data"
    }
   ],
   "source": [
    "# plot the graph\n",
    "sb.countplot(data=pkmn_types, order=type_index, color=base_color, y='type')\n",
    "plt.xticks(ticks_prop * n_pokemon, tick_names);\n",
    "plt.xlabel('proportions');"
   ]
  },
  {
   "cell_type": "code",
   "execution_count": 133,
   "metadata": {},
   "outputs": [
    {
     "data": {
      "image/png": "[encoded data removed]",
      "text/plain": [
       "<Figure size 432x288 with 1 Axes>"
      ]
     },
     "metadata": {
      "needs_background": "light"
     },
     "output_type": "display_data"
    }
   ],
   "source": [
    "sb.countplot(data=pkmn_types, order=type_index, color=base_color, y='type');\n",
    "for i in range(type_counts.shape[0]):\n",
    "    count = type_counts[i]\n",
    "    pct_string = f\"{round(100*count/n_pokemon, 1)}%\"\n",
    "    plt.text(count+1, i, pct_string, va='center');"
   ]
  }
 ],
 "metadata": {
  "kernelspec": {
   "display_name": "Python 3",
   "language": "python",
   "name": "python3"
  },
  "language_info": {
   "codemirror_mode": {
    "name": "ipython",
    "version": 3
   },
   "file_extension": ".py",
   "mimetype": "text/x-python",
   "name": "python",
   "nbconvert_exporter": "python",
   "pygments_lexer": "ipython3",
   "version": "3.7.10"
  }
 },
 "nbformat": 4,
 "nbformat_minor": 2
}
