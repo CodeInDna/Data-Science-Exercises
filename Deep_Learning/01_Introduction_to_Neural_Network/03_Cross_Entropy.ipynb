{
 "cells": [
  {
   "cell_type": "markdown",
   "metadata": {},
   "source": [
    "## Cross Entropy"
   ]
  },
  {
   "cell_type": "code",
   "execution_count": 18,
   "metadata": {},
   "outputs": [],
   "source": [
    "import numpy as np\n",
    "\n",
    "# Write a function that takes as input two lists Y, P,\n",
    "# and returns the float corresponding to their cross-entropy.\n",
    "\n",
    "def cross_entropy(Y, P):\n",
    "    result = -(np.sum((Y*np.log(P)) + (np.subtract(1,Y) * np.log(np.subtract(1,P)))))\n",
    "    return round(result, 2)\n",
    "cross_entropy([1, 1, 0], [0.8, 0.7, 0.1]);  # 0.69  Smaller Error\n",
    "cross_entropy([0, 0, 1], [0.8, 0.7, 0.1]);  # 5.12  Larger Error"
   ]
  }
 ],
 "metadata": {
  "kernelspec": {
   "display_name": "Python 3",
   "language": "python",
   "name": "python3"
  },
  "language_info": {
   "codemirror_mode": {
    "name": "ipython",
    "version": 3
   },
   "file_extension": ".py",
   "mimetype": "text/x-python",
   "name": "python",
   "nbconvert_exporter": "python",
   "pygments_lexer": "ipython3",
   "version": "3.7.6"
  }
 },
 "nbformat": 4,
 "nbformat_minor": 2
}
