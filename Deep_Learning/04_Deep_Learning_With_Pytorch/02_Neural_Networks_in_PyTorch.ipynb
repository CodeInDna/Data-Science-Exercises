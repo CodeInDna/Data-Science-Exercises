{
 "cells": [
  {
   "cell_type": "markdown",
   "metadata": {},
   "source": [
    "# Neural networks with PyTorch\n",
    "\n",
    "Next I'll show you how to build a neural network with PyTorch."
   ]
  },
  {
   "cell_type": "code",
   "execution_count": 1,
   "metadata": {},
   "outputs": [],
   "source": [
    "# Import things like usual\n",
    "%matplotlib inline\n",
    "%config InlineBackend.figure_format = 'retina'\n",
    "\n",
    "import numpy as np\n",
    "import torch\n",
    "\n",
    "import matplotlib.pyplot as plt\n",
    "from torchvision import datasets, transforms"
   ]
  },
  {
   "cell_type": "markdown",
   "metadata": {},
   "source": [
    "First up, we need to get our dataset. This is provided through the `torchvision` package. The code below will download the MNIST dataset, then create training and test datasets for us. Don't worry too much about the details here, you'll learn more about this later."
   ]
  },
  {
   "cell_type": "markdown",
   "metadata": {},
   "source": [
    "**NOTE: Normalize** does the following for each channel:\n",
    "\n",
    "> **image = (image - mean) / std**\n",
    "\n",
    "The parameters **mean**, **std** are passed as **0.5, 0.5**. This will normalize the image in the range **[-1,1]**. \n",
    "\n",
    "**For example**, the minimum value **0** will be converted to **(0-0.5)/0.5=-1**, the maximum value of **1** will be converted to **(1-0.5)/0.5=1**.\n",
    "\n",
    "if you would like to get your image back in **[0,1]** range, you could use,\n",
    "\n",
    "> **image = ((image * std) + mean)**"
   ]
  },
  {
   "cell_type": "code",
   "execution_count": 2,
   "metadata": {},
   "outputs": [],
   "source": [
    "# Define a transform to normalize the data\n",
    "transform = transforms.Compose([transforms.ToTensor(),\n",
    "                              transforms.Normalize((0.5, ), (0.5, ))\n",
    "                             ])\n",
    "# Download and load the training data\n",
    "trainset = datasets.MNIST('MNIST_data/', download=True, train=True, transform=transform)\n",
    "trainloader = torch.utils.data.DataLoader(trainset, batch_size=64, shuffle=True)\n",
    "\n",
    "# Download and load the test data\n",
    "testset = datasets.MNIST('MNIST_data/', download=True, train=False, transform=transform)\n",
    "testloader = torch.utils.data.DataLoader(testset, batch_size=64, shuffle=True)"
   ]
  },
  {
   "cell_type": "code",
   "execution_count": 3,
   "metadata": {},
   "outputs": [
    {
     "name": "stdout",
     "output_type": "stream",
     "text": [
      "tensor([7, 2, 7, 0, 9, 5, 8, 2, 1, 1, 3, 7, 1, 3, 1, 2, 0, 7, 6, 4, 4, 1, 6, 0,\n",
      "        0, 2, 3, 1, 9, 0, 5, 9, 1, 0, 2, 5, 0, 4, 6, 9, 1, 9, 3, 3, 7, 5, 9, 7,\n",
      "        9, 6, 3, 7, 5, 6, 1, 1, 2, 4, 8, 5, 9, 5, 6, 3])\n",
      "torch.Size([64, 1, 28, 28])\n"
     ]
    }
   ],
   "source": [
    "dataiter = iter(trainloader)\n",
    "images, labels = dataiter.next()\n",
    "\n",
    "print(labels)\n",
    "print(images.size())"
   ]
  },
  {
   "cell_type": "markdown",
   "metadata": {},
   "source": [
    "We have the training data loaded into `trainloader` and we make that an iterator with `iter(trainloader)`. We'd use this to loop through the dataset for training, but here I'm just grabbing the first batch so we can check out the data. We can see below that `images` is just a tensor with size (64, 1, 28, 28). So, 64 images per batch, 1 color channel, and 28x28 images."
   ]
  },
  {
   "cell_type": "code",
   "execution_count": 4,
   "metadata": {},
   "outputs": [
    {
     "data": {
      "text/plain": [
       "<matplotlib.image.AxesImage at 0x19fffbe0ec8>"
      ]
     },
     "execution_count": 4,
     "metadata": {},
     "output_type": "execute_result"
    },
    {
     "data": {
      "image/png": "[encoded data removed]",
      "text/plain": [
       "<Figure size 432x288 with 1 Axes>"
      ]
     },
     "metadata": {
      "image/png": {
       "height": 248,
       "width": 251
      },
      "needs_background": "light"
     },
     "output_type": "display_data"
    }
   ],
   "source": [
    "plt.imshow(images[1].numpy().squeeze(), cmap='Greys_r')"
   ]
  },
  {
   "cell_type": "markdown",
   "metadata": {},
   "source": [
    "## Building networks with PyTorch\n",
    "\n",
    "Here I'll use PyTorch to build a simple feedfoward network to classify the MNIST images. That is, the network will receive a digit image as input and predict the digit in the image.\n",
    "\n",
    "<img src=\"Images/mlp_mnist.png\" width=\"600\">\n",
    "\n",
    "To build a neural network with PyTorch, you use the `torch.nn` module. The network itself is a class inheriting from `torch.nn.Module`. You define each of the operations separately, like `nn.Linear(784, 128)` for a fully connected linear layer with 784 inputs and 128 units.\n",
    "\n",
    "The class needs to include a `forward` method that implements the forward pass through the network. In this method, you pass some input tensor `x` through each of the operations you defined earlier. The `torch.nn` module also has functional equivalents for things like ReLUs in `torch.nn.functional`. This module is usually imported as `F`. Then to use a ReLU activation on some layer (which is just a tensor), you'd do `F.relu(x)`. Below are a few different commonly used activation functions.\n",
    "\n",
    "<img src=\"Images/activation.png\" width=\"700\">\n",
    "\n",
    "So, for this network, I'll build it with three fully connected layers, then a softmax output for predicting classes. The softmax function is similar to the sigmoid in that it squashes inputs between 0 and 1, but it's also normalized so that all the values sum to one like a proper probability distribution."
   ]
  },
  {
   "cell_type": "code",
   "execution_count": 5,
   "metadata": {},
   "outputs": [],
   "source": [
    "from torch import nn\n",
    "import torch.nn.functional as F"
   ]
  },
  {
   "cell_type": "code",
   "execution_count": 6,
   "metadata": {},
   "outputs": [],
   "source": [
    "class Network(nn.Module):\n",
    "    def __init__(self):\n",
    "        super().__init__()\n",
    "        \n",
    "        self.fc1 = nn.Linear(784, 128)\n",
    "        self.fc2 = nn.Linear(128, 64)\n",
    "        self.fc3 = nn.Linear(64, 10)\n",
    "    \n",
    "    def forward(self, x):\n",
    "        x = self.fc1(x)\n",
    "        x = F.relu(x)\n",
    "        x = self.fc2(x)\n",
    "        x = F.relu(x)\n",
    "        x = self.fc3(x)\n",
    "        x = F.softmax(x, dim=1)\n",
    "        return x"
   ]
  },
  {
   "cell_type": "code",
   "execution_count": 7,
   "metadata": {
    "scrolled": true
   },
   "outputs": [
    {
     "data": {
      "text/plain": [
       "Network(\n",
       "  (fc1): Linear(in_features=784, out_features=128, bias=True)\n",
       "  (fc2): Linear(in_features=128, out_features=64, bias=True)\n",
       "  (fc3): Linear(in_features=64, out_features=10, bias=True)\n",
       ")"
      ]
     },
     "execution_count": 7,
     "metadata": {},
     "output_type": "execute_result"
    }
   ],
   "source": [
    "model = Network()\n",
    "model"
   ]
  },
  {
   "cell_type": "markdown",
   "metadata": {},
   "source": [
    "### Initializing weights and biases\n",
    "\n",
    "The weights and such are automatically initialized for you, but it's possible to customize how they are initialized. The weights and biases are tensors attached to the layer you defined, you can get them with `model.fc1.weight` for instance."
   ]
  },
  {
   "cell_type": "code",
   "execution_count": 8,
   "metadata": {},
   "outputs": [
    {
     "name": "stdout",
     "output_type": "stream",
     "text": [
      "Parameter containing:\n",
      "tensor([[-0.0277, -0.0052,  0.0068,  ...,  0.0219, -0.0100,  0.0202],\n",
      "        [ 0.0068, -0.0031,  0.0263,  ..., -0.0051,  0.0343,  0.0238],\n",
      "        [-0.0205, -0.0342, -0.0017,  ..., -0.0293,  0.0033,  0.0047],\n",
      "        ...,\n",
      "        [ 0.0317, -0.0272,  0.0314,  ..., -0.0134, -0.0098,  0.0182],\n",
      "        [-0.0247, -0.0102,  0.0090,  ...,  0.0264, -0.0227,  0.0280],\n",
      "        [-0.0080,  0.0126,  0.0189,  ...,  0.0264,  0.0011,  0.0015]],\n",
      "       requires_grad=True)\n",
      "Parameter containing:\n",
      "tensor([-3.0960e-02,  1.1892e-02,  9.4248e-03,  1.5934e-02, -4.3971e-03,\n",
      "        -8.5976e-05,  4.2759e-03,  4.7229e-03, -1.5739e-02, -1.3641e-02,\n",
      "        -3.5156e-02,  2.9818e-02,  3.3548e-02,  7.5091e-03, -2.3427e-02,\n",
      "         1.9707e-02,  1.4397e-02,  2.5855e-02, -2.2298e-02,  2.5711e-02,\n",
      "        -5.2955e-03,  8.9392e-03,  3.0902e-02,  1.3102e-02,  2.4319e-02,\n",
      "        -2.9968e-02, -3.1445e-02,  2.0573e-02, -2.1903e-02, -1.0504e-02,\n",
      "         3.5406e-02, -2.2107e-02, -2.3627e-02, -3.3312e-02, -2.1040e-02,\n",
      "         7.5142e-03,  2.4688e-02, -2.8364e-02,  1.9457e-02,  3.2258e-02,\n",
      "         1.6293e-02,  8.3008e-03,  8.5345e-03, -2.4824e-02,  1.4782e-02,\n",
      "         2.9548e-02,  2.0413e-02, -4.6795e-03,  3.7149e-03,  2.7421e-02,\n",
      "        -1.9304e-02,  4.8144e-03, -1.4973e-02,  2.9416e-02,  2.9632e-02,\n",
      "        -2.5720e-02, -6.7768e-03, -1.1155e-02,  2.2258e-03, -1.7901e-02,\n",
      "         1.7701e-02,  3.4858e-02, -3.2528e-03, -3.1671e-02, -6.5022e-03,\n",
      "         1.7323e-02,  4.7655e-03,  4.3201e-03,  1.2267e-02, -8.0826e-03,\n",
      "         7.6224e-03,  1.8652e-04,  7.8466e-03, -7.4229e-03, -1.2652e-02,\n",
      "        -5.4612e-03, -8.6869e-03,  1.7988e-03, -8.2976e-04,  5.3422e-03,\n",
      "         4.5279e-03, -6.1686e-03,  1.9082e-02, -1.4453e-02,  2.5502e-02,\n",
      "         2.7501e-02, -8.0767e-03,  1.9676e-02, -1.1366e-02,  1.4890e-03,\n",
      "        -1.0405e-02,  7.3793e-03,  1.7144e-02,  3.3569e-02,  8.7106e-03,\n",
      "         1.2739e-02,  3.4454e-02, -2.0221e-02,  2.1430e-02, -8.6135e-03,\n",
      "         6.7622e-03, -5.8506e-03,  3.2785e-02, -1.5644e-02,  1.4657e-02,\n",
      "         1.7681e-02, -2.3026e-02, -1.9258e-02, -3.2072e-02,  3.3779e-03,\n",
      "        -1.7635e-02,  2.2580e-02,  2.8035e-02, -2.8794e-02,  3.5640e-02,\n",
      "         1.4393e-02, -2.9288e-02,  1.9034e-02,  3.5642e-02, -2.0756e-02,\n",
      "         6.5397e-03, -1.8839e-02,  2.1909e-02,  3.3465e-02, -1.9942e-02,\n",
      "         1.2694e-02, -2.1982e-02, -2.7497e-02], requires_grad=True)\n"
     ]
    }
   ],
   "source": [
    "print(model.fc1.weight)\n",
    "print(model.fc1.bias)"
   ]
  },
  {
   "cell_type": "markdown",
   "metadata": {},
   "source": [
    "For custom initialization, we want to modify these tensors in place. These are actually autograd *Variables*, so we need to get back the actual tensors with `model.fc1.weight.data`. Once we have the tensors, we can fill them with zeros (for biases) or random normal values."
   ]
  },
  {
   "cell_type": "code",
   "execution_count": 9,
   "metadata": {},
   "outputs": [
    {
     "data": {
      "text/plain": [
       "tensor([0., 0., 0., 0., 0., 0., 0., 0., 0., 0., 0., 0., 0., 0., 0., 0., 0., 0., 0., 0., 0., 0., 0., 0.,\n",
       "        0., 0., 0., 0., 0., 0., 0., 0., 0., 0., 0., 0., 0., 0., 0., 0., 0., 0., 0., 0., 0., 0., 0., 0.,\n",
       "        0., 0., 0., 0., 0., 0., 0., 0., 0., 0., 0., 0., 0., 0., 0., 0., 0., 0., 0., 0., 0., 0., 0., 0.,\n",
       "        0., 0., 0., 0., 0., 0., 0., 0., 0., 0., 0., 0., 0., 0., 0., 0., 0., 0., 0., 0., 0., 0., 0., 0.,\n",
       "        0., 0., 0., 0., 0., 0., 0., 0., 0., 0., 0., 0., 0., 0., 0., 0., 0., 0., 0., 0., 0., 0., 0., 0.,\n",
       "        0., 0., 0., 0., 0., 0., 0., 0.])"
      ]
     },
     "execution_count": 9,
     "metadata": {},
     "output_type": "execute_result"
    }
   ],
   "source": [
    "# Set biases to all zeros\n",
    "model.fc1.bias.data.fill_(0)"
   ]
  },
  {
   "cell_type": "code",
   "execution_count": 10,
   "metadata": {},
   "outputs": [
    {
     "data": {
      "text/plain": [
       "tensor([[ 5.2205e-03,  2.0095e-02,  4.5162e-06,  ...,  3.7981e-03,\n",
       "         -1.3588e-02, -2.1910e-02],\n",
       "        [-3.5060e-03,  1.1952e-02,  1.8207e-02,  ..., -1.5103e-03,\n",
       "         -3.3055e-03, -1.3763e-02],\n",
       "        [ 8.7235e-03, -8.2009e-03, -2.9534e-03,  ...,  4.5075e-03,\n",
       "          7.4654e-03, -1.3520e-02],\n",
       "        ...,\n",
       "        [-2.4859e-02, -1.4504e-02, -6.7201e-03,  ..., -1.1465e-02,\n",
       "         -2.0264e-03, -9.5046e-03],\n",
       "        [-6.9193e-03,  5.0482e-03,  1.2699e-02,  ..., -6.2402e-03,\n",
       "         -1.6322e-02,  2.3273e-03],\n",
       "        [ 7.9018e-03, -7.1468e-03,  9.7818e-03,  ..., -1.1439e-02,\n",
       "         -3.7277e-03, -3.9866e-03]])"
      ]
     },
     "execution_count": 10,
     "metadata": {},
     "output_type": "execute_result"
    }
   ],
   "source": [
    "# sample from random normal with standard dev = 0.01\n",
    "model.fc1.weight.data.normal_(std=0.01)"
   ]
  },
  {
   "cell_type": "markdown",
   "metadata": {},
   "source": [
    "### Forward pass\n",
    "\n",
    "Now that we have a network, let's see what happens when we pass in an image. This is called the forward pass. We're going to convert the image data into a tensor, then pass it through the operations defined by the network architecture."
   ]
  },
  {
   "cell_type": "code",
   "execution_count": 11,
   "metadata": {},
   "outputs": [
    {
     "data": {
      "image/png": "[encoded data removed]",
      "text/plain": [
       "<Figure size 432x648 with 2 Axes>"
      ]
     },
     "metadata": {
      "image/png": {
       "height": 235,
       "width": 424
      },
      "needs_background": "light"
     },
     "output_type": "display_data"
    }
   ],
   "source": [
    "# Grab some data \n",
    "# images, labels = next(iter(trainloader))\n",
    "\n",
    "# Resize images into a 1D vector, new shape is (batch size, color channels, image pixels) \n",
    "images.resize_(64, 1, 784)\n",
    "\n",
    "# or images.resize_(images.shape[0], 1, 784) to not automatically get batch size\n",
    "# images.resize_(images.shape[0], 1, 784)\n",
    "\n",
    "# Forward pass through the network\n",
    "ps = model.forward(images[1])\n",
    "\n",
    "import helper\n",
    "helper.view_classify(images[1].view(1, 28, 28), ps)"
   ]
  },
  {
   "cell_type": "markdown",
   "metadata": {},
   "source": [
    "As you can see above, our network has basically no idea what this digit is. It's because we haven't trained it yet, all the weights are random!\n",
    "\n",
    "PyTorch provides a convenient way to build networks like this where a tensor is passed sequentially through operations, `nn.Sequential` ([documentation](https://pytorch.org/docs/master/nn.html#torch.nn.Sequential)). Using this to build the equivalent network:"
   ]
  },
  {
   "cell_type": "code",
   "execution_count": 12,
   "metadata": {},
   "outputs": [
    {
     "name": "stdout",
     "output_type": "stream",
     "text": [
      "Sequential(\n",
      "  (0): Linear(in_features=784, out_features=128, bias=True)\n",
      "  (1): ReLU()\n",
      "  (2): Linear(in_features=128, out_features=64, bias=True)\n",
      "  (3): ReLU()\n",
      "  (4): Linear(in_features=64, out_features=10, bias=True)\n",
      "  (5): Softmax(dim=1)\n",
      ")\n"
     ]
    },
    {
     "data": {
      "image/png": "[encoded data removed]",
      "text/plain": [
       "<Figure size 432x648 with 2 Axes>"
      ]
     },
     "metadata": {
      "image/png": {
       "height": 235,
       "width": 424
      },
      "needs_background": "light"
     },
     "output_type": "display_data"
    }
   ],
   "source": [
    "# Hyperparameters for our network\n",
    "input_size = 784\n",
    "hidden_size = [128, 64]\n",
    "output_size = 10\n",
    "\n",
    "# Build a feed-forward network\n",
    "model = nn.Sequential(nn.Linear(input_size, hidden_size[0]),\n",
    "                     nn.ReLU(),\n",
    "                     nn.Linear(hidden_size[0], hidden_size[1]),\n",
    "                     nn.ReLU(),\n",
    "                     nn.Linear(hidden_size[1], output_size),\n",
    "                     nn.Softmax(dim=1))\n",
    "\n",
    "print(model)\n",
    "\n",
    "# Forward pass through the network and display output\n",
    "# images, labels = next(iter(trainloader))\n",
    "images.resize_(images.shape[0], 1, 784)\n",
    "ps = model.forward(images[1,:])\n",
    "helper.view_classify(images[1].view(1, 28, 28), ps)"
   ]
  },
  {
   "cell_type": "markdown",
   "metadata": {},
   "source": [
    "You can also pass in an `OrderedDict` to name the individual layers and operations. Note that a dictionary keys must be unique, so _each operation must have a different name_."
   ]
  },
  {
   "cell_type": "code",
   "execution_count": 15,
   "metadata": {},
   "outputs": [
    {
     "name": "stdout",
     "output_type": "stream",
     "text": [
      "Sequential(\n",
      "  (fc1): Linear(in_features=784, out_features=128, bias=True)\n",
      "  (relu1): ReLU()\n",
      "  (fc2): Linear(in_features=128, out_features=64, bias=True)\n",
      "  (relu2): ReLU()\n",
      "  (output): Linear(in_features=64, out_features=10, bias=True)\n",
      "  (softmax): Softmax(dim=1)\n",
      ")\n"
     ]
    },
    {
     "data": {
      "image/png": "[encoded data removed]",
      "text/plain": [
       "<Figure size 432x648 with 2 Axes>"
      ]
     },
     "metadata": {
      "image/png": {
       "height": 235,
       "width": 424
      },
      "needs_background": "light"
     },
     "output_type": "display_data"
    }
   ],
   "source": [
    "from collections import OrderedDict\n",
    "model = nn.Sequential(OrderedDict([\n",
    "                    ('fc1', nn.Linear(input_size, hidden_size[0])),\n",
    "                    ('relu1', nn.ReLU()),\n",
    "                    ('fc2', nn.Linear(hidden_size[0], hidden_size[1])),\n",
    "                    ('relu2', nn.ReLU()),\n",
    "                    ('output', nn.Linear(hidden_size[1], output_size)),\n",
    "                    ('softmax', nn.Softmax(dim=1))\n",
    "]))\n",
    "\n",
    "print(model)\n",
    "\n",
    "# Forward pass through the network and display output\n",
    "# images, labels = next(iter(trainloader))\n",
    "images.resize_(images.shape[0], 1, 784)\n",
    "ps = model.forward(images[1,:])\n",
    "helper.view_classify(images[1].view(1, 28, 28), ps)"
   ]
  },
  {
   "cell_type": "markdown",
   "metadata": {},
   "source": [
    "Now it's your turn to build a simple network, use any method I've covered so far. In the next notebook, you'll learn how to train a network so it can make good predictions.\n",
    "\n",
    ">**Exercise:** Build a network to classify the MNIST images with _three_ hidden layers. Use 400 units in the first hidden layer, 200 units in the second layer, and 100 units in the third layer. Each hidden layer should have a ReLU activation function, and use softmax on the output layer. "
   ]
  },
  {
   "cell_type": "code",
   "execution_count": 27,
   "metadata": {},
   "outputs": [],
   "source": [
    "## TODO: Your network here\n",
    "input_size = 784\n",
    "hidden_size = [400, 200, 100]\n",
    "output_size = 10\n",
    "model = nn.Sequential(OrderedDict([\n",
    "                    ('fc1', nn.Linear(input_size, hidden_size[0])),\n",
    "                    ('relu1', nn.ReLU()),\n",
    "                    ('fc2', nn.Linear(hidden_size[0], hidden_size[1])),\n",
    "                    ('relu2', nn.ReLU()),\n",
    "                    ('fc3', nn.Linear(hidden_size[1], hidden_size[2])),\n",
    "                    ('relu3', nn.ReLU()),\n",
    "                    ('output', nn.Linear(hidden_size[2], output_size)),\n",
    "                    ('softmax', nn.Softmax(dim=1))\n",
    "]))"
   ]
  },
  {
   "cell_type": "code",
   "execution_count": 28,
   "metadata": {},
   "outputs": [
    {
     "name": "stdout",
     "output_type": "stream",
     "text": [
      "Sequential(\n",
      "  (fc1): Linear(in_features=784, out_features=400, bias=True)\n",
      "  (relu1): ReLU()\n",
      "  (fc2): Linear(in_features=400, out_features=200, bias=True)\n",
      "  (relu2): ReLU()\n",
      "  (fc3): Linear(in_features=200, out_features=100, bias=True)\n",
      "  (relu3): ReLU()\n",
      "  (output): Linear(in_features=100, out_features=10, bias=True)\n",
      "  (softmax): Softmax(dim=1)\n",
      ")\n"
     ]
    },
    {
     "data": {
      "image/png": "[encoded data removed]",
      "text/plain": [
       "<Figure size 432x648 with 2 Axes>"
      ]
     },
     "metadata": {
      "image/png": {
       "height": 235,
       "width": 424
      },
      "needs_background": "light"
     },
     "output_type": "display_data"
    }
   ],
   "source": [
    "## Run this cell with your model to make sure it works ##\n",
    "# Forward pass through the network and display output\n",
    "print(model)\n",
    "images.resize_(64, 1, 784)\n",
    "ps = model.forward(images[1,:])\n",
    "helper.view_classify(images[1].view(1, 28, 28), ps)"
   ]
  }
 ],
 "metadata": {
  "kernelspec": {
   "display_name": "Python 3",
   "language": "python",
   "name": "python3"
  },
  "language_info": {
   "codemirror_mode": {
    "name": "ipython",
    "version": 3
   },
   "file_extension": ".py",
   "mimetype": "text/x-python",
   "name": "python",
   "nbconvert_exporter": "python",
   "pygments_lexer": "ipython3",
   "version": "3.7.6"
  }
 },
 "nbformat": 4,
 "nbformat_minor": 2
}
