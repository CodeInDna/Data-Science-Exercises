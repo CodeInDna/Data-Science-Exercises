{
 "cells": [
  {
   "cell_type": "code",
   "execution_count": 1,
   "metadata": {},
   "outputs": [],
   "source": [
    "import pandas as pd"
   ]
  },
  {
   "cell_type": "code",
   "execution_count": 2,
   "metadata": {},
   "outputs": [
    {
     "data": {
      "text/html": [
       "<div>\n",
       "<style scoped>\n",
       "    .dataframe tbody tr th:only-of-type {\n",
       "        vertical-align: middle;\n",
       "    }\n",
       "\n",
       "    .dataframe tbody tr th {\n",
       "        vertical-align: top;\n",
       "    }\n",
       "\n",
       "    .dataframe thead th {\n",
       "        text-align: right;\n",
       "    }\n",
       "</style>\n",
       "<table border=\"1\" class=\"dataframe\">\n",
       "  <thead>\n",
       "    <tr style=\"text-align: right;\">\n",
       "      <th></th>\n",
       "      <th>ano</th>\n",
       "      <th>mes</th>\n",
       "      <th>estado</th>\n",
       "      <th>numero</th>\n",
       "      <th>encontro</th>\n",
       "    </tr>\n",
       "  </thead>\n",
       "  <tbody>\n",
       "    <tr>\n",
       "      <th>0</th>\n",
       "      <td>1998</td>\n",
       "      <td>Janeiro</td>\n",
       "      <td>Acre</td>\n",
       "      <td>0 Fires</td>\n",
       "      <td>1/1/1998</td>\n",
       "    </tr>\n",
       "    <tr>\n",
       "      <th>1</th>\n",
       "      <td>1999</td>\n",
       "      <td>Janeiro</td>\n",
       "      <td>Acre</td>\n",
       "      <td>0 Fires</td>\n",
       "      <td>1/1/1999</td>\n",
       "    </tr>\n",
       "    <tr>\n",
       "      <th>2</th>\n",
       "      <td>2000</td>\n",
       "      <td>Janeiro</td>\n",
       "      <td>Acre</td>\n",
       "      <td>0 Fires</td>\n",
       "      <td>1/1/2000</td>\n",
       "    </tr>\n",
       "    <tr>\n",
       "      <th>3</th>\n",
       "      <td>2001</td>\n",
       "      <td>Janeiro</td>\n",
       "      <td>Acre</td>\n",
       "      <td>0 Fires</td>\n",
       "      <td>1/1/2001</td>\n",
       "    </tr>\n",
       "    <tr>\n",
       "      <th>4</th>\n",
       "      <td>2002</td>\n",
       "      <td>Janeiro</td>\n",
       "      <td>Acre</td>\n",
       "      <td>0 Fires</td>\n",
       "      <td>1/1/2002</td>\n",
       "    </tr>\n",
       "  </tbody>\n",
       "</table>\n",
       "</div>"
      ],
      "text/plain": [
       "    ano      mes estado   numero  encontro\n",
       "0  1998  Janeiro   Acre  0 Fires  1/1/1998\n",
       "1  1999  Janeiro   Acre  0 Fires  1/1/1999\n",
       "2  2000  Janeiro   Acre  0 Fires  1/1/2000\n",
       "3  2001  Janeiro   Acre  0 Fires  1/1/2001\n",
       "4  2002  Janeiro   Acre  0 Fires  1/1/2002"
      ]
     },
     "execution_count": 2,
     "metadata": {},
     "output_type": "execute_result"
    }
   ],
   "source": [
    "df = pd.read_csv('Datasets/amazon_fires.csv', encoding='ISO-8859-1')\n",
    "\n",
    "df.head()"
   ]
  },
  {
   "cell_type": "code",
   "execution_count": 3,
   "metadata": {},
   "outputs": [
    {
     "data": {
      "text/plain": [
       "23"
      ]
     },
     "execution_count": 3,
     "metadata": {},
     "output_type": "execute_result"
    }
   ],
   "source": [
    "len(df['estado'].unique())"
   ]
  },
  {
   "cell_type": "markdown",
   "metadata": {},
   "source": [
    "### Renaming Columns"
   ]
  },
  {
   "cell_type": "code",
   "execution_count": 4,
   "metadata": {},
   "outputs": [],
   "source": [
    "new_cols = {'ano': 'year',\n",
    "           'estado': 'state',\n",
    "           'mes': 'month',\n",
    "           'numero': 'number_of_fires',\n",
    "           'encontro': 'date'}\n",
    "\n",
    "df.rename(columns=new_cols, inplace=True)"
   ]
  },
  {
   "cell_type": "code",
   "execution_count": 5,
   "metadata": {},
   "outputs": [
    {
     "data": {
      "text/html": [
       "<div>\n",
       "<style scoped>\n",
       "    .dataframe tbody tr th:only-of-type {\n",
       "        vertical-align: middle;\n",
       "    }\n",
       "\n",
       "    .dataframe tbody tr th {\n",
       "        vertical-align: top;\n",
       "    }\n",
       "\n",
       "    .dataframe thead th {\n",
       "        text-align: right;\n",
       "    }\n",
       "</style>\n",
       "<table border=\"1\" class=\"dataframe\">\n",
       "  <thead>\n",
       "    <tr style=\"text-align: right;\">\n",
       "      <th></th>\n",
       "      <th>year</th>\n",
       "      <th>month</th>\n",
       "      <th>state</th>\n",
       "      <th>number_of_fires</th>\n",
       "      <th>date</th>\n",
       "    </tr>\n",
       "  </thead>\n",
       "  <tbody>\n",
       "    <tr>\n",
       "      <th>0</th>\n",
       "      <td>1998</td>\n",
       "      <td>Janeiro</td>\n",
       "      <td>Acre</td>\n",
       "      <td>0 Fires</td>\n",
       "      <td>1/1/1998</td>\n",
       "    </tr>\n",
       "    <tr>\n",
       "      <th>1</th>\n",
       "      <td>1999</td>\n",
       "      <td>Janeiro</td>\n",
       "      <td>Acre</td>\n",
       "      <td>0 Fires</td>\n",
       "      <td>1/1/1999</td>\n",
       "    </tr>\n",
       "    <tr>\n",
       "      <th>2</th>\n",
       "      <td>2000</td>\n",
       "      <td>Janeiro</td>\n",
       "      <td>Acre</td>\n",
       "      <td>0 Fires</td>\n",
       "      <td>1/1/2000</td>\n",
       "    </tr>\n",
       "    <tr>\n",
       "      <th>3</th>\n",
       "      <td>2001</td>\n",
       "      <td>Janeiro</td>\n",
       "      <td>Acre</td>\n",
       "      <td>0 Fires</td>\n",
       "      <td>1/1/2001</td>\n",
       "    </tr>\n",
       "    <tr>\n",
       "      <th>4</th>\n",
       "      <td>2002</td>\n",
       "      <td>Janeiro</td>\n",
       "      <td>Acre</td>\n",
       "      <td>0 Fires</td>\n",
       "      <td>1/1/2002</td>\n",
       "    </tr>\n",
       "  </tbody>\n",
       "</table>\n",
       "</div>"
      ],
      "text/plain": [
       "   year    month state number_of_fires      date\n",
       "0  1998  Janeiro  Acre         0 Fires  1/1/1998\n",
       "1  1999  Janeiro  Acre         0 Fires  1/1/1999\n",
       "2  2000  Janeiro  Acre         0 Fires  1/1/2000\n",
       "3  2001  Janeiro  Acre         0 Fires  1/1/2001\n",
       "4  2002  Janeiro  Acre         0 Fires  1/1/2002"
      ]
     },
     "execution_count": 5,
     "metadata": {},
     "output_type": "execute_result"
    }
   ],
   "source": [
    "df.head()"
   ]
  },
  {
   "cell_type": "code",
   "execution_count": 6,
   "metadata": {},
   "outputs": [
    {
     "data": {
      "text/plain": [
       "array([1998, 1999, 2000, 2001, 2002, 2003, 2004, 2005, 2006, 2007, 2008,\n",
       "       2009, 2010, 2011, 2012, 2013, 2014, 2015, 2016, 2017], dtype=int64)"
      ]
     },
     "execution_count": 6,
     "metadata": {},
     "output_type": "execute_result"
    }
   ],
   "source": [
    "# How many years of data do we have\n",
    "df['year'].unique()"
   ]
  },
  {
   "cell_type": "code",
   "execution_count": 7,
   "metadata": {},
   "outputs": [
    {
     "name": "stdout",
     "output_type": "stream",
     "text": [
      "<class 'pandas.core.frame.DataFrame'>\n",
      "RangeIndex: 6454 entries, 0 to 6453\n",
      "Data columns (total 5 columns):\n",
      "year               6454 non-null int64\n",
      "month              6454 non-null object\n",
      "state              6454 non-null object\n",
      "number_of_fires    6322 non-null object\n",
      "date               6454 non-null object\n",
      "dtypes: int64(1), object(4)\n",
      "memory usage: 252.2+ KB\n"
     ]
    }
   ],
   "source": [
    "df.info()"
   ]
  },
  {
   "cell_type": "code",
   "execution_count": 8,
   "metadata": {},
   "outputs": [
    {
     "data": {
      "text/html": [
       "<div>\n",
       "<style scoped>\n",
       "    .dataframe tbody tr th:only-of-type {\n",
       "        vertical-align: middle;\n",
       "    }\n",
       "\n",
       "    .dataframe tbody tr th {\n",
       "        vertical-align: top;\n",
       "    }\n",
       "\n",
       "    .dataframe thead th {\n",
       "        text-align: right;\n",
       "    }\n",
       "</style>\n",
       "<table border=\"1\" class=\"dataframe\">\n",
       "  <thead>\n",
       "    <tr style=\"text-align: right;\">\n",
       "      <th></th>\n",
       "      <th>year</th>\n",
       "      <th>month</th>\n",
       "      <th>state</th>\n",
       "      <th>number_of_fires</th>\n",
       "      <th>date</th>\n",
       "    </tr>\n",
       "  </thead>\n",
       "  <tbody>\n",
       "    <tr>\n",
       "      <th>0</th>\n",
       "      <td>1998</td>\n",
       "      <td>Janeiro</td>\n",
       "      <td>Acre</td>\n",
       "      <td>0 Fires</td>\n",
       "      <td>1/1/1998</td>\n",
       "    </tr>\n",
       "    <tr>\n",
       "      <th>1</th>\n",
       "      <td>1999</td>\n",
       "      <td>Janeiro</td>\n",
       "      <td>Acre</td>\n",
       "      <td>0 Fires</td>\n",
       "      <td>1/1/1999</td>\n",
       "    </tr>\n",
       "    <tr>\n",
       "      <th>2</th>\n",
       "      <td>2000</td>\n",
       "      <td>Janeiro</td>\n",
       "      <td>Acre</td>\n",
       "      <td>0 Fires</td>\n",
       "      <td>1/1/2000</td>\n",
       "    </tr>\n",
       "    <tr>\n",
       "      <th>3</th>\n",
       "      <td>2001</td>\n",
       "      <td>Janeiro</td>\n",
       "      <td>Acre</td>\n",
       "      <td>0 Fires</td>\n",
       "      <td>1/1/2001</td>\n",
       "    </tr>\n",
       "    <tr>\n",
       "      <th>4</th>\n",
       "      <td>2002</td>\n",
       "      <td>Janeiro</td>\n",
       "      <td>Acre</td>\n",
       "      <td>0 Fires</td>\n",
       "      <td>1/1/2002</td>\n",
       "    </tr>\n",
       "  </tbody>\n",
       "</table>\n",
       "</div>"
      ],
      "text/plain": [
       "   year    month state number_of_fires      date\n",
       "0  1998  Janeiro  Acre         0 Fires  1/1/1998\n",
       "1  1999  Janeiro  Acre         0 Fires  1/1/1999\n",
       "2  2000  Janeiro  Acre         0 Fires  1/1/2000\n",
       "3  2001  Janeiro  Acre         0 Fires  1/1/2001\n",
       "4  2002  Janeiro  Acre         0 Fires  1/1/2002"
      ]
     },
     "execution_count": 8,
     "metadata": {},
     "output_type": "execute_result"
    }
   ],
   "source": [
    "df.head()"
   ]
  },
  {
   "cell_type": "markdown",
   "metadata": {},
   "source": [
    "### Rearranging Columns"
   ]
  },
  {
   "cell_type": "code",
   "execution_count": 9,
   "metadata": {},
   "outputs": [],
   "source": [
    "new_order = [4, 1, 0, 2, 3]\n",
    "df = df[df.columns[new_order]]"
   ]
  },
  {
   "cell_type": "code",
   "execution_count": 10,
   "metadata": {},
   "outputs": [
    {
     "data": {
      "text/html": [
       "<div>\n",
       "<style scoped>\n",
       "    .dataframe tbody tr th:only-of-type {\n",
       "        vertical-align: middle;\n",
       "    }\n",
       "\n",
       "    .dataframe tbody tr th {\n",
       "        vertical-align: top;\n",
       "    }\n",
       "\n",
       "    .dataframe thead th {\n",
       "        text-align: right;\n",
       "    }\n",
       "</style>\n",
       "<table border=\"1\" class=\"dataframe\">\n",
       "  <thead>\n",
       "    <tr style=\"text-align: right;\">\n",
       "      <th></th>\n",
       "      <th>date</th>\n",
       "      <th>month</th>\n",
       "      <th>year</th>\n",
       "      <th>state</th>\n",
       "      <th>number_of_fires</th>\n",
       "    </tr>\n",
       "  </thead>\n",
       "  <tbody>\n",
       "    <tr>\n",
       "      <th>0</th>\n",
       "      <td>1/1/1998</td>\n",
       "      <td>Janeiro</td>\n",
       "      <td>1998</td>\n",
       "      <td>Acre</td>\n",
       "      <td>0 Fires</td>\n",
       "    </tr>\n",
       "    <tr>\n",
       "      <th>1</th>\n",
       "      <td>1/1/1999</td>\n",
       "      <td>Janeiro</td>\n",
       "      <td>1999</td>\n",
       "      <td>Acre</td>\n",
       "      <td>0 Fires</td>\n",
       "    </tr>\n",
       "    <tr>\n",
       "      <th>2</th>\n",
       "      <td>1/1/2000</td>\n",
       "      <td>Janeiro</td>\n",
       "      <td>2000</td>\n",
       "      <td>Acre</td>\n",
       "      <td>0 Fires</td>\n",
       "    </tr>\n",
       "    <tr>\n",
       "      <th>3</th>\n",
       "      <td>1/1/2001</td>\n",
       "      <td>Janeiro</td>\n",
       "      <td>2001</td>\n",
       "      <td>Acre</td>\n",
       "      <td>0 Fires</td>\n",
       "    </tr>\n",
       "    <tr>\n",
       "      <th>4</th>\n",
       "      <td>1/1/2002</td>\n",
       "      <td>Janeiro</td>\n",
       "      <td>2002</td>\n",
       "      <td>Acre</td>\n",
       "      <td>0 Fires</td>\n",
       "    </tr>\n",
       "  </tbody>\n",
       "</table>\n",
       "</div>"
      ],
      "text/plain": [
       "       date    month  year state number_of_fires\n",
       "0  1/1/1998  Janeiro  1998  Acre         0 Fires\n",
       "1  1/1/1999  Janeiro  1999  Acre         0 Fires\n",
       "2  1/1/2000  Janeiro  2000  Acre         0 Fires\n",
       "3  1/1/2001  Janeiro  2001  Acre         0 Fires\n",
       "4  1/1/2002  Janeiro  2002  Acre         0 Fires"
      ]
     },
     "execution_count": 10,
     "metadata": {},
     "output_type": "execute_result"
    }
   ],
   "source": [
    "df.head()"
   ]
  },
  {
   "cell_type": "markdown",
   "metadata": {},
   "source": [
    "### Determing if a column contain numeric data"
   ]
  },
  {
   "cell_type": "code",
   "execution_count": 11,
   "metadata": {},
   "outputs": [
    {
     "data": {
      "text/plain": [
       "0       False\n",
       "1       False\n",
       "2       False\n",
       "3       False\n",
       "4       False\n",
       "        ...  \n",
       "6449     True\n",
       "6450     True\n",
       "6451     True\n",
       "6452     True\n",
       "6453     True\n",
       "Name: number_of_fires, Length: 6454, dtype: object"
      ]
     },
     "execution_count": 11,
     "metadata": {},
     "output_type": "execute_result"
    }
   ],
   "source": [
    "df['number_of_fires'].str.isnumeric()"
   ]
  },
  {
   "cell_type": "code",
   "execution_count": 12,
   "metadata": {},
   "outputs": [
    {
     "data": {
      "text/html": [
       "<div>\n",
       "<style scoped>\n",
       "    .dataframe tbody tr th:only-of-type {\n",
       "        vertical-align: middle;\n",
       "    }\n",
       "\n",
       "    .dataframe tbody tr th {\n",
       "        vertical-align: top;\n",
       "    }\n",
       "\n",
       "    .dataframe thead th {\n",
       "        text-align: right;\n",
       "    }\n",
       "</style>\n",
       "<table border=\"1\" class=\"dataframe\">\n",
       "  <thead>\n",
       "    <tr style=\"text-align: right;\">\n",
       "      <th></th>\n",
       "      <th>date</th>\n",
       "      <th>month</th>\n",
       "      <th>year</th>\n",
       "      <th>state</th>\n",
       "      <th>number_of_fires</th>\n",
       "    </tr>\n",
       "  </thead>\n",
       "  <tbody>\n",
       "    <tr>\n",
       "      <th>6449</th>\n",
       "      <td>1/1/2012</td>\n",
       "      <td>Dezembro</td>\n",
       "      <td>2012</td>\n",
       "      <td>Tocantins</td>\n",
       "      <td>128</td>\n",
       "    </tr>\n",
       "    <tr>\n",
       "      <th>6450</th>\n",
       "      <td>1/1/2013</td>\n",
       "      <td>Dezembro</td>\n",
       "      <td>2013</td>\n",
       "      <td>Tocantins</td>\n",
       "      <td>85</td>\n",
       "    </tr>\n",
       "    <tr>\n",
       "      <th>6451</th>\n",
       "      <td>1/1/2014</td>\n",
       "      <td>Dezembro</td>\n",
       "      <td>2014</td>\n",
       "      <td>Tocantins</td>\n",
       "      <td>223</td>\n",
       "    </tr>\n",
       "    <tr>\n",
       "      <th>6452</th>\n",
       "      <td>1/1/2015</td>\n",
       "      <td>Dezembro</td>\n",
       "      <td>2015</td>\n",
       "      <td>Tocantins</td>\n",
       "      <td>373</td>\n",
       "    </tr>\n",
       "    <tr>\n",
       "      <th>6453</th>\n",
       "      <td>1/1/2016</td>\n",
       "      <td>Dezembro</td>\n",
       "      <td>2016</td>\n",
       "      <td>Tocantins</td>\n",
       "      <td>119</td>\n",
       "    </tr>\n",
       "  </tbody>\n",
       "</table>\n",
       "</div>"
      ],
      "text/plain": [
       "          date     month  year      state number_of_fires\n",
       "6449  1/1/2012  Dezembro  2012  Tocantins             128\n",
       "6450  1/1/2013  Dezembro  2013  Tocantins              85\n",
       "6451  1/1/2014  Dezembro  2014  Tocantins             223\n",
       "6452  1/1/2015  Dezembro  2015  Tocantins             373\n",
       "6453  1/1/2016  Dezembro  2016  Tocantins             119"
      ]
     },
     "execution_count": 12,
     "metadata": {},
     "output_type": "execute_result"
    }
   ],
   "source": [
    "df.tail()"
   ]
  },
  {
   "cell_type": "code",
   "execution_count": 13,
   "metadata": {},
   "outputs": [
    {
     "data": {
      "text/html": [
       "<div>\n",
       "<style scoped>\n",
       "    .dataframe tbody tr th:only-of-type {\n",
       "        vertical-align: middle;\n",
       "    }\n",
       "\n",
       "    .dataframe tbody tr th {\n",
       "        vertical-align: top;\n",
       "    }\n",
       "\n",
       "    .dataframe thead th {\n",
       "        text-align: right;\n",
       "    }\n",
       "</style>\n",
       "<table border=\"1\" class=\"dataframe\">\n",
       "  <thead>\n",
       "    <tr style=\"text-align: right;\">\n",
       "      <th></th>\n",
       "      <th>date</th>\n",
       "      <th>month</th>\n",
       "      <th>year</th>\n",
       "      <th>state</th>\n",
       "      <th>number_of_fires</th>\n",
       "    </tr>\n",
       "  </thead>\n",
       "  <tbody>\n",
       "    <tr>\n",
       "      <th>6449</th>\n",
       "      <td>1/1/2012</td>\n",
       "      <td>Dezembro</td>\n",
       "      <td>2012</td>\n",
       "      <td>Tocantins</td>\n",
       "      <td>128</td>\n",
       "    </tr>\n",
       "    <tr>\n",
       "      <th>6450</th>\n",
       "      <td>1/1/2013</td>\n",
       "      <td>Dezembro</td>\n",
       "      <td>2013</td>\n",
       "      <td>Tocantins</td>\n",
       "      <td>85</td>\n",
       "    </tr>\n",
       "    <tr>\n",
       "      <th>6451</th>\n",
       "      <td>1/1/2014</td>\n",
       "      <td>Dezembro</td>\n",
       "      <td>2014</td>\n",
       "      <td>Tocantins</td>\n",
       "      <td>223</td>\n",
       "    </tr>\n",
       "    <tr>\n",
       "      <th>6452</th>\n",
       "      <td>1/1/2015</td>\n",
       "      <td>Dezembro</td>\n",
       "      <td>2015</td>\n",
       "      <td>Tocantins</td>\n",
       "      <td>373</td>\n",
       "    </tr>\n",
       "    <tr>\n",
       "      <th>6453</th>\n",
       "      <td>1/1/2016</td>\n",
       "      <td>Dezembro</td>\n",
       "      <td>2016</td>\n",
       "      <td>Tocantins</td>\n",
       "      <td>119</td>\n",
       "    </tr>\n",
       "  </tbody>\n",
       "</table>\n",
       "</div>"
      ],
      "text/plain": [
       "          date     month  year      state number_of_fires\n",
       "6449  1/1/2012  Dezembro  2012  Tocantins             128\n",
       "6450  1/1/2013  Dezembro  2013  Tocantins              85\n",
       "6451  1/1/2014  Dezembro  2014  Tocantins             223\n",
       "6452  1/1/2015  Dezembro  2015  Tocantins             373\n",
       "6453  1/1/2016  Dezembro  2016  Tocantins             119"
      ]
     },
     "execution_count": 13,
     "metadata": {},
     "output_type": "execute_result"
    }
   ],
   "source": [
    "df[df['number_of_fires'].astype(str).str.isdigit()].tail()"
   ]
  },
  {
   "cell_type": "code",
   "execution_count": 14,
   "metadata": {},
   "outputs": [
    {
     "data": {
      "text/plain": [
       "132"
      ]
     },
     "execution_count": 14,
     "metadata": {},
     "output_type": "execute_result"
    }
   ],
   "source": [
    "df['number_of_fires'].isnull().sum()"
   ]
  },
  {
   "cell_type": "code",
   "execution_count": 15,
   "metadata": {},
   "outputs": [],
   "source": [
    "df['number_of_fires'] = df['number_of_fires'].str.strip(' Fires')"
   ]
  },
  {
   "cell_type": "code",
   "execution_count": 16,
   "metadata": {},
   "outputs": [
    {
     "data": {
      "text/html": [
       "<div>\n",
       "<style scoped>\n",
       "    .dataframe tbody tr th:only-of-type {\n",
       "        vertical-align: middle;\n",
       "    }\n",
       "\n",
       "    .dataframe tbody tr th {\n",
       "        vertical-align: top;\n",
       "    }\n",
       "\n",
       "    .dataframe thead th {\n",
       "        text-align: right;\n",
       "    }\n",
       "</style>\n",
       "<table border=\"1\" class=\"dataframe\">\n",
       "  <thead>\n",
       "    <tr style=\"text-align: right;\">\n",
       "      <th></th>\n",
       "      <th>date</th>\n",
       "      <th>month</th>\n",
       "      <th>year</th>\n",
       "      <th>state</th>\n",
       "      <th>number_of_fires</th>\n",
       "    </tr>\n",
       "  </thead>\n",
       "  <tbody>\n",
       "    <tr>\n",
       "      <th>0</th>\n",
       "      <td>1/1/1998</td>\n",
       "      <td>Janeiro</td>\n",
       "      <td>1998</td>\n",
       "      <td>Acre</td>\n",
       "      <td>0</td>\n",
       "    </tr>\n",
       "    <tr>\n",
       "      <th>1</th>\n",
       "      <td>1/1/1999</td>\n",
       "      <td>Janeiro</td>\n",
       "      <td>1999</td>\n",
       "      <td>Acre</td>\n",
       "      <td>0</td>\n",
       "    </tr>\n",
       "    <tr>\n",
       "      <th>2</th>\n",
       "      <td>1/1/2000</td>\n",
       "      <td>Janeiro</td>\n",
       "      <td>2000</td>\n",
       "      <td>Acre</td>\n",
       "      <td>0</td>\n",
       "    </tr>\n",
       "    <tr>\n",
       "      <th>3</th>\n",
       "      <td>1/1/2001</td>\n",
       "      <td>Janeiro</td>\n",
       "      <td>2001</td>\n",
       "      <td>Acre</td>\n",
       "      <td>0</td>\n",
       "    </tr>\n",
       "    <tr>\n",
       "      <th>4</th>\n",
       "      <td>1/1/2002</td>\n",
       "      <td>Janeiro</td>\n",
       "      <td>2002</td>\n",
       "      <td>Acre</td>\n",
       "      <td>0</td>\n",
       "    </tr>\n",
       "  </tbody>\n",
       "</table>\n",
       "</div>"
      ],
      "text/plain": [
       "       date    month  year state number_of_fires\n",
       "0  1/1/1998  Janeiro  1998  Acre               0\n",
       "1  1/1/1999  Janeiro  1999  Acre               0\n",
       "2  1/1/2000  Janeiro  2000  Acre               0\n",
       "3  1/1/2001  Janeiro  2001  Acre               0\n",
       "4  1/1/2002  Janeiro  2002  Acre               0"
      ]
     },
     "execution_count": 16,
     "metadata": {},
     "output_type": "execute_result"
    }
   ],
   "source": [
    "df.head()"
   ]
  },
  {
   "cell_type": "code",
   "execution_count": 17,
   "metadata": {},
   "outputs": [
    {
     "name": "stdout",
     "output_type": "stream",
     "text": [
      "<class 'pandas.core.frame.DataFrame'>\n",
      "RangeIndex: 6454 entries, 0 to 6453\n",
      "Data columns (total 5 columns):\n",
      "date               6454 non-null object\n",
      "month              6454 non-null object\n",
      "year               6454 non-null int64\n",
      "state              6454 non-null object\n",
      "number_of_fires    6322 non-null object\n",
      "dtypes: int64(1), object(4)\n",
      "memory usage: 252.2+ KB\n"
     ]
    }
   ],
   "source": [
    "df.info()"
   ]
  },
  {
   "cell_type": "code",
   "execution_count": 18,
   "metadata": {},
   "outputs": [
    {
     "data": {
      "text/html": [
       "<div>\n",
       "<style scoped>\n",
       "    .dataframe tbody tr th:only-of-type {\n",
       "        vertical-align: middle;\n",
       "    }\n",
       "\n",
       "    .dataframe tbody tr th {\n",
       "        vertical-align: top;\n",
       "    }\n",
       "\n",
       "    .dataframe thead th {\n",
       "        text-align: right;\n",
       "    }\n",
       "</style>\n",
       "<table border=\"1\" class=\"dataframe\">\n",
       "  <thead>\n",
       "    <tr style=\"text-align: right;\">\n",
       "      <th></th>\n",
       "      <th>date</th>\n",
       "      <th>month</th>\n",
       "      <th>year</th>\n",
       "      <th>state</th>\n",
       "      <th>number_of_fires</th>\n",
       "    </tr>\n",
       "  </thead>\n",
       "  <tbody>\n",
       "    <tr>\n",
       "      <th>0</th>\n",
       "      <td>1/1/1998</td>\n",
       "      <td>Janeiro</td>\n",
       "      <td>1998</td>\n",
       "      <td>Acre</td>\n",
       "      <td>0.0</td>\n",
       "    </tr>\n",
       "    <tr>\n",
       "      <th>1</th>\n",
       "      <td>1/1/1999</td>\n",
       "      <td>Janeiro</td>\n",
       "      <td>1999</td>\n",
       "      <td>Acre</td>\n",
       "      <td>0.0</td>\n",
       "    </tr>\n",
       "    <tr>\n",
       "      <th>2</th>\n",
       "      <td>1/1/2000</td>\n",
       "      <td>Janeiro</td>\n",
       "      <td>2000</td>\n",
       "      <td>Acre</td>\n",
       "      <td>0.0</td>\n",
       "    </tr>\n",
       "    <tr>\n",
       "      <th>3</th>\n",
       "      <td>1/1/2001</td>\n",
       "      <td>Janeiro</td>\n",
       "      <td>2001</td>\n",
       "      <td>Acre</td>\n",
       "      <td>0.0</td>\n",
       "    </tr>\n",
       "    <tr>\n",
       "      <th>4</th>\n",
       "      <td>1/1/2002</td>\n",
       "      <td>Janeiro</td>\n",
       "      <td>2002</td>\n",
       "      <td>Acre</td>\n",
       "      <td>0.0</td>\n",
       "    </tr>\n",
       "  </tbody>\n",
       "</table>\n",
       "</div>"
      ],
      "text/plain": [
       "       date    month  year state  number_of_fires\n",
       "0  1/1/1998  Janeiro  1998  Acre              0.0\n",
       "1  1/1/1999  Janeiro  1999  Acre              0.0\n",
       "2  1/1/2000  Janeiro  2000  Acre              0.0\n",
       "3  1/1/2001  Janeiro  2001  Acre              0.0\n",
       "4  1/1/2002  Janeiro  2002  Acre              0.0"
      ]
     },
     "execution_count": 18,
     "metadata": {},
     "output_type": "execute_result"
    }
   ],
   "source": [
    "df['number_of_fires'] = df['number_of_fires'].str.replace('', '0').astype(float)\n",
    "\n",
    "df.head()"
   ]
  },
  {
   "cell_type": "markdown",
   "metadata": {},
   "source": [
    "### Handling missing data"
   ]
  },
  {
   "cell_type": "code",
   "execution_count": 19,
   "metadata": {},
   "outputs": [
    {
     "data": {
      "text/html": [
       "<div>\n",
       "<style scoped>\n",
       "    .dataframe tbody tr th:only-of-type {\n",
       "        vertical-align: middle;\n",
       "    }\n",
       "\n",
       "    .dataframe tbody tr th {\n",
       "        vertical-align: top;\n",
       "    }\n",
       "\n",
       "    .dataframe thead th {\n",
       "        text-align: right;\n",
       "    }\n",
       "</style>\n",
       "<table border=\"1\" class=\"dataframe\">\n",
       "  <thead>\n",
       "    <tr style=\"text-align: right;\">\n",
       "      <th></th>\n",
       "      <th>year</th>\n",
       "      <th>month</th>\n",
       "      <th>state</th>\n",
       "      <th>number_of_fires</th>\n",
       "      <th>date</th>\n",
       "    </tr>\n",
       "  </thead>\n",
       "  <tbody>\n",
       "    <tr>\n",
       "      <th>0</th>\n",
       "      <td>1998</td>\n",
       "      <td>Janeiro</td>\n",
       "      <td>Acre</td>\n",
       "      <td>0</td>\n",
       "      <td>1/1/1998</td>\n",
       "    </tr>\n",
       "    <tr>\n",
       "      <th>1</th>\n",
       "      <td>1999</td>\n",
       "      <td>Janeiro</td>\n",
       "      <td>Acre</td>\n",
       "      <td>0</td>\n",
       "      <td>1/1/1999</td>\n",
       "    </tr>\n",
       "    <tr>\n",
       "      <th>2</th>\n",
       "      <td>2000</td>\n",
       "      <td>Janeiro</td>\n",
       "      <td>Acre</td>\n",
       "      <td>0</td>\n",
       "      <td>1/1/2000</td>\n",
       "    </tr>\n",
       "    <tr>\n",
       "      <th>3</th>\n",
       "      <td>2001</td>\n",
       "      <td>Janeiro</td>\n",
       "      <td>Acre</td>\n",
       "      <td>0</td>\n",
       "      <td>1/1/2001</td>\n",
       "    </tr>\n",
       "    <tr>\n",
       "      <th>4</th>\n",
       "      <td>2002</td>\n",
       "      <td>Janeiro</td>\n",
       "      <td>Acre</td>\n",
       "      <td>0</td>\n",
       "      <td>1/1/2002</td>\n",
       "    </tr>\n",
       "  </tbody>\n",
       "</table>\n",
       "</div>"
      ],
      "text/plain": [
       "   year    month state number_of_fires      date\n",
       "0  1998  Janeiro  Acre               0  1/1/1998\n",
       "1  1999  Janeiro  Acre               0  1/1/1999\n",
       "2  2000  Janeiro  Acre               0  1/1/2000\n",
       "3  2001  Janeiro  Acre               0  1/1/2001\n",
       "4  2002  Janeiro  Acre               0  1/1/2002"
      ]
     },
     "execution_count": 19,
     "metadata": {},
     "output_type": "execute_result"
    }
   ],
   "source": [
    "df = pd.read_csv('Datasets/amazon_fires.csv', encoding='ISO-8859-1')\n",
    "new_cols = {'ano': 'year',\n",
    "           'estado': 'state',\n",
    "           'mes': 'month',\n",
    "           'numero': 'number_of_fires',\n",
    "           'encontro': 'date'}\n",
    "\n",
    "df.rename(columns=new_cols, inplace=True)\n",
    "df['number_of_fires'] = df['number_of_fires'].str.strip(' Fires')\n",
    "df_copy = df.copy()\n",
    "df_copy.head()"
   ]
  },
  {
   "cell_type": "code",
   "execution_count": 20,
   "metadata": {},
   "outputs": [
    {
     "data": {
      "text/plain": [
       "year                 0\n",
       "month                0\n",
       "state                0\n",
       "number_of_fires    132\n",
       "date                 0\n",
       "dtype: int64"
      ]
     },
     "execution_count": 20,
     "metadata": {},
     "output_type": "execute_result"
    }
   ],
   "source": [
    "df.isnull().sum()"
   ]
  },
  {
   "cell_type": "code",
   "execution_count": 21,
   "metadata": {},
   "outputs": [],
   "source": [
    "df = df.dropna()"
   ]
  },
  {
   "cell_type": "code",
   "execution_count": 22,
   "metadata": {},
   "outputs": [
    {
     "data": {
      "text/html": [
       "<div>\n",
       "<style scoped>\n",
       "    .dataframe tbody tr th:only-of-type {\n",
       "        vertical-align: middle;\n",
       "    }\n",
       "\n",
       "    .dataframe tbody tr th {\n",
       "        vertical-align: top;\n",
       "    }\n",
       "\n",
       "    .dataframe thead th {\n",
       "        text-align: right;\n",
       "    }\n",
       "</style>\n",
       "<table border=\"1\" class=\"dataframe\">\n",
       "  <thead>\n",
       "    <tr style=\"text-align: right;\">\n",
       "      <th></th>\n",
       "      <th>index</th>\n",
       "      <th>year</th>\n",
       "      <th>month</th>\n",
       "      <th>state</th>\n",
       "      <th>number_of_fires</th>\n",
       "      <th>date</th>\n",
       "    </tr>\n",
       "  </thead>\n",
       "  <tbody>\n",
       "    <tr>\n",
       "      <th>0</th>\n",
       "      <td>0</td>\n",
       "      <td>1998</td>\n",
       "      <td>Janeiro</td>\n",
       "      <td>Acre</td>\n",
       "      <td>0</td>\n",
       "      <td>1/1/1998</td>\n",
       "    </tr>\n",
       "    <tr>\n",
       "      <th>1</th>\n",
       "      <td>1</td>\n",
       "      <td>1999</td>\n",
       "      <td>Janeiro</td>\n",
       "      <td>Acre</td>\n",
       "      <td>0</td>\n",
       "      <td>1/1/1999</td>\n",
       "    </tr>\n",
       "    <tr>\n",
       "      <th>2</th>\n",
       "      <td>2</td>\n",
       "      <td>2000</td>\n",
       "      <td>Janeiro</td>\n",
       "      <td>Acre</td>\n",
       "      <td>0</td>\n",
       "      <td>1/1/2000</td>\n",
       "    </tr>\n",
       "    <tr>\n",
       "      <th>3</th>\n",
       "      <td>3</td>\n",
       "      <td>2001</td>\n",
       "      <td>Janeiro</td>\n",
       "      <td>Acre</td>\n",
       "      <td>0</td>\n",
       "      <td>1/1/2001</td>\n",
       "    </tr>\n",
       "    <tr>\n",
       "      <th>4</th>\n",
       "      <td>4</td>\n",
       "      <td>2002</td>\n",
       "      <td>Janeiro</td>\n",
       "      <td>Acre</td>\n",
       "      <td>0</td>\n",
       "      <td>1/1/2002</td>\n",
       "    </tr>\n",
       "    <tr>\n",
       "      <th>...</th>\n",
       "      <td>...</td>\n",
       "      <td>...</td>\n",
       "      <td>...</td>\n",
       "      <td>...</td>\n",
       "      <td>...</td>\n",
       "      <td>...</td>\n",
       "    </tr>\n",
       "    <tr>\n",
       "      <th>6317</th>\n",
       "      <td>6449</td>\n",
       "      <td>2012</td>\n",
       "      <td>Dezembro</td>\n",
       "      <td>Tocantins</td>\n",
       "      <td>128</td>\n",
       "      <td>1/1/2012</td>\n",
       "    </tr>\n",
       "    <tr>\n",
       "      <th>6318</th>\n",
       "      <td>6450</td>\n",
       "      <td>2013</td>\n",
       "      <td>Dezembro</td>\n",
       "      <td>Tocantins</td>\n",
       "      <td>85</td>\n",
       "      <td>1/1/2013</td>\n",
       "    </tr>\n",
       "    <tr>\n",
       "      <th>6319</th>\n",
       "      <td>6451</td>\n",
       "      <td>2014</td>\n",
       "      <td>Dezembro</td>\n",
       "      <td>Tocantins</td>\n",
       "      <td>223</td>\n",
       "      <td>1/1/2014</td>\n",
       "    </tr>\n",
       "    <tr>\n",
       "      <th>6320</th>\n",
       "      <td>6452</td>\n",
       "      <td>2015</td>\n",
       "      <td>Dezembro</td>\n",
       "      <td>Tocantins</td>\n",
       "      <td>373</td>\n",
       "      <td>1/1/2015</td>\n",
       "    </tr>\n",
       "    <tr>\n",
       "      <th>6321</th>\n",
       "      <td>6453</td>\n",
       "      <td>2016</td>\n",
       "      <td>Dezembro</td>\n",
       "      <td>Tocantins</td>\n",
       "      <td>119</td>\n",
       "      <td>1/1/2016</td>\n",
       "    </tr>\n",
       "  </tbody>\n",
       "</table>\n",
       "<p>6322 rows × 6 columns</p>\n",
       "</div>"
      ],
      "text/plain": [
       "      index  year     month      state number_of_fires      date\n",
       "0         0  1998   Janeiro       Acre               0  1/1/1998\n",
       "1         1  1999   Janeiro       Acre               0  1/1/1999\n",
       "2         2  2000   Janeiro       Acre               0  1/1/2000\n",
       "3         3  2001   Janeiro       Acre               0  1/1/2001\n",
       "4         4  2002   Janeiro       Acre               0  1/1/2002\n",
       "...     ...   ...       ...        ...             ...       ...\n",
       "6317   6449  2012  Dezembro  Tocantins             128  1/1/2012\n",
       "6318   6450  2013  Dezembro  Tocantins              85  1/1/2013\n",
       "6319   6451  2014  Dezembro  Tocantins             223  1/1/2014\n",
       "6320   6452  2015  Dezembro  Tocantins             373  1/1/2015\n",
       "6321   6453  2016  Dezembro  Tocantins             119  1/1/2016\n",
       "\n",
       "[6322 rows x 6 columns]"
      ]
     },
     "execution_count": 22,
     "metadata": {},
     "output_type": "execute_result"
    }
   ],
   "source": [
    "df.reset_index()"
   ]
  },
  {
   "cell_type": "code",
   "execution_count": 23,
   "metadata": {},
   "outputs": [
    {
     "data": {
      "text/html": [
       "<div>\n",
       "<style scoped>\n",
       "    .dataframe tbody tr th:only-of-type {\n",
       "        vertical-align: middle;\n",
       "    }\n",
       "\n",
       "    .dataframe tbody tr th {\n",
       "        vertical-align: top;\n",
       "    }\n",
       "\n",
       "    .dataframe thead th {\n",
       "        text-align: right;\n",
       "    }\n",
       "</style>\n",
       "<table border=\"1\" class=\"dataframe\">\n",
       "  <thead>\n",
       "    <tr style=\"text-align: right;\">\n",
       "      <th></th>\n",
       "      <th>year</th>\n",
       "      <th>month</th>\n",
       "      <th>state</th>\n",
       "      <th>number_of_fires</th>\n",
       "      <th>date</th>\n",
       "    </tr>\n",
       "  </thead>\n",
       "  <tbody>\n",
       "    <tr>\n",
       "      <th>0</th>\n",
       "      <td>1998</td>\n",
       "      <td>Janeiro</td>\n",
       "      <td>Acre</td>\n",
       "      <td>0</td>\n",
       "      <td>1/1/1998</td>\n",
       "    </tr>\n",
       "    <tr>\n",
       "      <th>1</th>\n",
       "      <td>1999</td>\n",
       "      <td>Janeiro</td>\n",
       "      <td>Acre</td>\n",
       "      <td>0</td>\n",
       "      <td>1/1/1999</td>\n",
       "    </tr>\n",
       "    <tr>\n",
       "      <th>2</th>\n",
       "      <td>2000</td>\n",
       "      <td>Janeiro</td>\n",
       "      <td>Acre</td>\n",
       "      <td>0</td>\n",
       "      <td>1/1/2000</td>\n",
       "    </tr>\n",
       "    <tr>\n",
       "      <th>3</th>\n",
       "      <td>2001</td>\n",
       "      <td>Janeiro</td>\n",
       "      <td>Acre</td>\n",
       "      <td>0</td>\n",
       "      <td>1/1/2001</td>\n",
       "    </tr>\n",
       "    <tr>\n",
       "      <th>4</th>\n",
       "      <td>2002</td>\n",
       "      <td>Janeiro</td>\n",
       "      <td>Acre</td>\n",
       "      <td>0</td>\n",
       "      <td>1/1/2002</td>\n",
       "    </tr>\n",
       "  </tbody>\n",
       "</table>\n",
       "</div>"
      ],
      "text/plain": [
       "   year    month state number_of_fires      date\n",
       "0  1998  Janeiro  Acre               0  1/1/1998\n",
       "1  1999  Janeiro  Acre               0  1/1/1999\n",
       "2  2000  Janeiro  Acre               0  1/1/2000\n",
       "3  2001  Janeiro  Acre               0  1/1/2001\n",
       "4  2002  Janeiro  Acre               0  1/1/2002"
      ]
     },
     "execution_count": 23,
     "metadata": {},
     "output_type": "execute_result"
    }
   ],
   "source": [
    "df.head()"
   ]
  },
  {
   "cell_type": "code",
   "execution_count": 24,
   "metadata": {},
   "outputs": [
    {
     "data": {
      "text/html": [
       "<div>\n",
       "<style scoped>\n",
       "    .dataframe tbody tr th:only-of-type {\n",
       "        vertical-align: middle;\n",
       "    }\n",
       "\n",
       "    .dataframe tbody tr th {\n",
       "        vertical-align: top;\n",
       "    }\n",
       "\n",
       "    .dataframe thead th {\n",
       "        text-align: right;\n",
       "    }\n",
       "</style>\n",
       "<table border=\"1\" class=\"dataframe\">\n",
       "  <thead>\n",
       "    <tr style=\"text-align: right;\">\n",
       "      <th></th>\n",
       "      <th>year</th>\n",
       "      <th>month</th>\n",
       "      <th>state</th>\n",
       "      <th>number_of_fires</th>\n",
       "      <th>date</th>\n",
       "    </tr>\n",
       "  </thead>\n",
       "  <tbody>\n",
       "    <tr>\n",
       "      <th>0</th>\n",
       "      <td>1998</td>\n",
       "      <td>Janeiro</td>\n",
       "      <td>Acre</td>\n",
       "      <td>0</td>\n",
       "      <td>1/1/1998</td>\n",
       "    </tr>\n",
       "    <tr>\n",
       "      <th>1</th>\n",
       "      <td>1999</td>\n",
       "      <td>Janeiro</td>\n",
       "      <td>Acre</td>\n",
       "      <td>0</td>\n",
       "      <td>1/1/1999</td>\n",
       "    </tr>\n",
       "    <tr>\n",
       "      <th>2</th>\n",
       "      <td>2000</td>\n",
       "      <td>Janeiro</td>\n",
       "      <td>Acre</td>\n",
       "      <td>0</td>\n",
       "      <td>1/1/2000</td>\n",
       "    </tr>\n",
       "    <tr>\n",
       "      <th>3</th>\n",
       "      <td>2001</td>\n",
       "      <td>Janeiro</td>\n",
       "      <td>Acre</td>\n",
       "      <td>0</td>\n",
       "      <td>1/1/2001</td>\n",
       "    </tr>\n",
       "    <tr>\n",
       "      <th>4</th>\n",
       "      <td>2002</td>\n",
       "      <td>Janeiro</td>\n",
       "      <td>Acre</td>\n",
       "      <td>0</td>\n",
       "      <td>1/1/2002</td>\n",
       "    </tr>\n",
       "  </tbody>\n",
       "</table>\n",
       "</div>"
      ],
      "text/plain": [
       "   year    month state number_of_fires      date\n",
       "0  1998  Janeiro  Acre               0  1/1/1998\n",
       "1  1999  Janeiro  Acre               0  1/1/1999\n",
       "2  2000  Janeiro  Acre               0  1/1/2000\n",
       "3  2001  Janeiro  Acre               0  1/1/2001\n",
       "4  2002  Janeiro  Acre               0  1/1/2002"
      ]
     },
     "execution_count": 24,
     "metadata": {},
     "output_type": "execute_result"
    }
   ],
   "source": [
    "df = pd.read_csv('Datasets/amazon_fires.csv', encoding='ISO-8859-1')\n",
    "new_cols = {'ano': 'year',\n",
    "           'estado': 'state',\n",
    "           'mes': 'month',\n",
    "           'numero': 'number_of_fires',\n",
    "           'encontro': 'date'}\n",
    "\n",
    "df.rename(columns=new_cols, inplace=True)\n",
    "df['number_of_fires'] = df['number_of_fires'].str.strip(' Fires')\n",
    "df_copy = df.copy()\n",
    "df_copy.head()"
   ]
  },
  {
   "cell_type": "code",
   "execution_count": 25,
   "metadata": {},
   "outputs": [
    {
     "data": {
      "text/plain": [
       "year                 0\n",
       "month                0\n",
       "state                0\n",
       "number_of_fires    132\n",
       "date                 0\n",
       "dtype: int64"
      ]
     },
     "execution_count": 25,
     "metadata": {},
     "output_type": "execute_result"
    }
   ],
   "source": [
    "df.isnull().sum()"
   ]
  },
  {
   "cell_type": "code",
   "execution_count": 26,
   "metadata": {},
   "outputs": [
    {
     "data": {
      "text/plain": [
       "0    0\n",
       "1    0\n",
       "2    0\n",
       "3    0\n",
       "4    0\n",
       "Name: number_of_fires, dtype: object"
      ]
     },
     "execution_count": 26,
     "metadata": {},
     "output_type": "execute_result"
    }
   ],
   "source": [
    "df['number_of_fires'].fillna(0).head()"
   ]
  },
  {
   "cell_type": "code",
   "execution_count": 27,
   "metadata": {},
   "outputs": [],
   "source": [
    "df['number_of_fires'] = df['number_of_fires'].fillna(method='backfill')"
   ]
  },
  {
   "cell_type": "code",
   "execution_count": 28,
   "metadata": {},
   "outputs": [
    {
     "data": {
      "text/plain": [
       "year                   2002\n",
       "month              Novembro\n",
       "state               alagoas\n",
       "number_of_fires          17\n",
       "date               1/1/2002\n",
       "Name: 444, dtype: object"
      ]
     },
     "execution_count": 28,
     "metadata": {},
     "output_type": "execute_result"
    }
   ],
   "source": [
    "df.iloc[444]"
   ]
  },
  {
   "cell_type": "code",
   "execution_count": 30,
   "metadata": {},
   "outputs": [
    {
     "data": {
      "text/plain": [
       "array(['Janeiro', 'Fevereiro', 'Março', 'Abril', 'Maio', 'Junho', 'Julho',\n",
       "       'Agosto', 'Setembro', 'Outubro', 'Novembro', 'Dezembro'],\n",
       "      dtype=object)"
      ]
     },
     "execution_count": 30,
     "metadata": {},
     "output_type": "execute_result"
    }
   ],
   "source": [
    "df['month'].unique()"
   ]
  },
  {
   "cell_type": "code",
   "execution_count": 31,
   "metadata": {},
   "outputs": [],
   "source": [
    "month_translations = {\n",
    "    'Janeiro': 'January', 'Fevereiro': 'February', 'Março': 'March', 'Abril': 'April', 'Maio': 'May', 'Junho': 'June', 'Julho': 'July',\n",
    "       'Agosto': 'August', 'Setembro': 'September', 'Outubro': 'October', 'Novembro': 'November', 'Dezembro': 'December'\n",
    "}\n",
    "\n",
    "df['month'] = df['month'].map(month_translations)"
   ]
  },
  {
   "cell_type": "code",
   "execution_count": 32,
   "metadata": {},
   "outputs": [
    {
     "data": {
      "text/html": [
       "<div>\n",
       "<style scoped>\n",
       "    .dataframe tbody tr th:only-of-type {\n",
       "        vertical-align: middle;\n",
       "    }\n",
       "\n",
       "    .dataframe tbody tr th {\n",
       "        vertical-align: top;\n",
       "    }\n",
       "\n",
       "    .dataframe thead th {\n",
       "        text-align: right;\n",
       "    }\n",
       "</style>\n",
       "<table border=\"1\" class=\"dataframe\">\n",
       "  <thead>\n",
       "    <tr style=\"text-align: right;\">\n",
       "      <th></th>\n",
       "      <th>year</th>\n",
       "      <th>month</th>\n",
       "      <th>state</th>\n",
       "      <th>number_of_fires</th>\n",
       "      <th>date</th>\n",
       "    </tr>\n",
       "  </thead>\n",
       "  <tbody>\n",
       "    <tr>\n",
       "      <th>0</th>\n",
       "      <td>1998</td>\n",
       "      <td>January</td>\n",
       "      <td>Acre</td>\n",
       "      <td>0</td>\n",
       "      <td>1/1/1998</td>\n",
       "    </tr>\n",
       "    <tr>\n",
       "      <th>1</th>\n",
       "      <td>1999</td>\n",
       "      <td>January</td>\n",
       "      <td>Acre</td>\n",
       "      <td>0</td>\n",
       "      <td>1/1/1999</td>\n",
       "    </tr>\n",
       "    <tr>\n",
       "      <th>2</th>\n",
       "      <td>2000</td>\n",
       "      <td>January</td>\n",
       "      <td>Acre</td>\n",
       "      <td>0</td>\n",
       "      <td>1/1/2000</td>\n",
       "    </tr>\n",
       "    <tr>\n",
       "      <th>3</th>\n",
       "      <td>2001</td>\n",
       "      <td>January</td>\n",
       "      <td>Acre</td>\n",
       "      <td>0</td>\n",
       "      <td>1/1/2001</td>\n",
       "    </tr>\n",
       "    <tr>\n",
       "      <th>4</th>\n",
       "      <td>2002</td>\n",
       "      <td>January</td>\n",
       "      <td>Acre</td>\n",
       "      <td>0</td>\n",
       "      <td>1/1/2002</td>\n",
       "    </tr>\n",
       "  </tbody>\n",
       "</table>\n",
       "</div>"
      ],
      "text/plain": [
       "   year    month state number_of_fires      date\n",
       "0  1998  January  Acre               0  1/1/1998\n",
       "1  1999  January  Acre               0  1/1/1999\n",
       "2  2000  January  Acre               0  1/1/2000\n",
       "3  2001  January  Acre               0  1/1/2001\n",
       "4  2002  January  Acre               0  1/1/2002"
      ]
     },
     "execution_count": 32,
     "metadata": {},
     "output_type": "execute_result"
    }
   ],
   "source": [
    "df.head()"
   ]
  },
  {
   "cell_type": "code",
   "execution_count": 38,
   "metadata": {},
   "outputs": [],
   "source": [
    "df['state'] = df['state'].str.title()"
   ]
  },
  {
   "cell_type": "code",
   "execution_count": 39,
   "metadata": {},
   "outputs": [
    {
     "data": {
      "text/plain": [
       "array(['Acre', 'Alagoas', 'Amapa', 'Amazonas', 'Bahia', 'Ceara',\n",
       "       'Distrito Federal', 'Espirito Santo', 'Goias', 'Maranhao',\n",
       "       'Mato Grosso', 'Minas Gerais', 'Pará', 'Paraiba', 'Pernambuco',\n",
       "       'Piau', 'Rio', 'Rondonia', 'Roraima', 'Santa Catarina',\n",
       "       'Sao Paulo', 'Sergipe', 'Tocantins'], dtype=object)"
      ]
     },
     "execution_count": 39,
     "metadata": {},
     "output_type": "execute_result"
    }
   ],
   "source": [
    "df['state'].unique()"
   ]
  },
  {
   "cell_type": "code",
   "execution_count": 40,
   "metadata": {},
   "outputs": [
    {
     "data": {
      "text/html": [
       "<div>\n",
       "<style scoped>\n",
       "    .dataframe tbody tr th:only-of-type {\n",
       "        vertical-align: middle;\n",
       "    }\n",
       "\n",
       "    .dataframe tbody tr th {\n",
       "        vertical-align: top;\n",
       "    }\n",
       "\n",
       "    .dataframe thead th {\n",
       "        text-align: right;\n",
       "    }\n",
       "</style>\n",
       "<table border=\"1\" class=\"dataframe\">\n",
       "  <thead>\n",
       "    <tr style=\"text-align: right;\">\n",
       "      <th></th>\n",
       "      <th>year</th>\n",
       "      <th>month</th>\n",
       "      <th>state</th>\n",
       "      <th>number_of_fires</th>\n",
       "      <th>date</th>\n",
       "    </tr>\n",
       "  </thead>\n",
       "  <tbody>\n",
       "    <tr>\n",
       "      <th>0</th>\n",
       "      <td>1998</td>\n",
       "      <td>January</td>\n",
       "      <td>Acre</td>\n",
       "      <td>0</td>\n",
       "      <td>1/1/1998</td>\n",
       "    </tr>\n",
       "    <tr>\n",
       "      <th>1</th>\n",
       "      <td>1999</td>\n",
       "      <td>January</td>\n",
       "      <td>Acre</td>\n",
       "      <td>0</td>\n",
       "      <td>1/1/1999</td>\n",
       "    </tr>\n",
       "    <tr>\n",
       "      <th>2</th>\n",
       "      <td>2000</td>\n",
       "      <td>January</td>\n",
       "      <td>Acre</td>\n",
       "      <td>0</td>\n",
       "      <td>1/1/2000</td>\n",
       "    </tr>\n",
       "    <tr>\n",
       "      <th>3</th>\n",
       "      <td>2001</td>\n",
       "      <td>January</td>\n",
       "      <td>Acre</td>\n",
       "      <td>0</td>\n",
       "      <td>1/1/2001</td>\n",
       "    </tr>\n",
       "    <tr>\n",
       "      <th>4</th>\n",
       "      <td>2002</td>\n",
       "      <td>January</td>\n",
       "      <td>Acre</td>\n",
       "      <td>0</td>\n",
       "      <td>1/1/2002</td>\n",
       "    </tr>\n",
       "  </tbody>\n",
       "</table>\n",
       "</div>"
      ],
      "text/plain": [
       "   year    month state number_of_fires      date\n",
       "0  1998  January  Acre               0  1/1/1998\n",
       "1  1999  January  Acre               0  1/1/1999\n",
       "2  2000  January  Acre               0  1/1/2000\n",
       "3  2001  January  Acre               0  1/1/2001\n",
       "4  2002  January  Acre               0  1/1/2002"
      ]
     },
     "execution_count": 40,
     "metadata": {},
     "output_type": "execute_result"
    }
   ],
   "source": [
    "df.head()"
   ]
  },
  {
   "cell_type": "code",
   "execution_count": 44,
   "metadata": {},
   "outputs": [
    {
     "data": {
      "text/html": [
       "<div>\n",
       "<style scoped>\n",
       "    .dataframe tbody tr th:only-of-type {\n",
       "        vertical-align: middle;\n",
       "    }\n",
       "\n",
       "    .dataframe tbody tr th {\n",
       "        vertical-align: top;\n",
       "    }\n",
       "\n",
       "    .dataframe thead th {\n",
       "        text-align: right;\n",
       "    }\n",
       "</style>\n",
       "<table border=\"1\" class=\"dataframe\">\n",
       "  <thead>\n",
       "    <tr style=\"text-align: right;\">\n",
       "      <th></th>\n",
       "      <th>index</th>\n",
       "      <th>year</th>\n",
       "      <th>month</th>\n",
       "      <th>state</th>\n",
       "      <th>number_of_fires</th>\n",
       "      <th>date</th>\n",
       "    </tr>\n",
       "  </thead>\n",
       "  <tbody>\n",
       "    <tr>\n",
       "      <th>0</th>\n",
       "      <td>3</td>\n",
       "      <td>2001</td>\n",
       "      <td>January</td>\n",
       "      <td>Acre</td>\n",
       "      <td>0</td>\n",
       "      <td>1/1/2001</td>\n",
       "    </tr>\n",
       "    <tr>\n",
       "      <th>1</th>\n",
       "      <td>4</td>\n",
       "      <td>2002</td>\n",
       "      <td>January</td>\n",
       "      <td>Acre</td>\n",
       "      <td>0</td>\n",
       "      <td>1/1/2002</td>\n",
       "    </tr>\n",
       "    <tr>\n",
       "      <th>2</th>\n",
       "      <td>5</td>\n",
       "      <td>2003</td>\n",
       "      <td>January</td>\n",
       "      <td>Acre</td>\n",
       "      <td>10</td>\n",
       "      <td>1/1/2003</td>\n",
       "    </tr>\n",
       "    <tr>\n",
       "      <th>3</th>\n",
       "      <td>6</td>\n",
       "      <td>2004</td>\n",
       "      <td>January</td>\n",
       "      <td>Acre</td>\n",
       "      <td>0</td>\n",
       "      <td>1/1/2004</td>\n",
       "    </tr>\n",
       "    <tr>\n",
       "      <th>4</th>\n",
       "      <td>7</td>\n",
       "      <td>2005</td>\n",
       "      <td>January</td>\n",
       "      <td>Acre</td>\n",
       "      <td>12</td>\n",
       "      <td>1/1/2005</td>\n",
       "    </tr>\n",
       "    <tr>\n",
       "      <th>...</th>\n",
       "      <td>...</td>\n",
       "      <td>...</td>\n",
       "      <td>...</td>\n",
       "      <td>...</td>\n",
       "      <td>...</td>\n",
       "      <td>...</td>\n",
       "    </tr>\n",
       "    <tr>\n",
       "      <th>6446</th>\n",
       "      <td>6449</td>\n",
       "      <td>2012</td>\n",
       "      <td>December</td>\n",
       "      <td>Tocantins</td>\n",
       "      <td>128</td>\n",
       "      <td>1/1/2012</td>\n",
       "    </tr>\n",
       "    <tr>\n",
       "      <th>6447</th>\n",
       "      <td>6450</td>\n",
       "      <td>2013</td>\n",
       "      <td>December</td>\n",
       "      <td>Tocantins</td>\n",
       "      <td>85</td>\n",
       "      <td>1/1/2013</td>\n",
       "    </tr>\n",
       "    <tr>\n",
       "      <th>6448</th>\n",
       "      <td>6451</td>\n",
       "      <td>2014</td>\n",
       "      <td>December</td>\n",
       "      <td>Tocantins</td>\n",
       "      <td>223</td>\n",
       "      <td>1/1/2014</td>\n",
       "    </tr>\n",
       "    <tr>\n",
       "      <th>6449</th>\n",
       "      <td>6452</td>\n",
       "      <td>2015</td>\n",
       "      <td>December</td>\n",
       "      <td>Tocantins</td>\n",
       "      <td>373</td>\n",
       "      <td>1/1/2015</td>\n",
       "    </tr>\n",
       "    <tr>\n",
       "      <th>6450</th>\n",
       "      <td>6453</td>\n",
       "      <td>2016</td>\n",
       "      <td>December</td>\n",
       "      <td>Tocantins</td>\n",
       "      <td>119</td>\n",
       "      <td>1/1/2016</td>\n",
       "    </tr>\n",
       "  </tbody>\n",
       "</table>\n",
       "<p>6451 rows × 6 columns</p>\n",
       "</div>"
      ],
      "text/plain": [
       "      index  year     month      state number_of_fires      date\n",
       "0         3  2001   January       Acre               0  1/1/2001\n",
       "1         4  2002   January       Acre               0  1/1/2002\n",
       "2         5  2003   January       Acre              10  1/1/2003\n",
       "3         6  2004   January       Acre               0  1/1/2004\n",
       "4         7  2005   January       Acre              12  1/1/2005\n",
       "...     ...   ...       ...        ...             ...       ...\n",
       "6446   6449  2012  December  Tocantins             128  1/1/2012\n",
       "6447   6450  2013  December  Tocantins              85  1/1/2013\n",
       "6448   6451  2014  December  Tocantins             223  1/1/2014\n",
       "6449   6452  2015  December  Tocantins             373  1/1/2015\n",
       "6450   6453  2016  December  Tocantins             119  1/1/2016\n",
       "\n",
       "[6451 rows x 6 columns]"
      ]
     },
     "execution_count": 44,
     "metadata": {},
     "output_type": "execute_result"
    }
   ],
   "source": [
    "df.drop(df.index[[0, 1]], inplace=True)\n",
    "df.reset_index()"
   ]
  },
  {
   "cell_type": "code",
   "execution_count": null,
   "metadata": {},
   "outputs": [],
   "source": []
  }
 ],
 "metadata": {
  "kernelspec": {
   "display_name": "Python 3",
   "language": "python",
   "name": "python3"
  },
  "language_info": {
   "codemirror_mode": {
    "name": "ipython",
    "version": 3
   },
   "file_extension": ".py",
   "mimetype": "text/x-python",
   "name": "python",
   "nbconvert_exporter": "python",
   "pygments_lexer": "ipython3",
   "version": "3.7.6"
  }
 },
 "nbformat": 4,
 "nbformat_minor": 2
}
