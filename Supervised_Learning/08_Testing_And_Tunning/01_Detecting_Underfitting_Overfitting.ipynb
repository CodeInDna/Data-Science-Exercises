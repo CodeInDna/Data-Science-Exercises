{
 "cells": [
  {
   "cell_type": "markdown",
   "metadata": {},
   "source": [
    "## QUIZ: Detect Overfitting and Underfitting with Learning Curves"
   ]
  },
  {
   "cell_type": "markdown",
   "metadata": {},
   "source": [
    "For this quiz, we'll be using three models to train the circular dataset below.\n",
    "\n",
    "* A Decision Tree model,\n",
    "* a Logistic Regression model, and\n",
    "* a Support Vector Machine model."
   ]
  },
  {
   "cell_type": "markdown",
   "metadata": {},
   "source": [
    "<img style=\"float: left;\" src=\"images/Data.png\" width=\"400\">"
   ]
  },
  {
   "cell_type": "markdown",
   "metadata": {},
   "source": [
    "One of the models **overfits**, one **underfits**, and the other one is **just right**. First, we'll write some code to draw the learning curves for each model, and finally we'll look at the learning curves to decide which model is which.\n",
    "\n",
    "First, let's remember that the way the curves look for the three models, is as follows:"
   ]
  },
  {
   "cell_type": "markdown",
   "metadata": {},
   "source": [
    "<img src=\"images/learning-curves.png\" width=\"700\" style=\"float: left;\">"
   ]
  },
  {
   "cell_type": "markdown",
   "metadata": {},
   "source": [
    "For the first part of the quiz, all you need is to uncomment one of the classifiers, and hit 'Test Run' to see the graph of the Learning Curve. But if you like coding, here are some details. We'll be using the function called **learning_curve**:\n",
    "\n",
    "> **train_sizes, train_scores, test_scores = learning_curve(\n",
    "    estimator, X, y, cv=None, n_jobs=1, train_sizes=np.linspace(.1, 1.0, num_trainings))**\n",
    "    \n",
    "No need to worry about all the parameters of this function (you can read some more in here, but here we'll explain the main ones:\n",
    "\n",
    "* **estimator**, is the actual classifier we're using for the data, e.g., \n",
    "* **LogisticRegression()** or **GradientBoostingClassifier()**.\n",
    "* X and y is our data, split into features and labels.\n",
    "* **train_sizes** are the sizes of the chunks of data used to draw each point in the curve.\n",
    "* **train_scores** are the training scores for the algorithm trained on each chunk of data.\n",
    "* **test_scores** are the testing scores for the algorithm trained on each chunk of data.\n",
    "\n",
    "Two very important observations:\n",
    "\n",
    "* The training and testing scores come in as a list of 3 values, and this is because the function uses 3-Fold Cross-Validation.\n",
    "* **Very important:** As you can see, we defined our curves with Training and Testing **Error**, and this function defines them with Training and Testing Score. These are opposite, so the higher the error, the lower the score. Thus, when you see the curve, you need to flip it upside down in your mind, in order to compare it with the curves above or (use 1-training score, 1- testing_score).\n",
    "\n",
    "**Part 1: Drawing the learning curves**\n",
    "\n",
    "In here, we'll be comparing three models:\n",
    "\n",
    "* A **Logistic Regression** model.\n",
    "* A **Decision Tree** model.\n",
    "* A **Support Vector Machine** model with an rbf kernel, and a gamma parameter of 1000 (we'll learn what these mean later).\n",
    "\n",
    "Uncomment the code for each one, and examine the learning curve that gets drawn. If you're curious about the code used to draw the learning curves, it's on the **utils.py** tab.\n"
   ]
  },
  {
   "cell_type": "code",
   "execution_count": 1,
   "metadata": {},
   "outputs": [
    {
     "data": {
      "text/html": [
       "<div>\n",
       "<style scoped>\n",
       "    .dataframe tbody tr th:only-of-type {\n",
       "        vertical-align: middle;\n",
       "    }\n",
       "\n",
       "    .dataframe tbody tr th {\n",
       "        vertical-align: top;\n",
       "    }\n",
       "\n",
       "    .dataframe thead th {\n",
       "        text-align: right;\n",
       "    }\n",
       "</style>\n",
       "<table border=\"1\" class=\"dataframe\">\n",
       "  <thead>\n",
       "    <tr style=\"text-align: right;\">\n",
       "      <th></th>\n",
       "      <th>x1</th>\n",
       "      <th>x2</th>\n",
       "      <th>y</th>\n",
       "    </tr>\n",
       "  </thead>\n",
       "  <tbody>\n",
       "    <tr>\n",
       "      <td>0</td>\n",
       "      <td>0.336494</td>\n",
       "      <td>-0.985951</td>\n",
       "      <td>-1.0</td>\n",
       "    </tr>\n",
       "    <tr>\n",
       "      <td>1</td>\n",
       "      <td>-0.011043</td>\n",
       "      <td>-0.105529</td>\n",
       "      <td>1.0</td>\n",
       "    </tr>\n",
       "    <tr>\n",
       "      <td>2</td>\n",
       "      <td>0.238160</td>\n",
       "      <td>-0.617417</td>\n",
       "      <td>1.0</td>\n",
       "    </tr>\n",
       "    <tr>\n",
       "      <td>3</td>\n",
       "      <td>-0.366783</td>\n",
       "      <td>-0.713819</td>\n",
       "      <td>1.0</td>\n",
       "    </tr>\n",
       "    <tr>\n",
       "      <td>4</td>\n",
       "      <td>1.221923</td>\n",
       "      <td>-1.039399</td>\n",
       "      <td>-1.0</td>\n",
       "    </tr>\n",
       "  </tbody>\n",
       "</table>\n",
       "</div>"
      ],
      "text/plain": [
       "         x1        x2    y\n",
       "0  0.336494 -0.985951 -1.0\n",
       "1 -0.011043 -0.105529  1.0\n",
       "2  0.238160 -0.617417  1.0\n",
       "3 -0.366783 -0.713819  1.0\n",
       "4  1.221923 -1.039399 -1.0"
      ]
     },
     "execution_count": 1,
     "metadata": {},
     "output_type": "execute_result"
    }
   ],
   "source": [
    "# Import, read, and split data\n",
    "import pandas as pd\n",
    "data = pd.read_csv('../Datasets/train_tune_data.csv')\n",
    "\n",
    "data.head()"
   ]
  },
  {
   "cell_type": "code",
   "execution_count": 2,
   "metadata": {},
   "outputs": [],
   "source": [
    "import numpy as np\n",
    "import warnings\n",
    "warnings.filterwarnings('ignore')\n",
    "\n",
    "# Extract Predictors and target data\n",
    "X = np.array(data[['x1', 'x2']])\n",
    "y = np.array(data['y'])\n",
    "\n",
    "# Fix random seed\n",
    "np.random.seed(55)\n",
    "\n",
    "# Imports\n",
    "from sklearn.linear_model import LogisticRegression\n",
    "from sklearn.ensemble import GradientBoostingClassifier\n",
    "from sklearn.svm import SVC\n",
    "\n",
    "# TODO: Uncomment one of the three classifiers, and hit \"Test Run\"\n",
    "# to see the learning curve. Use these to answer the quiz below.\n",
    "\n",
    "### Logistic Regression\n",
    "log_reg = LogisticRegression()\n",
    "\n",
    "### Decision Tree\n",
    "grad_boost = GradientBoostingClassifier()\n",
    "\n",
    "### Support Vector Machine\n",
    "svc = SVC(kernel='rbf', gamma=1000) "
   ]
  },
  {
   "cell_type": "code",
   "execution_count": 3,
   "metadata": {},
   "outputs": [],
   "source": [
    "from sklearn.model_selection import learning_curve\n",
    "import matplotlib.pyplot as plt\n",
    "\n",
    "# It is good to randomize the data before drawing Learning Curves\n",
    "def randomize(X, Y):\n",
    "    permutation = np.random.permutation(Y.shape[0])  # permutation: Randomly permute a sequence, or return a permuted range.\n",
    "    X2 = X[permutation,:]\n",
    "    Y2 = Y[permutation]\n",
    "    return X2, Y2\n",
    "\n",
    "X2, y2 = randomize(X, y)\n",
    "\n",
    "# Draw Learning Curves from randomized samples\n",
    "def draw_learning_curves(X, y, estimator, num_trainings):\n",
    "    train_sizes, train_scores, test_scores = learning_curve(estimator, X2, y2, cv=None, n_jobs=1, train_sizes=np.linspace(.1, 1.0, num_trainings))\n",
    "    \n",
    "    train_scores_mean = np.mean(train_scores, axis=1)\n",
    "    train_scores_std = np.std(train_scores, axis=1)\n",
    "    test_scores_mean = np.mean(test_scores, axis=1)\n",
    "    test_scores_std = np.std(test_scores, axis=1)\n",
    "\n",
    "    plt.grid()\n",
    "\n",
    "    plt.title(\"Learning Curves\")\n",
    "    plt.xlabel(\"Training examples\")\n",
    "    plt.ylabel(\"Error\")\n",
    "\n",
    "    plt.plot(1-train_scores_mean, 'o-', color=\"g\",\n",
    "             label=\"Training score\")\n",
    "    plt.plot(1-test_scores_mean, 'o-', color=\"y\",\n",
    "             label=\"Cross-validation score\")\n",
    "    \n",
    "    plt.legend(loc=\"best\")\n",
    "\n",
    "    plt.show()"
   ]
  },
  {
   "cell_type": "code",
   "execution_count": 4,
   "metadata": {
    "scrolled": true
   },
   "outputs": [
    {
     "data": {
      "image/png": "[encoded data removed]",
      "text/plain": [
       "<Figure size 432x288 with 1 Axes>"
      ]
     },
     "metadata": {
      "needs_background": "light"
     },
     "output_type": "display_data"
    },
    {
     "data": {
      "image/png": "[encoded data removed]",
      "text/plain": [
       "<Figure size 432x288 with 1 Axes>"
      ]
     },
     "metadata": {
      "needs_background": "light"
     },
     "output_type": "display_data"
    },
    {
     "data": {
      "image/png": "[encoded data removed]",
      "text/plain": [
       "<Figure size 432x288 with 1 Axes>"
      ]
     },
     "metadata": {
      "needs_background": "light"
     },
     "output_type": "display_data"
    }
   ],
   "source": [
    "draw_learning_curves(X2, y2, log_reg, 5)\n",
    "draw_learning_curves(X2, y2, grad_boost, 5)\n",
    "draw_learning_curves(X2, y2, svc, 5)"
   ]
  },
  {
   "cell_type": "markdown",
   "metadata": {},
   "source": [
    "**Part 2: Analyzing the learning curves**\n",
    "\n",
    "For this second part of the quiz, you can look at the curves you've drawn before, to decide which one of the three models underfits, which one overfits, and which one is just right."
   ]
  },
  {
   "cell_type": "markdown",
   "metadata": {},
   "source": [
    "**Logistic Regression Model:** Underfits as Training Error keeps increasing and classification Error keeps fluctutating up and down. May be after certain point they converge at a single point.\n",
    "\n",
    "**Gradient Boost Model:** Fits well as training error is not increasing when we increase the number of data points and the classification error is decreasing which is good. We can say that training and classification curve may converge at some point thus prove to be a godd model.\n",
    "\n",
    "**SVC Model:** Overfits because as we increase the number of data points, the two curves get closer but never converge to the same point. This means it performs well on training data but perform worst on testing data thus this model does not generalize and is a High Variance Model."
   ]
  },
  {
   "cell_type": "code",
   "execution_count": null,
   "metadata": {},
   "outputs": [],
   "source": []
  }
 ],
 "metadata": {
  "kernelspec": {
   "display_name": "Python 3",
   "language": "python",
   "name": "python3"
  },
  "language_info": {
   "codemirror_mode": {
    "name": "ipython",
    "version": 3
   },
   "file_extension": ".py",
   "mimetype": "text/x-python",
   "name": "python",
   "nbconvert_exporter": "python",
   "pygments_lexer": "ipython3",
   "version": "3.7.6"
  }
 },
 "nbformat": 4,
 "nbformat_minor": 2
}
