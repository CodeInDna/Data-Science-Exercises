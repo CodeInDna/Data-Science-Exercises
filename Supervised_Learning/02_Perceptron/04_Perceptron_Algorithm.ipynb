{
 "cells": [
  {
   "cell_type": "markdown",
   "metadata": {},
   "source": [
    "## Perceptron Algorithm Quiz"
   ]
  },
  {
   "cell_type": "code",
   "execution_count": 1,
   "metadata": {},
   "outputs": [],
   "source": [
    "# For a point with coordinates\n",
    "# (p,q), label y, and prediction given by the equation y_cap = step(w1x1 + w2x2 + b) \n",
    "\n",
    "# * If the point is correctly classified, do nothing.\n",
    "\n",
    "# * If the point is classified positive, but it has a negative label, subtract\n",
    "# αp,αq, and α\n",
    "# from w1, w2 and b respectively.\n",
    "\n",
    "# * If the point is classified negative, but it has a positive label, add\n",
    "# αp,αq,and α to\n",
    "# w1, w2 and b respectively.\n",
    "\n",
    "# Then click on test run to graph the solution that the perceptron algorithm gives you. \n",
    "# It'll actually draw a set of dotted lines, that show how the algorithm approaches to the best solution, \n",
    "# given by the black solid line."
   ]
  },
  {
   "cell_type": "code",
   "execution_count": 9,
   "metadata": {},
   "outputs": [],
   "source": [
    "import numpy as np\n",
    "import pandas as pd\n",
    "import matplotlib.pyplot as plt\n",
    "\n",
    "columns=['x1','x2','y']\n",
    "train_data=pd.read_csv(\"../Datasets/perceptron_data.csv\", header=None, names=columns)\n",
    "X=np.array(train_data.iloc[:,:-1])\n",
    "y=np.array(train_data.iloc[:,-1])\n",
    "\n",
    "# Setting the random seed, feel free to change it and see different solutions.\n",
    "np.random.seed(42)\n",
    "\n",
    "def stepFunction(t):\n",
    "    if t >= 0:\n",
    "        return 1\n",
    "    return 0\n",
    "\n",
    "def prediction(X, W, b):\n",
    "    return stepFunction((np.matmul(X,W)+b)[0])\n",
    "\n",
    "def perceptronStep(X, y, W, b, learn_rate = 0.01):\n",
    "    for i in range(len(X)):\n",
    "        pred = prediction(X[i],W,b)\n",
    "        if y[i]-pred == 1:\n",
    "            W[0] += X[i][0]*learn_rate\n",
    "            W[1] += X[i][1]*learn_rate\n",
    "            b += learn_rate\n",
    "        elif y[i]-pred == -1:\n",
    "            W[0] -= X[i][0]*learn_rate\n",
    "            W[1] -= X[i][1]*learn_rate\n",
    "            b -= learn_rate\n",
    "    return W, b\n",
    "\n",
    "def trainPerceptronAlgorithm(X, y, learn_rate = 0.1, num_epochs = 25):\n",
    "    x_min, x_max = min(X.T[0]), max(X.T[0])\n",
    "    y_min, y_max = min(X.T[1]), max(X.T[1])\n",
    "    W = np.array(np.random.rand(2,1))\n",
    "    b = np.random.rand(1)[0] + x_max\n",
    "    # These are the solution lines that get plotted below.\n",
    "    boundary_lines = []\n",
    "    for i in range(num_epochs):\n",
    "        # In each epoch, we apply the perceptron step.\n",
    "        W, b = perceptronStep(X, y, W, b, learn_rate)\n",
    "        boundary_lines.append((-W[0]/W[1], -b/W[1]))\n",
    "    return W,b"
   ]
  },
  {
   "cell_type": "code",
   "execution_count": 11,
   "metadata": {},
   "outputs": [
    {
     "name": "stdout",
     "output_type": "stream",
     "text": [
      "([-0.5, 1.5], [array([0.93090905]), array([-0.08264549])])\n"
     ]
    },
    {
     "data": {
      "image/png": "[encoded data removed]",
      "text/plain": [
       "<Figure size 432x288 with 1 Axes>"
      ]
     },
     "metadata": {
      "needs_background": "light"
     },
     "output_type": "display_data"
    }
   ],
   "source": [
    "def getY(slope, intercept,x):\n",
    "    return (slope * x + intercept)\n",
    "\n",
    "def getPerceptronLine(w1,w2,b):\n",
    "    slope = -(b / w2) / (b / w1)\n",
    "    intercept = -b / w2\n",
    "    xx = [-0.5,1.5]\n",
    "    yy = [getY(slope,intercept,-0.5),getY(slope,intercept,1.5)]\n",
    "    return xx,yy\n",
    "\n",
    "result = trainPerceptronAlgorithm(X,y)\n",
    "line = getPerceptronLine(result[0][0],result[0][1],result[1])\n",
    "xes = X[:,:1].reshape(-1)\n",
    "yes = X[:,1:].reshape(-1)\n",
    "cnt = sum(i < 1 for i in y.reshape(-1))\n",
    "\n",
    "plt.plot(xes[:cnt],yes[:cnt], 'ro')\n",
    "plt.plot(xes[cnt:],yes[:cnt], 'go')\n",
    "plt.plot(line[0],line[1])\n",
    "\n",
    "plt.xlabel('# Tests')\n",
    "plt.ylabel('Grade')\n",
    "\n",
    "plt.title('Perceptron')\n",
    "\n",
    "plt.grid(True)\n",
    "\n",
    "plt.show()"
   ]
  }
 ],
 "metadata": {
  "kernelspec": {
   "display_name": "Python 3",
   "language": "python",
   "name": "python3"
  },
  "language_info": {
   "codemirror_mode": {
    "name": "ipython",
    "version": 3
   },
   "file_extension": ".py",
   "mimetype": "text/x-python",
   "name": "python",
   "nbconvert_exporter": "python",
   "pygments_lexer": "ipython3",
   "version": "3.7.6"
  }
 },
 "nbformat": 4,
 "nbformat_minor": 2
}
