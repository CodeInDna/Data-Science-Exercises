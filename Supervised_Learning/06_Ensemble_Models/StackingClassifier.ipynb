{
 "cells": [
  {
   "cell_type": "code",
   "execution_count": 3,
   "metadata": {},
   "outputs": [],
   "source": [
    "from sklearn.ensemble import RandomForestClassifier\n",
    "from sklearn.svm import LinearSVC\n",
    "from sklearn.linear_model import LogisticRegression\n",
    "from sklearn.naive_bayes import GaussianNB\n",
    "from sklearn.neighbors import KNeighborsClassifier\n",
    "from sklearn import model_selection\n",
    "from mlxtend.classifier import StackingClassifier\n",
    "\n",
    "import warnings\n",
    "warnings.filterwarnings('ignore')"
   ]
  },
  {
   "cell_type": "code",
   "execution_count": 5,
   "metadata": {},
   "outputs": [],
   "source": [
    "from sklearn import datasets\n",
    "\n",
    "iris = datasets.load_iris()\n",
    "\n",
    "X_train, y_train = iris.data[:, 1:3], iris.target"
   ]
  },
  {
   "cell_type": "code",
   "execution_count": 7,
   "metadata": {},
   "outputs": [],
   "source": [
    "clf1 = KNeighborsClassifier(n_neighbors=1)\n",
    "clf2 = RandomForestClassifier(random_state=1)\n",
    "clf3 = GaussianNB()"
   ]
  },
  {
   "cell_type": "code",
   "execution_count": 8,
   "metadata": {},
   "outputs": [],
   "source": [
    "met_model = LogisticRegression()"
   ]
  },
  {
   "cell_type": "code",
   "execution_count": 11,
   "metadata": {},
   "outputs": [],
   "source": [
    "stackingclf = StackingClassifier(classifiers=[clf1, clf2, clf3],\n",
    "                                    meta_classifier=met_model)"
   ]
  },
  {
   "cell_type": "code",
   "execution_count": 22,
   "metadata": {},
   "outputs": [
    {
     "name": "stdout",
     "output_type": "stream",
     "text": [
      "Accuracy: 0.907, (+/- 0.009), K-Nearest Neighbors Model\n",
      "Accuracy: 0.953, (+/- 0.009), Random Forest\n",
      "Accuracy: 0.913, (+/- 0.019), Naive Bayes Model\n",
      "Accuracy: 0.947, (+/- 0.019), StackingClassifier Model\n"
     ]
    }
   ],
   "source": [
    "for iterclf, iterlabel in zip([clf1, clf2, clf3, stackingclf],\n",
    "                             ['K-Nearest Neighbors Model',\n",
    "                             'Random Forest',\n",
    "                             'Naive Bayes Model',\n",
    "                             'StackingClassifier Model']):\n",
    "    scores = model_selection.cross_val_score(iterclf, X_train, y_train,\n",
    "                                            cv=3, scoring='accuracy')\n",
    "    \n",
    "    print(f\"Accuracy: {scores.mean():.3f}, (+/- {scores.std():.3f}), {iterlabel}\")"
   ]
  }
 ],
 "metadata": {
  "kernelspec": {
   "display_name": "Python 3",
   "language": "python",
   "name": "python3"
  },
  "language_info": {
   "codemirror_mode": {
    "name": "ipython",
    "version": 3
   },
   "file_extension": ".py",
   "mimetype": "text/x-python",
   "name": "python",
   "nbconvert_exporter": "python",
   "pygments_lexer": "ipython3",
   "version": "3.7.6"
  }
 },
 "nbformat": 4,
 "nbformat_minor": 2
}
