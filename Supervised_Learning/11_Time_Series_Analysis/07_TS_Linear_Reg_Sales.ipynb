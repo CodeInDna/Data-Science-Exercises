{
 "cells": [
  {
   "cell_type": "markdown",
   "id": "2d55f668",
   "metadata": {},
   "source": [
    "# Time Series: Linear Regression\n",
    "\n",
    "We are using regression model to predict future sales by considering time as a Independent Variable\n",
    "\n",
    "* Linear Regression fits linear line.\n",
    "* Regression line just capture the trend of the data.\n",
    "* It did not capture the seasonality effect in the data.\n",
    "* For forecasting the data w.r.t time, margin of error is high."
   ]
  },
  {
   "cell_type": "code",
   "execution_count": 1,
   "id": "cf8dc780",
   "metadata": {},
   "outputs": [],
   "source": [
    "import pandas as pd\n",
    "import numpy as np\n",
    "\n",
    "import matplotlib.pyplot as plt\n",
    "import seaborn as sns\n",
    "\n",
    "%matplotlib inline"
   ]
  },
  {
   "cell_type": "code",
   "execution_count": 2,
   "id": "32102c47",
   "metadata": {},
   "outputs": [
    {
     "data": {
      "text/html": [
       "<div>\n",
       "<style scoped>\n",
       "    .dataframe tbody tr th:only-of-type {\n",
       "        vertical-align: middle;\n",
       "    }\n",
       "\n",
       "    .dataframe tbody tr th {\n",
       "        vertical-align: top;\n",
       "    }\n",
       "\n",
       "    .dataframe thead th {\n",
       "        text-align: right;\n",
       "    }\n",
       "</style>\n",
       "<table border=\"1\" class=\"dataframe\">\n",
       "  <thead>\n",
       "    <tr style=\"text-align: right;\">\n",
       "      <th></th>\n",
       "      <th>Years</th>\n",
       "      <th>Sales</th>\n",
       "    </tr>\n",
       "  </thead>\n",
       "  <tbody>\n",
       "    <tr>\n",
       "      <th>0</th>\n",
       "      <td>2001-01-01</td>\n",
       "      <td>139.7</td>\n",
       "    </tr>\n",
       "    <tr>\n",
       "      <th>1</th>\n",
       "      <td>2001-02-01</td>\n",
       "      <td>114.3</td>\n",
       "    </tr>\n",
       "    <tr>\n",
       "      <th>2</th>\n",
       "      <td>2001-03-01</td>\n",
       "      <td>101.6</td>\n",
       "    </tr>\n",
       "    <tr>\n",
       "      <th>3</th>\n",
       "      <td>2001-04-01</td>\n",
       "      <td>152.4</td>\n",
       "    </tr>\n",
       "    <tr>\n",
       "      <th>4</th>\n",
       "      <td>2001-05-01</td>\n",
       "      <td>215.9</td>\n",
       "    </tr>\n",
       "  </tbody>\n",
       "</table>\n",
       "</div>"
      ],
      "text/plain": [
       "        Years  Sales\n",
       "0  2001-01-01  139.7\n",
       "1  2001-02-01  114.3\n",
       "2  2001-03-01  101.6\n",
       "3  2001-04-01  152.4\n",
       "4  2001-05-01  215.9"
      ]
     },
     "execution_count": 2,
     "metadata": {},
     "output_type": "execute_result"
    }
   ],
   "source": [
    "df = pd.read_csv('data/sales_data.csv')\n",
    "\n",
    "df.head()"
   ]
  },
  {
   "cell_type": "code",
   "execution_count": 3,
   "id": "a4e9bb4f",
   "metadata": {},
   "outputs": [
    {
     "name": "stdout",
     "output_type": "stream",
     "text": [
      "<class 'pandas.core.frame.DataFrame'>\n",
      "RangeIndex: 72 entries, 0 to 71\n",
      "Data columns (total 2 columns):\n",
      "Years    72 non-null object\n",
      "Sales    72 non-null float64\n",
      "dtypes: float64(1), object(1)\n",
      "memory usage: 1.2+ KB\n"
     ]
    }
   ],
   "source": [
    "df.info()"
   ]
  },
  {
   "cell_type": "markdown",
   "id": "bbe343d2",
   "metadata": {},
   "source": [
    "### Data Preprocessing"
   ]
  },
  {
   "cell_type": "code",
   "execution_count": 7,
   "id": "5f6c9f2d",
   "metadata": {},
   "outputs": [
    {
     "data": {
      "text/plain": [
       "Years    datetime64[ns]\n",
       "Sales           float64\n",
       "dtype: object"
      ]
     },
     "execution_count": 7,
     "metadata": {},
     "output_type": "execute_result"
    }
   ],
   "source": [
    "df['Years'] = pd.to_datetime(df['Years'])\n",
    "\n",
    "df.dtypes"
   ]
  },
  {
   "cell_type": "code",
   "execution_count": 13,
   "id": "0f5fe225",
   "metadata": {},
   "outputs": [
    {
     "data": {
      "text/html": [
       "<div>\n",
       "<style scoped>\n",
       "    .dataframe tbody tr th:only-of-type {\n",
       "        vertical-align: middle;\n",
       "    }\n",
       "\n",
       "    .dataframe tbody tr th {\n",
       "        vertical-align: top;\n",
       "    }\n",
       "\n",
       "    .dataframe thead th {\n",
       "        text-align: right;\n",
       "    }\n",
       "</style>\n",
       "<table border=\"1\" class=\"dataframe\">\n",
       "  <thead>\n",
       "    <tr style=\"text-align: right;\">\n",
       "      <th></th>\n",
       "      <th>Years</th>\n",
       "      <th>Sales</th>\n",
       "      <th>time</th>\n",
       "    </tr>\n",
       "  </thead>\n",
       "  <tbody>\n",
       "    <tr>\n",
       "      <th>0</th>\n",
       "      <td>2001-01-01</td>\n",
       "      <td>139.7</td>\n",
       "      <td>1</td>\n",
       "    </tr>\n",
       "    <tr>\n",
       "      <th>1</th>\n",
       "      <td>2001-02-01</td>\n",
       "      <td>114.3</td>\n",
       "      <td>2</td>\n",
       "    </tr>\n",
       "    <tr>\n",
       "      <th>2</th>\n",
       "      <td>2001-03-01</td>\n",
       "      <td>101.6</td>\n",
       "      <td>3</td>\n",
       "    </tr>\n",
       "    <tr>\n",
       "      <th>3</th>\n",
       "      <td>2001-04-01</td>\n",
       "      <td>152.4</td>\n",
       "      <td>4</td>\n",
       "    </tr>\n",
       "    <tr>\n",
       "      <th>4</th>\n",
       "      <td>2001-05-01</td>\n",
       "      <td>215.9</td>\n",
       "      <td>5</td>\n",
       "    </tr>\n",
       "  </tbody>\n",
       "</table>\n",
       "</div>"
      ],
      "text/plain": [
       "       Years  Sales  time\n",
       "0 2001-01-01  139.7     1\n",
       "1 2001-02-01  114.3     2\n",
       "2 2001-03-01  101.6     3\n",
       "3 2001-04-01  152.4     4\n",
       "4 2001-05-01  215.9     5"
      ]
     },
     "execution_count": 13,
     "metadata": {},
     "output_type": "execute_result"
    }
   ],
   "source": [
    "df['time'] = np.arange(1, len(df)+1, 1)\n",
    "\n",
    "df.head()"
   ]
  },
  {
   "cell_type": "code",
   "execution_count": 14,
   "id": "78a5b93b",
   "metadata": {},
   "outputs": [
    {
     "data": {
      "text/html": [
       "<div>\n",
       "<style scoped>\n",
       "    .dataframe tbody tr th:only-of-type {\n",
       "        vertical-align: middle;\n",
       "    }\n",
       "\n",
       "    .dataframe tbody tr th {\n",
       "        vertical-align: top;\n",
       "    }\n",
       "\n",
       "    .dataframe thead th {\n",
       "        text-align: right;\n",
       "    }\n",
       "</style>\n",
       "<table border=\"1\" class=\"dataframe\">\n",
       "  <thead>\n",
       "    <tr style=\"text-align: right;\">\n",
       "      <th></th>\n",
       "      <th>Years</th>\n",
       "      <th>Sales</th>\n",
       "      <th>time</th>\n",
       "      <th>month_name</th>\n",
       "    </tr>\n",
       "  </thead>\n",
       "  <tbody>\n",
       "    <tr>\n",
       "      <th>0</th>\n",
       "      <td>2001-01-01</td>\n",
       "      <td>139.7</td>\n",
       "      <td>1</td>\n",
       "      <td>January</td>\n",
       "    </tr>\n",
       "    <tr>\n",
       "      <th>1</th>\n",
       "      <td>2001-02-01</td>\n",
       "      <td>114.3</td>\n",
       "      <td>2</td>\n",
       "      <td>February</td>\n",
       "    </tr>\n",
       "    <tr>\n",
       "      <th>2</th>\n",
       "      <td>2001-03-01</td>\n",
       "      <td>101.6</td>\n",
       "      <td>3</td>\n",
       "      <td>March</td>\n",
       "    </tr>\n",
       "    <tr>\n",
       "      <th>3</th>\n",
       "      <td>2001-04-01</td>\n",
       "      <td>152.4</td>\n",
       "      <td>4</td>\n",
       "      <td>April</td>\n",
       "    </tr>\n",
       "    <tr>\n",
       "      <th>4</th>\n",
       "      <td>2001-05-01</td>\n",
       "      <td>215.9</td>\n",
       "      <td>5</td>\n",
       "      <td>May</td>\n",
       "    </tr>\n",
       "  </tbody>\n",
       "</table>\n",
       "</div>"
      ],
      "text/plain": [
       "       Years  Sales  time month_name\n",
       "0 2001-01-01  139.7     1    January\n",
       "1 2001-02-01  114.3     2   February\n",
       "2 2001-03-01  101.6     3      March\n",
       "3 2001-04-01  152.4     4      April\n",
       "4 2001-05-01  215.9     5        May"
      ]
     },
     "execution_count": 14,
     "metadata": {},
     "output_type": "execute_result"
    }
   ],
   "source": [
    "df['month_name'] = df['Years'].dt.month_name()\n",
    "\n",
    "df.head()"
   ]
  },
  {
   "cell_type": "code",
   "execution_count": 17,
   "id": "b877ae59",
   "metadata": {},
   "outputs": [
    {
     "name": "stdout",
     "output_type": "stream",
     "text": [
      "        Years  Sales  time month_name\n",
      "43 2004-08-01  431.8    44     August\n",
      "44 2004-09-01  330.2    45  September\n",
      "45 2004-10-01  330.2    46    October\n",
      "46 2004-11-01  304.8    47   November\n",
      "47 2004-12-01  292.1    48   December\n",
      "\n",
      "\n",
      "        Years  Sales  time month_name\n",
      "48 2005-01-01  266.7    49    January\n",
      "49 2005-02-01  317.5    50   February\n",
      "50 2005-03-01  368.3    51      March\n",
      "51 2005-04-01  431.8    52      April\n",
      "52 2005-05-01  457.2    53        May\n"
     ]
    }
   ],
   "source": [
    "# Split the data into train(4 years) and test set(2 years)\n",
    "size = 4*12\n",
    "df_train = df.iloc[:size]\n",
    "df_test = df.iloc[size:]\n",
    "\n",
    "print(df_train.tail())\n",
    "print('\\n')\n",
    "print(df_test.head())"
   ]
  },
  {
   "cell_type": "code",
   "execution_count": 19,
   "id": "6ef6b976",
   "metadata": {},
   "outputs": [
    {
     "data": {
      "text/plain": [
       "(48, 1)"
      ]
     },
     "execution_count": 19,
     "metadata": {},
     "output_type": "execute_result"
    }
   ],
   "source": [
    "# Split the data into independent and dependent\n",
    "x_train = df_train[['time']].values\n",
    "x_train.shape"
   ]
  },
  {
   "cell_type": "code",
   "execution_count": 20,
   "id": "85068063",
   "metadata": {},
   "outputs": [
    {
     "data": {
      "text/plain": [
       "(48,)"
      ]
     },
     "execution_count": 20,
     "metadata": {},
     "output_type": "execute_result"
    }
   ],
   "source": [
    "y_train = df_train['Sales'].values\n",
    "y_train.shape"
   ]
  },
  {
   "cell_type": "code",
   "execution_count": 23,
   "id": "8a10d3d5",
   "metadata": {},
   "outputs": [],
   "source": [
    "# Split the data into independent and dependent\n",
    "x_test = df_test[['time']].values\n",
    "y_test = df_test['Sales'].values\n"
   ]
  },
  {
   "cell_type": "markdown",
   "id": "5352fa17",
   "metadata": {},
   "source": [
    "### Linear Regression with Time"
   ]
  },
  {
   "cell_type": "code",
   "execution_count": 21,
   "id": "6f7f82c5",
   "metadata": {},
   "outputs": [],
   "source": [
    "from sklearn.linear_model import LinearRegression"
   ]
  },
  {
   "cell_type": "code",
   "execution_count": 22,
   "id": "6a13ddb5",
   "metadata": {},
   "outputs": [
    {
     "data": {
      "text/plain": [
       "LinearRegression()"
      ]
     },
     "execution_count": 22,
     "metadata": {},
     "output_type": "execute_result"
    }
   ],
   "source": [
    "model_trend = LinearRegression()\n",
    "model_trend.fit(x_train, y_train)"
   ]
  },
  {
   "cell_type": "code",
   "execution_count": 24,
   "id": "7ae3e131",
   "metadata": {},
   "outputs": [],
   "source": [
    "y_fitted_vals = model_trend.predict(x_train)"
   ]
  },
  {
   "cell_type": "code",
   "execution_count": 39,
   "id": "6d88d422",
   "metadata": {},
   "outputs": [],
   "source": [
    "y_forecast = model_trend.predict(x_test)"
   ]
  },
  {
   "cell_type": "markdown",
   "id": "008f31a2",
   "metadata": {},
   "source": [
    "**confidence interval - 95% = 1.96**\n",
    "\n",
    "CI = $\\mu +- ME $\n",
    "\n",
    "- ME = z * SE\n",
    "- z = 1.96 (for 95% CI)\n",
    "- SE = standard deviation of the error"
   ]
  },
  {
   "cell_type": "code",
   "execution_count": 45,
   "id": "387f26a3",
   "metadata": {},
   "outputs": [],
   "source": [
    "error = y_train - y_fitted_vals\n",
    "se = error.std()\n",
    "ME = 1.96 * se"
   ]
  },
  {
   "cell_type": "code",
   "execution_count": 47,
   "id": "db360730",
   "metadata": {},
   "outputs": [
    {
     "data": {
      "image/png": "[encoded data removed]",
      "text/plain": [
       "<Figure size 720x432 with 1 Axes>"
      ]
     },
     "metadata": {
      "needs_background": "light"
     },
     "output_type": "display_data"
    }
   ],
   "source": [
    "# visulaize the values\n",
    "plt.figure(figsize=(10, 6))\n",
    "plt.plot(df_train['Years'], y_train, 'bo:')\n",
    "plt.plot(df_train['Years'], y_fitted_vals, 'b')\n",
    "\n",
    "\n",
    "# Forecasted Data\n",
    "plt.plot(df_test['Years'], y_test, 'o:', color='orange')\n",
    "plt.plot(df_test['Years'], y_forecast, color='red')\n",
    "\n",
    "# MOE\n",
    "ci_plus, ci_minus = y_forecast + ME, y_forecast - ME\n",
    "plt.fill_between(df_test['Years'], (ci_plus), (ci_minus), alpha=0.1, color='black')\n",
    "\n",
    "plt.legend(['Time Series Data', 'Trend Line', 'True Future Data', 'Forecasted Trend Data', 'Confidence Interval (95%)'])\n",
    "plt.show()"
   ]
  },
  {
   "cell_type": "code",
   "execution_count": 49,
   "id": "1efe89df",
   "metadata": {},
   "outputs": [],
   "source": [
    "y_pred_new = model_trend.predict([[61]])"
   ]
  },
  {
   "cell_type": "code",
   "execution_count": 54,
   "id": "9a08329f",
   "metadata": {},
   "outputs": [
    {
     "name": "stdout",
     "output_type": "stream",
     "text": [
      "Predicted value lie between 291.67694148287416 and 514.8953338102217\n"
     ]
    }
   ],
   "source": [
    "y_pred_new + ME, y_pred_new - ME \n",
    "print(f\"Predicted value lie between {(y_pred_new - ME)[0]} and {(y_pred_new + ME)[0]}\")"
   ]
  }
 ],
 "metadata": {
  "kernelspec": {
   "display_name": "Python 3",
   "language": "python",
   "name": "python3"
  },
  "language_info": {
   "codemirror_mode": {
    "name": "ipython",
    "version": 3
   },
   "file_extension": ".py",
   "mimetype": "text/x-python",
   "name": "python",
   "nbconvert_exporter": "python",
   "pygments_lexer": "ipython3",
   "version": "3.7.10"
  }
 },
 "nbformat": 4,
 "nbformat_minor": 5
}
