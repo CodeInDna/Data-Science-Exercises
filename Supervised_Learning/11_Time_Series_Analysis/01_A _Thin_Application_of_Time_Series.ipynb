{
 "cells": [
  {
   "cell_type": "markdown",
   "id": "211e2c12",
   "metadata": {},
   "source": [
    "# A \"Thin\" Application of Time Series"
   ]
  },
  {
   "cell_type": "markdown",
   "id": "8f37fd83",
   "metadata": {},
   "source": [
    "Google Trends allows users to see how often a term is searched for. We downloaded a file from Google Trends containing the frequency over time for the search word \"diet\", in a DataFrame called **diet**. \n",
    "\n",
    "A first step when analyzing a time series is to visualize the data with a plot. You should be able to clearly see a gradual decrease in searches for \"diet\" throughout the calendar year, hitting a low around the December holidays, followed by a spike in searches around the new year as people make New Year's resolutions to lose weight.\n",
    "\n",
    "The index of dates are strings and should be converted to a datetime index before plotting."
   ]
  },
  {
   "cell_type": "code",
   "execution_count": 1,
   "id": "a91193b1",
   "metadata": {},
   "outputs": [],
   "source": [
    "import pandas as pd\n",
    "import matplotlib.pyplot as plt\n",
    "\n",
    "%matplotlib inline"
   ]
  },
  {
   "cell_type": "code",
   "execution_count": 6,
   "id": "b038ff3b",
   "metadata": {},
   "outputs": [
    {
     "data": {
      "text/html": [
       "<div>\n",
       "<style scoped>\n",
       "    .dataframe tbody tr th:only-of-type {\n",
       "        vertical-align: middle;\n",
       "    }\n",
       "\n",
       "    .dataframe tbody tr th {\n",
       "        vertical-align: top;\n",
       "    }\n",
       "\n",
       "    .dataframe thead th {\n",
       "        text-align: right;\n",
       "    }\n",
       "</style>\n",
       "<table border=\"1\" class=\"dataframe\">\n",
       "  <thead>\n",
       "    <tr style=\"text-align: right;\">\n",
       "      <th></th>\n",
       "      <th>diet</th>\n",
       "    </tr>\n",
       "    <tr>\n",
       "      <th>Date</th>\n",
       "      <th></th>\n",
       "    </tr>\n",
       "  </thead>\n",
       "  <tbody>\n",
       "    <tr>\n",
       "      <th>6/26/2011</th>\n",
       "      <td>70</td>\n",
       "    </tr>\n",
       "    <tr>\n",
       "      <th>7/3/2011</th>\n",
       "      <td>71</td>\n",
       "    </tr>\n",
       "    <tr>\n",
       "      <th>7/10/2011</th>\n",
       "      <td>73</td>\n",
       "    </tr>\n",
       "    <tr>\n",
       "      <th>7/17/2011</th>\n",
       "      <td>74</td>\n",
       "    </tr>\n",
       "    <tr>\n",
       "      <th>7/24/2011</th>\n",
       "      <td>72</td>\n",
       "    </tr>\n",
       "  </tbody>\n",
       "</table>\n",
       "</div>"
      ],
      "text/plain": [
       "           diet\n",
       "Date           \n",
       "6/26/2011    70\n",
       "7/3/2011     71\n",
       "7/10/2011    73\n",
       "7/17/2011    74\n",
       "7/24/2011    72"
      ]
     },
     "execution_count": 6,
     "metadata": {},
     "output_type": "execute_result"
    }
   ],
   "source": [
    "diet = pd.read_csv('data/diet.csv', index_col=['Date'])\n",
    "\n",
    "diet.head()"
   ]
  },
  {
   "cell_type": "code",
   "execution_count": 7,
   "id": "51004ab9",
   "metadata": {},
   "outputs": [
    {
     "data": {
      "text/html": [
       "<div>\n",
       "<style scoped>\n",
       "    .dataframe tbody tr th:only-of-type {\n",
       "        vertical-align: middle;\n",
       "    }\n",
       "\n",
       "    .dataframe tbody tr th {\n",
       "        vertical-align: top;\n",
       "    }\n",
       "\n",
       "    .dataframe thead th {\n",
       "        text-align: right;\n",
       "    }\n",
       "</style>\n",
       "<table border=\"1\" class=\"dataframe\">\n",
       "  <thead>\n",
       "    <tr style=\"text-align: right;\">\n",
       "      <th></th>\n",
       "      <th>diet</th>\n",
       "    </tr>\n",
       "    <tr>\n",
       "      <th>Date</th>\n",
       "      <th></th>\n",
       "    </tr>\n",
       "  </thead>\n",
       "  <tbody>\n",
       "    <tr>\n",
       "      <th>2011-06-26</th>\n",
       "      <td>70</td>\n",
       "    </tr>\n",
       "    <tr>\n",
       "      <th>2011-07-03</th>\n",
       "      <td>71</td>\n",
       "    </tr>\n",
       "    <tr>\n",
       "      <th>2011-07-10</th>\n",
       "      <td>73</td>\n",
       "    </tr>\n",
       "    <tr>\n",
       "      <th>2011-07-17</th>\n",
       "      <td>74</td>\n",
       "    </tr>\n",
       "    <tr>\n",
       "      <th>2011-07-24</th>\n",
       "      <td>72</td>\n",
       "    </tr>\n",
       "  </tbody>\n",
       "</table>\n",
       "</div>"
      ],
      "text/plain": [
       "            diet\n",
       "Date            \n",
       "2011-06-26    70\n",
       "2011-07-03    71\n",
       "2011-07-10    73\n",
       "2011-07-17    74\n",
       "2011-07-24    72"
      ]
     },
     "execution_count": 7,
     "metadata": {},
     "output_type": "execute_result"
    }
   ],
   "source": [
    "# Convert the date index to datetime\n",
    "diet.index = pd.to_datetime(diet.index)\n",
    "\n",
    "diet.head()"
   ]
  },
  {
   "cell_type": "code",
   "execution_count": 8,
   "id": "8f700ff9",
   "metadata": {},
   "outputs": [
    {
     "data": {
      "image/png": "[encoded data removed]",
      "text/plain": [
       "<Figure size 432x288 with 1 Axes>"
      ]
     },
     "metadata": {
      "needs_background": "light"
     },
     "output_type": "display_data"
    }
   ],
   "source": [
    "# Plot the entire time series diet and show gridlines\n",
    "diet.plot(grid=True)\n",
    "plt.show()"
   ]
  },
  {
   "cell_type": "code",
   "execution_count": 9,
   "id": "a40b7281",
   "metadata": {},
   "outputs": [
    {
     "data": {
      "text/html": [
       "<div>\n",
       "<style scoped>\n",
       "    .dataframe tbody tr th:only-of-type {\n",
       "        vertical-align: middle;\n",
       "    }\n",
       "\n",
       "    .dataframe tbody tr th {\n",
       "        vertical-align: top;\n",
       "    }\n",
       "\n",
       "    .dataframe thead th {\n",
       "        text-align: right;\n",
       "    }\n",
       "</style>\n",
       "<table border=\"1\" class=\"dataframe\">\n",
       "  <thead>\n",
       "    <tr style=\"text-align: right;\">\n",
       "      <th></th>\n",
       "      <th>diet</th>\n",
       "    </tr>\n",
       "    <tr>\n",
       "      <th>Date</th>\n",
       "      <th></th>\n",
       "    </tr>\n",
       "  </thead>\n",
       "  <tbody>\n",
       "    <tr>\n",
       "      <th>2012-01-01</th>\n",
       "      <td>100</td>\n",
       "    </tr>\n",
       "    <tr>\n",
       "      <th>2012-01-08</th>\n",
       "      <td>88</td>\n",
       "    </tr>\n",
       "    <tr>\n",
       "      <th>2012-01-15</th>\n",
       "      <td>81</td>\n",
       "    </tr>\n",
       "    <tr>\n",
       "      <th>2012-01-22</th>\n",
       "      <td>79</td>\n",
       "    </tr>\n",
       "    <tr>\n",
       "      <th>2012-01-29</th>\n",
       "      <td>77</td>\n",
       "    </tr>\n",
       "  </tbody>\n",
       "</table>\n",
       "</div>"
      ],
      "text/plain": [
       "            diet\n",
       "Date            \n",
       "2012-01-01   100\n",
       "2012-01-08    88\n",
       "2012-01-15    81\n",
       "2012-01-22    79\n",
       "2012-01-29    77"
      ]
     },
     "execution_count": 9,
     "metadata": {},
     "output_type": "execute_result"
    }
   ],
   "source": [
    "# Slice the diet dataset to keep only values from 2012, assigning to diet2012.\n",
    "diet2012 = diet['2012']\n",
    "\n",
    "diet2012.head()"
   ]
  },
  {
   "cell_type": "code",
   "execution_count": 10,
   "id": "81fd3d89",
   "metadata": {},
   "outputs": [
    {
     "data": {
      "image/png": "[encoded data removed]",
      "text/plain": [
       "<Figure size 432x288 with 1 Axes>"
      ]
     },
     "metadata": {
      "needs_background": "light"
     },
     "output_type": "display_data"
    }
   ],
   "source": [
    "# Plot 2012 data\n",
    "diet2012.plot(grid=True);"
   ]
  },
  {
   "cell_type": "markdown",
   "id": "17fb7b58",
   "metadata": {},
   "source": [
    "**NOTE:** Note how searches for `diet` spiked after the holidays every year. May be due to New Year Resolution people search \"diet\" every year, but could not cope up with the resolution throughout the year."
   ]
  },
  {
   "cell_type": "markdown",
   "id": "12c5c24f",
   "metadata": {},
   "source": [
    "## Merging Time Series With Different Dates\n",
    "\n",
    "**Stock** and **bond** markets in the U.S. are closed on different days. \n",
    "\n",
    "`For example`, although the bond market is closed on Columbus Day (around Oct 12) and Veterans Day (around Nov 11), the stock market is open on those days. One way to see the dates that the stock market is open and the bond market is closed is to convert both indexes of dates into sets and take the difference in sets.\n",
    "\n",
    "The pandas .join() method is a convenient tool to merge the stock and bond DataFrames on dates when both markets are open.\n",
    "\n",
    "Stock prices and 10-year US Government bond yields, which were downloaded from <a href=\"https://fred.stlouisfed.org/\">FRED</a>."
   ]
  },
  {
   "cell_type": "code",
   "execution_count": 12,
   "id": "73f359ff",
   "metadata": {},
   "outputs": [
    {
     "name": "stdout",
     "output_type": "stream",
     "text": [
      "                    SP500\n",
      "observation_date         \n",
      "2007-06-11        1509.12\n",
      "2007-06-12        1493.00\n",
      "2007-06-13        1515.67\n",
      "2007-06-14        1522.97\n",
      "2007-06-15        1532.91\n",
      "                  US10Y\n",
      "observation_date       \n",
      "2007-06-08         5.12\n",
      "2007-06-11         5.14\n",
      "2007-06-12         5.26\n",
      "2007-06-13         5.20\n",
      "2007-06-14         5.23\n"
     ]
    }
   ],
   "source": [
    "# read in stock and bond csv\n",
    "stocks = pd.read_csv('data/stocks.csv', index_col='observation_date')\n",
    "bonds = pd.read_csv('data/bonds.csv', index_col='observation_date')\n",
    "\n",
    "print(stocks.head())\n",
    "print(bonds.head())"
   ]
  },
  {
   "cell_type": "code",
   "execution_count": null,
   "id": "9d50603f",
   "metadata": {},
   "outputs": [],
   "source": [
    "# Convert to datetime\n",
    "stocks.index = pd.to_datetime(stocks.index)\n",
    "bonds.index = pd.to_datetime(bonds.index)"
   ]
  },
  {
   "cell_type": "code",
   "execution_count": 18,
   "id": "e5518a32",
   "metadata": {},
   "outputs": [],
   "source": [
    "# Convert the stock index and bond index into sets\n",
    "set_stock_dates = set(stocks.index)\n",
    "set_bond_dates = set(bonds.index)"
   ]
  },
  {
   "cell_type": "code",
   "execution_count": 19,
   "id": "67bc9316",
   "metadata": {},
   "outputs": [
    {
     "data": {
      "text/plain": [
       "{'2007-10-08',\n",
       " '2007-11-12',\n",
       " '2008-10-13',\n",
       " '2008-11-11',\n",
       " '2009-10-12',\n",
       " '2009-11-11',\n",
       " '2010-10-11',\n",
       " '2010-11-11',\n",
       " '2011-10-10',\n",
       " '2011-11-11',\n",
       " '2012-10-08',\n",
       " '2012-11-12',\n",
       " '2013-10-14',\n",
       " '2013-11-11',\n",
       " '2014-10-13',\n",
       " '2014-11-11',\n",
       " '2015-10-12',\n",
       " '2015-11-11',\n",
       " '2016-10-10',\n",
       " '2016-11-11',\n",
       " '2017-06-09'}"
      ]
     },
     "execution_count": 19,
     "metadata": {},
     "output_type": "execute_result"
    }
   ],
   "source": [
    "# Take the difference between the sets and print\n",
    "set_stock_dates - set_bond_dates"
   ]
  },
  {
   "cell_type": "code",
   "execution_count": 20,
   "id": "061c1a7c",
   "metadata": {},
   "outputs": [],
   "source": [
    "# Merge stocks and bonds DataFrames using join()\n",
    "stocks_and_bonds = stocks.join(bonds, how=\"inner\")"
   ]
  },
  {
   "cell_type": "code",
   "execution_count": 21,
   "id": "52991d19",
   "metadata": {},
   "outputs": [
    {
     "data": {
      "text/html": [
       "<div>\n",
       "<style scoped>\n",
       "    .dataframe tbody tr th:only-of-type {\n",
       "        vertical-align: middle;\n",
       "    }\n",
       "\n",
       "    .dataframe tbody tr th {\n",
       "        vertical-align: top;\n",
       "    }\n",
       "\n",
       "    .dataframe thead th {\n",
       "        text-align: right;\n",
       "    }\n",
       "</style>\n",
       "<table border=\"1\" class=\"dataframe\">\n",
       "  <thead>\n",
       "    <tr style=\"text-align: right;\">\n",
       "      <th></th>\n",
       "      <th>SP500</th>\n",
       "      <th>US10Y</th>\n",
       "    </tr>\n",
       "    <tr>\n",
       "      <th>observation_date</th>\n",
       "      <th></th>\n",
       "      <th></th>\n",
       "    </tr>\n",
       "  </thead>\n",
       "  <tbody>\n",
       "    <tr>\n",
       "      <th>2007-06-11</th>\n",
       "      <td>1509.12</td>\n",
       "      <td>5.14</td>\n",
       "    </tr>\n",
       "    <tr>\n",
       "      <th>2007-06-12</th>\n",
       "      <td>1493.00</td>\n",
       "      <td>5.26</td>\n",
       "    </tr>\n",
       "    <tr>\n",
       "      <th>2007-06-13</th>\n",
       "      <td>1515.67</td>\n",
       "      <td>5.20</td>\n",
       "    </tr>\n",
       "    <tr>\n",
       "      <th>2007-06-14</th>\n",
       "      <td>1522.97</td>\n",
       "      <td>5.23</td>\n",
       "    </tr>\n",
       "    <tr>\n",
       "      <th>2007-06-15</th>\n",
       "      <td>1532.91</td>\n",
       "      <td>5.16</td>\n",
       "    </tr>\n",
       "  </tbody>\n",
       "</table>\n",
       "</div>"
      ],
      "text/plain": [
       "                    SP500  US10Y\n",
       "observation_date                \n",
       "2007-06-11        1509.12   5.14\n",
       "2007-06-12        1493.00   5.26\n",
       "2007-06-13        1515.67   5.20\n",
       "2007-06-14        1522.97   5.23\n",
       "2007-06-15        1532.91   5.16"
      ]
     },
     "execution_count": 21,
     "metadata": {},
     "output_type": "execute_result"
    }
   ],
   "source": [
    "stocks_and_bonds.head()"
   ]
  }
 ],
 "metadata": {
  "kernelspec": {
   "display_name": "Python 3",
   "language": "python",
   "name": "python3"
  },
  "language_info": {
   "codemirror_mode": {
    "name": "ipython",
    "version": 3
   },
   "file_extension": ".py",
   "mimetype": "text/x-python",
   "name": "python",
   "nbconvert_exporter": "python",
   "pygments_lexer": "ipython3",
   "version": "3.7.10"
  }
 },
 "nbformat": 4,
 "nbformat_minor": 5
}
