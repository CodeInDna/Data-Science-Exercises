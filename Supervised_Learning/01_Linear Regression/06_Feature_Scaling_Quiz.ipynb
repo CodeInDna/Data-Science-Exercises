{
 "cells": [
  {
   "cell_type": "markdown",
   "metadata": {},
   "source": [
    "## Feature Scaling Quiz"
   ]
  },
  {
   "cell_type": "markdown",
   "metadata": {},
   "source": [
    "#### Feature Scaling\n",
    "What is feature scaling?\n",
    "Feature scaling is a way of transforming your data into a common range of values. There are two common scalings: 1.Standardizing 2.Normalizing\n",
    "\n",
    "#### Standardizing\n",
    "Standardizing is completed by taking each value of your column, subtracting the mean of the column, and then dividing by the standard deviation of the column. In Python, let's say you have a column in df called height. You could create a standardized height as:\n",
    "\n",
    "#### df[\"height_standard\"] = (df[\"height\"] - df[\"height\"].mean()) / df[\"height\"].std()\n",
    "\n",
    "This will create a new \"standardized\" column where each value is a comparison to the mean of the column, and a new, standardized value can be interpreted as the number of standard deviations the original height was from the mean. This type of feature scaling is by far the most common of all techniques (for the reasons discussed here, but also likely because of precedent).\n",
    "\n",
    "#### Normalizing\n",
    "A second type of feature scaling that is very popular is known as normalizing. With normalizing, data are scaled between 0 and 1. Using the same example as above, we could perform normalizing in python in the following way:\n",
    "\n",
    "#### df[\"height_normal\"] = (df[\"height\"] - df[\"height\"].min()) / (df[\"height\"].max() - df['height'].min())\n",
    "\n",
    "#### When Should I Use Feature Scaling?\n",
    "In many machine learning algorithms, the result will change depending on the units of your data. This is especially true in two specific cases:\n",
    "* When your algorithm uses a distance based metric to predict.\n",
    "* When you incorporate regularization."
   ]
  },
  {
   "cell_type": "code",
   "execution_count": 1,
   "metadata": {},
   "outputs": [],
   "source": [
    "1. Load in the data\n",
    "The data is in the file called 'data.csv'. Note that there's no header row on this file.\n",
    "Split the data so that the six predictor features (first six columns) are stored in X, and the outcome feature (last column) is \n",
    "stored in y.\n",
    "\n",
    "2. (NEW) Perform feature scaling on data via standardization\n",
    "Create an instance of sklearn's StandardScaler and assign it to the variable scaler.\n",
    "Compute the scaling parameters by using the .fit_transform() method on the predictor feature array, which also returns the \n",
    "predictor variables in their standardized values. Store those standardized values in X_scaled.\n",
    "\n",
    "3. Fit data using linear regression with Lasso regularization\n",
    "Create an instance of sklearn's Lasso class and assign it to the variable lasso_reg. You don't need to set any parameter values:\n",
    "use the default values for the quiz.\n",
    "Use the Lasso object's .fit() method to fit the regression model onto the data. Make sure that you apply the fit to the \n",
    "standardized data from the previous step (X_scaled), not the original data.\n",
    "\n",
    "4. Inspect the coefficients of the regression model\n",
    "Obtain the coefficients of the fit regression model using the .coef_ attribute of the Lasso object. Store this in the reg_coef \n",
    "variable: the coefficients will be printed out, and you will use your observations to answer the question at the bottom of the \n",
    "page."
   ]
  },
  {
   "cell_type": "code",
   "execution_count": 18,
   "metadata": {},
   "outputs": [
    {
     "name": "stdout",
     "output_type": "stream",
     "text": [
      "[  0.           3.90753617   9.02575748  -0.         -11.78303187\n",
      "   0.45340137]\n"
     ]
    }
   ],
   "source": [
    "# TODO: Add import statements\n",
    "import pandas as pd\n",
    "from sklearn.linear_model import Lasso\n",
    "from sklearn.preprocessing import StandardScaler\n",
    "\n",
    "# Assign the data to predictor and outcome variables\n",
    "# TODO: Load the data\n",
    "train_data = pd.read_csv('../Datasets/scaling_data.csv', header = None)\n",
    "X = train_data.iloc[:, :-1]\n",
    "y = train_data.iloc[:, -1]\n",
    "\n",
    "# TODO: Create the standardization scaling object.\n",
    "scaler = StandardScaler()\n",
    "\n",
    "# TODO: Fit the standardization parameters and scale the data.\n",
    "X_scaled = scaler.fit_transform(X)\n",
    "\n",
    "# TODO: Create the linear regression model with lasso regularization.\n",
    "lasso_reg = Lasso()\n",
    "\n",
    "# TODO: Fit the model.\n",
    "lasso_reg.fit(X_scaled, y)\n",
    "\n",
    "# TODO: Retrieve and print out the coefficients from the regression model.\n",
    "reg_coef = lasso_reg.coef_\n",
    "print(reg_coef)"
   ]
  }
 ],
 "metadata": {
  "kernelspec": {
   "display_name": "Python 3",
   "language": "python",
   "name": "python3"
  },
  "language_info": {
   "codemirror_mode": {
    "name": "ipython",
    "version": 3
   },
   "file_extension": ".py",
   "mimetype": "text/x-python",
   "name": "python",
   "nbconvert_exporter": "python",
   "pygments_lexer": "ipython3",
   "version": "3.7.6"
  }
 },
 "nbformat": 4,
 "nbformat_minor": 2
}
