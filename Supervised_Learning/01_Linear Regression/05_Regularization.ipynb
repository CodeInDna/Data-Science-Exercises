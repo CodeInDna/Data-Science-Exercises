{
 "cells": [
  {
   "cell_type": "markdown",
   "metadata": {},
   "source": [
    "## Regularization Quiz"
   ]
  },
  {
   "cell_type": "code",
   "execution_count": 2,
   "metadata": {},
   "outputs": [],
   "source": [
    "# Use sklearn's Lasso class to fit a linear regression model to the data, while also using L1 regularization to control for \n",
    "# model complexity.\n",
    "\n",
    "# Perform the following steps:\n",
    "# 1. Load in the data\n",
    "# The data is in the file called 'data.csv'. Note that there's no header row on this file.\n",
    "# Split the data so that the six predictor features (first six columns) are stored in X, and the outcome feature (last column) \n",
    "# is stored in y.\n",
    "\n",
    "# 2. Fit data using linear regression with Lasso regularization\n",
    "# Create an instance of sklearn's Lasso class and assign it to the variable lasso_reg. You don't need to set any parameter \n",
    "# values: use the default values for the quiz.\n",
    "# Use the Lasso object's .fit() method to fit the regression model onto the data.\n",
    "\n",
    "# 3. Inspect the coefficients of the regression model\n",
    "# Obtain the coefficients of the fit regression model using the .coef_ attribute of the Lasso object. Store this in the \n",
    "# reg_coef variable: the coefficients will be printed out, and you will use your observations to answer the question at the \n",
    "# bottom of the page."
   ]
  },
  {
   "cell_type": "code",
   "execution_count": 19,
   "metadata": {},
   "outputs": [
    {
     "name": "stdout",
     "output_type": "stream",
     "text": [
      "[ 0.          2.35793224  2.00441646 -0.05511954 -3.92808318  0.        ]\n"
     ]
    }
   ],
   "source": [
    "# TODO: Add import statements\n",
    "import pandas as pd\n",
    "from sklearn.linear_model import Lasso\n",
    "\n",
    "# Assign the data to predictor and outcome variables\n",
    "# TODO: Load the data\n",
    "train_data = pd.read_csv(\"../Datasets/regularize_data.csv\", header=None)\n",
    "X = train_data.iloc[:, :-1]\n",
    "y = train_data.iloc[:, -1]\n",
    "\n",
    "# TODO: Create the linear regression model with lasso regularization.\n",
    "lasso_reg = Lasso()\n",
    "\n",
    "# TODO: Fit the model.\n",
    "lasso_reg.fit(X, y)\n",
    "\n",
    "# TODO: Retrieve and print out the coefficients from the regression model.\n",
    "reg_coef = lasso_reg.coef_\n",
    "print(reg_coef)"
   ]
  }
 ],
 "metadata": {
  "kernelspec": {
   "display_name": "Python 3",
   "language": "python",
   "name": "python3"
  },
  "language_info": {
   "codemirror_mode": {
    "name": "ipython",
    "version": 3
   },
   "file_extension": ".py",
   "mimetype": "text/x-python",
   "name": "python",
   "nbconvert_exporter": "python",
   "pygments_lexer": "ipython3",
   "version": "3.7.4"
  }
 },
 "nbformat": 4,
 "nbformat_minor": 2
}
