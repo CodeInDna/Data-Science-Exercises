{
 "cells": [
  {
   "cell_type": "markdown",
   "metadata": {},
   "source": [
    "Which of the following splitting criteria provides the most information gain for discriminating Mobugs from Lobugs?\n",
    "\n",
    "* Color = Brown\n",
    "* Color = Blue\n",
    "* Color = Green\n",
    "* Length < 17 mm\n",
    "* Length < 20 mm"
   ]
  },
  {
   "cell_type": "code",
   "execution_count": 1,
   "metadata": {},
   "outputs": [],
   "source": [
    "import numpy as np\n",
    "import pandas as pd\n",
    "from math import log"
   ]
  },
  {
   "cell_type": "code",
   "execution_count": 2,
   "metadata": {},
   "outputs": [
    {
     "data": {
      "text/html": [
       "<div>\n",
       "<style scoped>\n",
       "    .dataframe tbody tr th:only-of-type {\n",
       "        vertical-align: middle;\n",
       "    }\n",
       "\n",
       "    .dataframe tbody tr th {\n",
       "        vertical-align: top;\n",
       "    }\n",
       "\n",
       "    .dataframe thead th {\n",
       "        text-align: right;\n",
       "    }\n",
       "</style>\n",
       "<table border=\"1\" class=\"dataframe\">\n",
       "  <thead>\n",
       "    <tr style=\"text-align: right;\">\n",
       "      <th></th>\n",
       "      <th>Species</th>\n",
       "      <th>Color</th>\n",
       "      <th>Length (mm)</th>\n",
       "    </tr>\n",
       "  </thead>\n",
       "  <tbody>\n",
       "    <tr>\n",
       "      <th>0</th>\n",
       "      <td>Mobug</td>\n",
       "      <td>Brown</td>\n",
       "      <td>11.6</td>\n",
       "    </tr>\n",
       "    <tr>\n",
       "      <th>1</th>\n",
       "      <td>Mobug</td>\n",
       "      <td>Blue</td>\n",
       "      <td>16.3</td>\n",
       "    </tr>\n",
       "    <tr>\n",
       "      <th>2</th>\n",
       "      <td>Lobug</td>\n",
       "      <td>Blue</td>\n",
       "      <td>15.1</td>\n",
       "    </tr>\n",
       "    <tr>\n",
       "      <th>3</th>\n",
       "      <td>Lobug</td>\n",
       "      <td>Green</td>\n",
       "      <td>23.7</td>\n",
       "    </tr>\n",
       "    <tr>\n",
       "      <th>4</th>\n",
       "      <td>Lobug</td>\n",
       "      <td>Blue</td>\n",
       "      <td>18.4</td>\n",
       "    </tr>\n",
       "  </tbody>\n",
       "</table>\n",
       "</div>"
      ],
      "text/plain": [
       "  Species  Color  Length (mm)\n",
       "0   Mobug  Brown         11.6\n",
       "1   Mobug   Blue         16.3\n",
       "2   Lobug   Blue         15.1\n",
       "3   Lobug  Green         23.7\n",
       "4   Lobug   Blue         18.4"
      ]
     },
     "execution_count": 2,
     "metadata": {},
     "output_type": "execute_result"
    }
   ],
   "source": [
    "bugs = pd.read_csv('../../Datasets/ml-bugs.csv')\n",
    "bugs.head()"
   ]
  },
  {
   "cell_type": "code",
   "execution_count": 6,
   "metadata": {},
   "outputs": [],
   "source": [
    "def calulate_entropy(bugs):\n",
    "    lob = bugs[bugs['Species'] == 'Lobug'].shape[0]\n",
    "    mob = bugs[bugs['Species'] == 'Mobug'].shape[0]\n",
    "    \n",
    "    total = bugs['Species'].shape[0]\n",
    "    \n",
    "    return (-1 * (lob/total) * log((lob/total), 2)) + (-1 * (mob/total) * log((mob/total), 2))"
   ]
  },
  {
   "cell_type": "code",
   "execution_count": 18,
   "metadata": {},
   "outputs": [],
   "source": [
    "def calculate_info_gain(series):\n",
    "    sub1 = bugs[series].copy()\n",
    "    sub2 = bugs[~series].copy()\n",
    "    \n",
    "    parent_entropy = calulate_entropy(bugs)\n",
    "    \n",
    "    weight1 = sub1.shape[0] / bugs.shape[0]\n",
    "    weight2 = sub2.shape[0] / bugs.shape[0]\n",
    "    \n",
    "    entropy1 = calulate_entropy(sub1)\n",
    "    entropy2 = calulate_entropy(sub2)\n",
    "    \n",
    "    return parent_entropy - (weight1 * entropy1 + weight2 * entropy2)\n",
    "    \n",
    "    "
   ]
  },
  {
   "cell_type": "code",
   "execution_count": 19,
   "metadata": {},
   "outputs": [
    {
     "name": "stdout",
     "output_type": "stream",
     "text": [
      "b['Color']=='Brown' -> 0.0616\n",
      "b['Color']=='Blue' -> 0.0006\n",
      "b['Color']=='Green' -> 0.0428\n",
      "b['Length (mm)'] < 17 -> 0.1126\n",
      "b['Length (mm)'] < 20 -> 0.1007\n"
     ]
    }
   ],
   "source": [
    "for series, string in [(bugs['Color'] == 'Brown', \"b['Color']=='Brown'\"),\n",
    "                      (bugs['Color']=='Blue', \"b['Color']=='Blue'\"),\n",
    "                       (bugs['Color']=='Green', \"b['Color']=='Green'\"),\n",
    "                       (bugs['Length (mm)'] < 17, \"b['Length (mm)'] < 17\"),\n",
    "                       (bugs['Length (mm)'] < 20, \"b['Length (mm)'] < 20\")]:\n",
    "    info_gain = calculate_info_gain(series)\n",
    "    print(f\"{string} -> {info_gain:1.4f}\")"
   ]
  }
 ],
 "metadata": {
  "kernelspec": {
   "display_name": "Python 3",
   "language": "python",
   "name": "python3"
  },
  "language_info": {
   "codemirror_mode": {
    "name": "ipython",
    "version": 3
   },
   "file_extension": ".py",
   "mimetype": "text/x-python",
   "name": "python",
   "nbconvert_exporter": "python",
   "pygments_lexer": "ipython3",
   "version": "3.7.6"
  }
 },
 "nbformat": 4,
 "nbformat_minor": 2
}
