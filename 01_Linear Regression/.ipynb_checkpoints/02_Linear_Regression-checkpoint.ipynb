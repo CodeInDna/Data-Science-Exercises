{
 "cells": [
  {
   "cell_type": "markdown",
   "metadata": {},
   "source": [
    "## Linear Regression Quiz"
   ]
  },
  {
   "cell_type": "code",
   "execution_count": 2,
   "metadata": {},
   "outputs": [],
   "source": [
    "# In this quiz, you'll be working with data on the average life expectancy at birth and the average BMI for males across the world. The data comes from Gapminder.\n",
    "\n",
    "# The data file can be found under the \"bmi_and_life_expectancy.csv\" tab in the quiz below. It includes three columns, containing the following data:\n",
    "\n",
    "# * Country – The country the person was born in.\n",
    "# * Life expectancy – The average life expectancy at birth for a person in that country.\n",
    "# * BMI – The mean BMI of males in that country.\n",
    "\n",
    "# You'll need to complete each of the following steps:\n",
    "\n",
    "# 1. Load the data\n",
    "# The data is in the file called \"bmi_and_life_expectancy.csv\".\n",
    "# Use pandas read_csv to load the data into a dataframe (don't forget to import pandas!)\n",
    "# Assign the dataframe to the variable bmi_life_data.\n",
    "\n",
    "# 2. Build a linear regression model\n",
    "# Create a regression model using scikit-learn's LinearRegression and assign it to bmi_life_model.\n",
    "# Fit the model to the data.\n",
    "\n",
    "# 3. Predict using the model\n",
    "# Predict using a BMI of 21.07931 and assign it to the variable laos_life_exp."
   ]
  },
  {
   "cell_type": "code",
   "execution_count": 5,
   "metadata": {},
   "outputs": [
    {
     "data": {
      "text/html": [
       "<div>\n",
       "<style scoped>\n",
       "    .dataframe tbody tr th:only-of-type {\n",
       "        vertical-align: middle;\n",
       "    }\n",
       "\n",
       "    .dataframe tbody tr th {\n",
       "        vertical-align: top;\n",
       "    }\n",
       "\n",
       "    .dataframe thead th {\n",
       "        text-align: right;\n",
       "    }\n",
       "</style>\n",
       "<table border=\"1\" class=\"dataframe\">\n",
       "  <thead>\n",
       "    <tr style=\"text-align: right;\">\n",
       "      <th></th>\n",
       "      <th>Country</th>\n",
       "      <th>Life expectancy</th>\n",
       "      <th>BMI</th>\n",
       "    </tr>\n",
       "  </thead>\n",
       "  <tbody>\n",
       "    <tr>\n",
       "      <td>0</td>\n",
       "      <td>Afghanistan</td>\n",
       "      <td>52.8</td>\n",
       "      <td>20.62058</td>\n",
       "    </tr>\n",
       "    <tr>\n",
       "      <td>1</td>\n",
       "      <td>Albania</td>\n",
       "      <td>76.8</td>\n",
       "      <td>26.44657</td>\n",
       "    </tr>\n",
       "    <tr>\n",
       "      <td>2</td>\n",
       "      <td>Algeria</td>\n",
       "      <td>75.5</td>\n",
       "      <td>24.59620</td>\n",
       "    </tr>\n",
       "    <tr>\n",
       "      <td>3</td>\n",
       "      <td>Andorra</td>\n",
       "      <td>84.6</td>\n",
       "      <td>27.63048</td>\n",
       "    </tr>\n",
       "    <tr>\n",
       "      <td>4</td>\n",
       "      <td>Angola</td>\n",
       "      <td>56.7</td>\n",
       "      <td>22.25083</td>\n",
       "    </tr>\n",
       "  </tbody>\n",
       "</table>\n",
       "</div>"
      ],
      "text/plain": [
       "       Country  Life expectancy       BMI\n",
       "0  Afghanistan             52.8  20.62058\n",
       "1      Albania             76.8  26.44657\n",
       "2      Algeria             75.5  24.59620\n",
       "3      Andorra             84.6  27.63048\n",
       "4       Angola             56.7  22.25083"
      ]
     },
     "execution_count": 5,
     "metadata": {},
     "output_type": "execute_result"
    }
   ],
   "source": [
    "# TODO: Add import statements\n",
    "import pandas as pd\n",
    "import numpy as np\n",
    "from sklearn.linear_model import LinearRegression\n",
    "\n",
    "# Assign the dataframe to this variable.\n",
    "# TODO: Load the data\n",
    "bmi_life_data = pd.read_csv('../Datasets/linreg_data.csv') \n",
    "bmi_life_data.head()"
   ]
  },
  {
   "cell_type": "code",
   "execution_count": 13,
   "metadata": {},
   "outputs": [
    {
     "ename": "ValueError",
     "evalue": "Expected 2D array, got 1D array instead:\narray=[20.62058 26.44657 24.5962  27.63048 22.25083 25.35542 27.56373 26.46741\n 25.65117 27.24594 20.39742 26.38439 26.16443 26.75915 27.02255 22.41835\n 22.8218  24.43335 26.61163 22.12984 25.78623 26.54286 21.27157 21.50291\n 20.80496 23.68173 27.4521  23.51522 21.48569 27.01542 22.92176 24.94041\n 22.06131 19.86692 21.87134 26.47897 22.56469 26.59629 25.06867 27.41899\n 26.13287 23.38403 25.58841 26.73243 26.36751 20.88509 26.26446 20.247\n 26.53078 26.73339 25.85329 30.86752 24.0762  21.65029 25.54942 27.16509\n 22.84247 26.33786 26.01359 25.17988 25.29947 22.52449 21.64338 23.68465\n 23.66302 25.10872 27.11568 27.20687 20.95956 21.85576 25.31003 26.71017\n 27.65325 27.13151 24.00421 23.50004 27.47362 26.29078 21.59258 29.17211\n 26.45693 21.90157 21.89537 26.54164 26.86102 27.43404 26.34473 21.40347\n 22.03468 24.73069 23.21991 21.78881 27.68361 29.37337 22.62295 25.15669\n 27.42468 24.2369  24.88385 26.55412 25.63182 21.93536 21.44932 22.65008\n 20.76344 26.01541 25.77291 21.21958 23.03322 26.93424 26.24109 22.29914\n 26.26959 25.01506 25.54223 24.77041 22.87263 26.6738  26.68445 28.13138\n 25.41069 26.01131 22.55453 30.42475 23.51233 21.92743 26.51495 22.53139\n 23.83996 26.92717 27.43983 21.96917 26.85538 27.49975 21.96671 22.40484\n 25.49887 23.16969 26.37629 26.20195 26.91969 23.77966 22.47792 23.00803\n 20.59082 21.87875 30.99563 26.39669 25.15699 26.70371 25.24796 22.35833\n 25.42379 28.05359 27.39249 28.45698 26.39123 25.32054 26.78926 26.5775\n 20.9163  20.68321 22.0266 ].\nReshape your data either using array.reshape(-1, 1) if your data has a single feature or array.reshape(1, -1) if it contains a single sample.",
     "output_type": "error",
     "traceback": [
      "\u001b[1;31m---------------------------------------------------------------------------\u001b[0m",
      "\u001b[1;31mValueError\u001b[0m                                Traceback (most recent call last)",
      "\u001b[1;32m<ipython-input-13-677e63991c99>\u001b[0m in \u001b[0;36m<module>\u001b[1;34m\u001b[0m\n\u001b[0;32m      5\u001b[0m \u001b[1;31m# TODO: Fit the model and Assign it to bmi_life_model\u001b[0m\u001b[1;33m\u001b[0m\u001b[1;33m\u001b[0m\u001b[1;33m\u001b[0m\u001b[0m\n\u001b[0;32m      6\u001b[0m \u001b[0mbmi_life_model\u001b[0m \u001b[1;33m=\u001b[0m \u001b[0mLinearRegression\u001b[0m\u001b[1;33m(\u001b[0m\u001b[1;33m)\u001b[0m\u001b[1;33m\u001b[0m\u001b[1;33m\u001b[0m\u001b[0m\n\u001b[1;32m----> 7\u001b[1;33m \u001b[0mbmi_life_model\u001b[0m\u001b[1;33m.\u001b[0m\u001b[0mfit\u001b[0m\u001b[1;33m(\u001b[0m\u001b[0mX\u001b[0m\u001b[1;33m,\u001b[0m \u001b[0mY\u001b[0m\u001b[1;33m)\u001b[0m\u001b[1;33m\u001b[0m\u001b[1;33m\u001b[0m\u001b[0m\n\u001b[0m\u001b[0;32m      8\u001b[0m \u001b[1;33m\u001b[0m\u001b[0m\n\u001b[0;32m      9\u001b[0m \u001b[1;31m# Make a prediction using the model\u001b[0m\u001b[1;33m\u001b[0m\u001b[1;33m\u001b[0m\u001b[1;33m\u001b[0m\u001b[0m\n",
      "\u001b[1;32m~\\Anaconda3\\lib\\site-packages\\sklearn\\linear_model\\base.py\u001b[0m in \u001b[0;36mfit\u001b[1;34m(self, X, y, sample_weight)\u001b[0m\n\u001b[0;32m    461\u001b[0m         \u001b[0mn_jobs_\u001b[0m \u001b[1;33m=\u001b[0m \u001b[0mself\u001b[0m\u001b[1;33m.\u001b[0m\u001b[0mn_jobs\u001b[0m\u001b[1;33m\u001b[0m\u001b[1;33m\u001b[0m\u001b[0m\n\u001b[0;32m    462\u001b[0m         X, y = check_X_y(X, y, accept_sparse=['csr', 'csc', 'coo'],\n\u001b[1;32m--> 463\u001b[1;33m                          y_numeric=True, multi_output=True)\n\u001b[0m\u001b[0;32m    464\u001b[0m \u001b[1;33m\u001b[0m\u001b[0m\n\u001b[0;32m    465\u001b[0m         \u001b[1;32mif\u001b[0m \u001b[0msample_weight\u001b[0m \u001b[1;32mis\u001b[0m \u001b[1;32mnot\u001b[0m \u001b[1;32mNone\u001b[0m \u001b[1;32mand\u001b[0m \u001b[0mnp\u001b[0m\u001b[1;33m.\u001b[0m\u001b[0matleast_1d\u001b[0m\u001b[1;33m(\u001b[0m\u001b[0msample_weight\u001b[0m\u001b[1;33m)\u001b[0m\u001b[1;33m.\u001b[0m\u001b[0mndim\u001b[0m \u001b[1;33m>\u001b[0m \u001b[1;36m1\u001b[0m\u001b[1;33m:\u001b[0m\u001b[1;33m\u001b[0m\u001b[1;33m\u001b[0m\u001b[0m\n",
      "\u001b[1;32m~\\Anaconda3\\lib\\site-packages\\sklearn\\utils\\validation.py\u001b[0m in \u001b[0;36mcheck_X_y\u001b[1;34m(X, y, accept_sparse, accept_large_sparse, dtype, order, copy, force_all_finite, ensure_2d, allow_nd, multi_output, ensure_min_samples, ensure_min_features, y_numeric, warn_on_dtype, estimator)\u001b[0m\n\u001b[0;32m    717\u001b[0m                     \u001b[0mensure_min_features\u001b[0m\u001b[1;33m=\u001b[0m\u001b[0mensure_min_features\u001b[0m\u001b[1;33m,\u001b[0m\u001b[1;33m\u001b[0m\u001b[1;33m\u001b[0m\u001b[0m\n\u001b[0;32m    718\u001b[0m                     \u001b[0mwarn_on_dtype\u001b[0m\u001b[1;33m=\u001b[0m\u001b[0mwarn_on_dtype\u001b[0m\u001b[1;33m,\u001b[0m\u001b[1;33m\u001b[0m\u001b[1;33m\u001b[0m\u001b[0m\n\u001b[1;32m--> 719\u001b[1;33m                     estimator=estimator)\n\u001b[0m\u001b[0;32m    720\u001b[0m     \u001b[1;32mif\u001b[0m \u001b[0mmulti_output\u001b[0m\u001b[1;33m:\u001b[0m\u001b[1;33m\u001b[0m\u001b[1;33m\u001b[0m\u001b[0m\n\u001b[0;32m    721\u001b[0m         y = check_array(y, 'csr', force_all_finite=True, ensure_2d=False,\n",
      "\u001b[1;32m~\\Anaconda3\\lib\\site-packages\\sklearn\\utils\\validation.py\u001b[0m in \u001b[0;36mcheck_array\u001b[1;34m(array, accept_sparse, accept_large_sparse, dtype, order, copy, force_all_finite, ensure_2d, allow_nd, ensure_min_samples, ensure_min_features, warn_on_dtype, estimator)\u001b[0m\n\u001b[0;32m    519\u001b[0m                     \u001b[1;34m\"Reshape your data either using array.reshape(-1, 1) if \"\u001b[0m\u001b[1;33m\u001b[0m\u001b[1;33m\u001b[0m\u001b[0m\n\u001b[0;32m    520\u001b[0m                     \u001b[1;34m\"your data has a single feature or array.reshape(1, -1) \"\u001b[0m\u001b[1;33m\u001b[0m\u001b[1;33m\u001b[0m\u001b[0m\n\u001b[1;32m--> 521\u001b[1;33m                     \"if it contains a single sample.\".format(array))\n\u001b[0m\u001b[0;32m    522\u001b[0m \u001b[1;33m\u001b[0m\u001b[0m\n\u001b[0;32m    523\u001b[0m         \u001b[1;31m# in the future np.flexible dtypes will be handled like object dtypes\u001b[0m\u001b[1;33m\u001b[0m\u001b[1;33m\u001b[0m\u001b[1;33m\u001b[0m\u001b[0m\n",
      "\u001b[1;31mValueError\u001b[0m: Expected 2D array, got 1D array instead:\narray=[20.62058 26.44657 24.5962  27.63048 22.25083 25.35542 27.56373 26.46741\n 25.65117 27.24594 20.39742 26.38439 26.16443 26.75915 27.02255 22.41835\n 22.8218  24.43335 26.61163 22.12984 25.78623 26.54286 21.27157 21.50291\n 20.80496 23.68173 27.4521  23.51522 21.48569 27.01542 22.92176 24.94041\n 22.06131 19.86692 21.87134 26.47897 22.56469 26.59629 25.06867 27.41899\n 26.13287 23.38403 25.58841 26.73243 26.36751 20.88509 26.26446 20.247\n 26.53078 26.73339 25.85329 30.86752 24.0762  21.65029 25.54942 27.16509\n 22.84247 26.33786 26.01359 25.17988 25.29947 22.52449 21.64338 23.68465\n 23.66302 25.10872 27.11568 27.20687 20.95956 21.85576 25.31003 26.71017\n 27.65325 27.13151 24.00421 23.50004 27.47362 26.29078 21.59258 29.17211\n 26.45693 21.90157 21.89537 26.54164 26.86102 27.43404 26.34473 21.40347\n 22.03468 24.73069 23.21991 21.78881 27.68361 29.37337 22.62295 25.15669\n 27.42468 24.2369  24.88385 26.55412 25.63182 21.93536 21.44932 22.65008\n 20.76344 26.01541 25.77291 21.21958 23.03322 26.93424 26.24109 22.29914\n 26.26959 25.01506 25.54223 24.77041 22.87263 26.6738  26.68445 28.13138\n 25.41069 26.01131 22.55453 30.42475 23.51233 21.92743 26.51495 22.53139\n 23.83996 26.92717 27.43983 21.96917 26.85538 27.49975 21.96671 22.40484\n 25.49887 23.16969 26.37629 26.20195 26.91969 23.77966 22.47792 23.00803\n 20.59082 21.87875 30.99563 26.39669 25.15699 26.70371 25.24796 22.35833\n 25.42379 28.05359 27.39249 28.45698 26.39123 25.32054 26.78926 26.5775\n 20.9163  20.68321 22.0266 ].\nReshape your data either using array.reshape(-1, 1) if your data has a single feature or array.reshape(1, -1) if it contains a single sample."
     ]
    }
   ],
   "source": [
    "X = bmi_life_data['BMI']\n",
    "Y = bmi_life_data['Life expectancy']\n",
    "\n",
    "# Make and fit the linear regression model\n",
    "# TODO: Fit the model and Assign it to bmi_life_model\n",
    "bmi_life_model = LinearRegression()\n",
    "bmi_life_model.fit(X, Y)\n",
    "\n",
    "# Make a prediction using the model\n",
    "# TODO: Predict life expectancy for a BMI value of 21.07931\n",
    "laos_life_exp = bmi_life_model.predict(np.reshape(np.array([21.07931]), (-1,1)))"
   ]
  },
  {
   "cell_type": "code",
   "execution_count": null,
   "metadata": {},
   "outputs": [],
   "source": []
  }
 ],
 "metadata": {
  "kernelspec": {
   "display_name": "Python 3",
   "language": "python",
   "name": "python3"
  },
  "language_info": {
   "codemirror_mode": {
    "name": "ipython",
    "version": 3
   },
   "file_extension": ".py",
   "mimetype": "text/x-python",
   "name": "python",
   "nbconvert_exporter": "python",
   "pygments_lexer": "ipython3",
   "version": "3.7.4"
  }
 },
 "nbformat": 4,
 "nbformat_minor": 2
}
