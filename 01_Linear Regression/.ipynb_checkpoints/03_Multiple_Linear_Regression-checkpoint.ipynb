{
 "cells": [
  {
   "cell_type": "markdown",
   "metadata": {},
   "source": [
    "## Multiple Linear Regression Quiz"
   ]
  },
  {
   "cell_type": "code",
   "execution_count": 1,
   "metadata": {},
   "outputs": [],
   "source": [
    "# In this quiz, you'll be using the Boston house-prices dataset. The dataset consists of 13 features of 506 houses and the median home value in $1000's. You'll fit a model on the 13 features to predict the value of the houses.\n",
    "\n",
    "# You'll need to complete each of the following steps:\n",
    "\n",
    "# 1. Build a linear regression model\n",
    "# Create a regression model using scikit-learn's LinearRegression and assign it to model.\n",
    "# Fit the model to the data.\n",
    "\n",
    "# 2. Predict using the model\n",
    "# Predict the value of sample_house."
   ]
  },
  {
   "cell_type": "code",
   "execution_count": 7,
   "metadata": {},
   "outputs": [],
   "source": [
    "from sklearn.linear_model import LinearRegression\n",
    "from sklearn.datasets import load_boston\n",
    "\n",
    "# Load the data from the boston house-prices dataset \n",
    "boston_data = load_boston()\n",
    "x = boston_data['data']   # features-13, Rows-506\n",
    "y = boston_data['target']\n",
    "\n",
    "# Make and fit the linear regression model\n",
    "# TODO: Fit the model and assign it to the model variable\n",
    "model = LinearRegression()\n",
    "model.fit(x, y)\n",
    "\n",
    "# Make a prediction using the model\n",
    "sample_house = [[2.29690000e-01, 0.00000000e+00, 1.05900000e+01, 0.00000000e+00, 4.89000000e-01,\n",
    "                6.32600000e+00, 5.25000000e+01, 4.35490000e+00, 4.00000000e+00, 2.77000000e+02,\n",
    "                1.86000000e+01, 3.94870000e+02, 1.09700000e+01]]\n",
    "# TODO: Predict housing price for the sample_house\n",
    "prediction = model.predict(sample_house)"
   ]
  },
  {
   "cell_type": "code",
   "execution_count": 10,
   "metadata": {},
   "outputs": [
    {
     "data": {
      "text/plain": [
       "array([23.68284712])"
      ]
     },
     "execution_count": 10,
     "metadata": {},
     "output_type": "execute_result"
    }
   ],
   "source": [
    "prediction"
   ]
  },
  {
   "cell_type": "code",
   "execution_count": 21,
   "metadata": {},
   "outputs": [
    {
     "name": "stdout",
     "output_type": "stream",
     "text": [
      "t\n",
      "h\n",
      "i\n",
      "s\n",
      "i\n",
      "s\n",
      "a\n",
      "w\n",
      "e\n",
      "s\n",
      "o\n",
      "m\n",
      "e\n",
      "6\n"
     ]
    }
   ],
   "source": [
    "def findLongestSubstring(stri):\n",
    "    longest = 0\n",
    "    seen = {}\n",
    "    start = 0\n",
    "\n",
    "    for i in range(len(stri)):\n",
    "        char = stri[i]\n",
    "        print(seen)\n",
    "        print(char)\n",
    "        if char in seen:\n",
    "            start = max(start, seen[char])\n",
    "        longest = max(longest, i-start+1)\n",
    "        seen[char] = i+1\n",
    "        \n",
    "    return longest\n",
    "\n",
    "# print(findLongestSubstring('')) # 0\n",
    "print(findLongestSubstring('thisisawesome')) # 6\n",
    "# print(findLongestSubstring('thecatinthehat')) # 7\n",
    "# print(findLongestSubstring('bbbbb')) # 1\n",
    "# print(findLongestSubstring('longestsubstring')) # 8\n",
    "# print(findLongestSubstring('thisishowwedoit')) # 6"
   ]
  },
  {
   "cell_type": "code",
   "execution_count": null,
   "metadata": {},
   "outputs": [],
   "source": []
  }
 ],
 "metadata": {
  "kernelspec": {
   "display_name": "Python 3",
   "language": "python",
   "name": "python3"
  },
  "language_info": {
   "codemirror_mode": {
    "name": "ipython",
    "version": 3
   },
   "file_extension": ".py",
   "mimetype": "text/x-python",
   "name": "python",
   "nbconvert_exporter": "python",
   "pygments_lexer": "ipython3",
   "version": "3.7.4"
  }
 },
 "nbformat": 4,
 "nbformat_minor": 2
}
