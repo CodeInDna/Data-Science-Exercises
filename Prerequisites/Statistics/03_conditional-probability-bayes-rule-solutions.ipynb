{
 "cells": [
  {
   "cell_type": "markdown",
   "metadata": {},
   "source": [
    "# Conditional Probability & Bayes Rule Quiz"
   ]
  },
  {
   "cell_type": "code",
   "execution_count": 21,
   "metadata": {},
   "outputs": [
    {
     "data": {
      "text/html": [
       "<div>\n",
       "<style scoped>\n",
       "    .dataframe tbody tr th:only-of-type {\n",
       "        vertical-align: middle;\n",
       "    }\n",
       "\n",
       "    .dataframe tbody tr th {\n",
       "        vertical-align: top;\n",
       "    }\n",
       "\n",
       "    .dataframe thead th {\n",
       "        text-align: right;\n",
       "    }\n",
       "</style>\n",
       "<table border=\"1\" class=\"dataframe\">\n",
       "  <thead>\n",
       "    <tr style=\"text-align: right;\">\n",
       "      <th></th>\n",
       "      <th>patient_id</th>\n",
       "      <th>test_result</th>\n",
       "      <th>has_cancer</th>\n",
       "    </tr>\n",
       "  </thead>\n",
       "  <tbody>\n",
       "    <tr>\n",
       "      <th>0</th>\n",
       "      <td>79452</td>\n",
       "      <td>Negative</td>\n",
       "      <td>False</td>\n",
       "    </tr>\n",
       "    <tr>\n",
       "      <th>1</th>\n",
       "      <td>81667</td>\n",
       "      <td>Positive</td>\n",
       "      <td>True</td>\n",
       "    </tr>\n",
       "    <tr>\n",
       "      <th>2</th>\n",
       "      <td>76297</td>\n",
       "      <td>Negative</td>\n",
       "      <td>False</td>\n",
       "    </tr>\n",
       "    <tr>\n",
       "      <th>3</th>\n",
       "      <td>36593</td>\n",
       "      <td>Negative</td>\n",
       "      <td>False</td>\n",
       "    </tr>\n",
       "    <tr>\n",
       "      <th>4</th>\n",
       "      <td>53717</td>\n",
       "      <td>Negative</td>\n",
       "      <td>False</td>\n",
       "    </tr>\n",
       "  </tbody>\n",
       "</table>\n",
       "</div>"
      ],
      "text/plain": [
       "   patient_id test_result  has_cancer\n",
       "0       79452    Negative       False\n",
       "1       81667    Positive        True\n",
       "2       76297    Negative       False\n",
       "3       36593    Negative       False\n",
       "4       53717    Negative       False"
      ]
     },
     "execution_count": 21,
     "metadata": {},
     "output_type": "execute_result"
    }
   ],
   "source": [
    "# load dataset\n",
    "import pandas as pd\n",
    "\n",
    "df = pd.read_csv('Statistics_Dataset/cancer_test_data.csv')\n",
    "df.head()"
   ]
  },
  {
   "cell_type": "code",
   "execution_count": 34,
   "metadata": {},
   "outputs": [
    {
     "data": {
      "text/plain": [
       "0.34282178217821785"
      ]
     },
     "execution_count": 34,
     "metadata": {},
     "output_type": "execute_result"
    }
   ],
   "source": [
    "# What proportion of patients who tested positive has cancer?\n",
    "df[df['test_result']=='Positive']['has_cancer'].mean()"
   ]
  },
  {
   "cell_type": "code",
   "execution_count": 35,
   "metadata": {},
   "outputs": [
    {
     "data": {
      "text/plain": [
       "0.6571782178217822"
      ]
     },
     "execution_count": 35,
     "metadata": {},
     "output_type": "execute_result"
    }
   ],
   "source": [
    "# What proportion of patients who tested positive doesn't have cancer?\n",
    "1 - df[df['test_result']=='Positive']['has_cancer'].mean()"
   ]
  },
  {
   "cell_type": "code",
   "execution_count": 36,
   "metadata": {},
   "outputs": [
    {
     "data": {
      "text/plain": [
       "0.013770180436847104"
      ]
     },
     "execution_count": 36,
     "metadata": {},
     "output_type": "execute_result"
    }
   ],
   "source": [
    "# What proportion of patients who tested negative has cancer?\n",
    "df[df['test_result']=='Negative']['has_cancer'].mean()"
   ]
  },
  {
   "cell_type": "code",
   "execution_count": 37,
   "metadata": {},
   "outputs": [
    {
     "data": {
      "text/plain": [
       "0.9862298195631529"
      ]
     },
     "execution_count": 37,
     "metadata": {},
     "output_type": "execute_result"
    }
   ],
   "source": [
    "# What proportion of patients who tested negative doesn't have cancer?\n",
    "1 - df[df['test_result']=='Negative']['has_cancer'].mean()"
   ]
  },
  {
   "cell_type": "markdown",
   "metadata": {
    "collapsed": true
   },
   "source": [
    "### Conditional Probability & Bayes Rule Quiz\n",
    "\n",
    "In the previous section, you found the following proportions from the cancer results dataset.\n",
    "\n",
    "* Patients with cancer: 0.105\n",
    "* Patients without cancer: 0.895\n",
    "* Patients with cancer who tested positive: 0.905\n",
    "* Patients with cancer who tested negative: 0.095\n",
    "* Patients without cancer who tested positive: 0.204\n",
    "* Patients without cancer who tested negative: 0.796\n",
    "* Based on the above proportions observed in the data, we can assume the following probabilities.\n",
    "\n",
    "#### Probability Meaning\n",
    "* P(cancer) = 0.105 Probability a patient has cancer\n",
    "* P(~cancer) = 0.895 Probability a patient does not have cancer\n",
    "* P(positive|cancer) = 0.905 Probability a patient with cancer tests positive\n",
    "* P(negative|cancer) = 0.095 Probability a patient with cancer tests negative\n",
    "* P(positive|~cancer) = 0.204 Probability a patient without cancer tests positive\n",
    "* P(negative|~cancer) = 0.796 Probability a patient without cancer tests negative\n",
    "\n",
    "### Quiz Questions\n",
    "Use the probabilities given above and Bayes rule to compute the following probabilities.\n",
    "\n",
    "* Probability a patient who tested positive has cancer, or P(cancer|positive)\n",
    "* Probability a patient who tested positive doesn't have cancer, or P(~cancer|positive)\n",
    "* Probability a patient who tested negative has cancer, or P(cancer|negative)\n",
    "* Probability a patient who tested negative doesn't have cancer, or P(~cancer|negative)"
   ]
  },
  {
   "cell_type": "code",
   "execution_count": 38,
   "metadata": {},
   "outputs": [],
   "source": [
    "# probabilities\n",
    "p_cancer = 0.105\n",
    "p_nocancer = 0.895\n",
    "p_pos_g_cancer = 0.905\n",
    "p_neg_g_cancer = 0.095\n",
    "p_pos_g_nocancer = 0.204\n",
    "p_neg_g_nocancer = 0.796"
   ]
  },
  {
   "cell_type": "code",
   "execution_count": 39,
   "metadata": {},
   "outputs": [
    {
     "name": "stdout",
     "output_type": "stream",
     "text": [
      "p(cancer|positive)=0.34230291241151994\n",
      "p(~cancer|positive)=0.65769708758848\n"
     ]
    }
   ],
   "source": [
    "# p(cancer|positive) & p(~cancer|positive)\n",
    "p_cancer_pos = p_cancer * p_pos_g_cancer\n",
    "p_nocancer_pos = p_nocancer * p_pos_g_nocancer\n",
    "p_pos = p_cancer_pos + p_nocancer_pos\n",
    "\n",
    "print('p(cancer|positive)={}\\np(~cancer|positive)={}'.format(p_cancer_pos/p_pos, p_nocancer_pos/p_pos))"
   ]
  },
  {
   "cell_type": "code",
   "execution_count": 40,
   "metadata": {},
   "outputs": [
    {
     "name": "stdout",
     "output_type": "stream",
     "text": [
      "p(cancer|~positive)=0.013808235106832134\n",
      "p(~cancer|~positive)=0.986191764893168\n"
     ]
    }
   ],
   "source": [
    "# p(cancer|~positive) & p(~cancer|~positive)\n",
    "\n",
    "p_cancer_neg = p_cancer*p_neg_g_cancer\n",
    "p_nocancer_neg = p_nocancer*p_neg_g_nocancer\n",
    "p_neg = p_cancer_neg+p_nocancer_neg\n",
    "\n",
    "print('p(cancer|~positive)={}\\np(~cancer|~positive)={}'.format(p_cancer_neg/p_neg,p_nocancer_neg/p_neg))"
   ]
  }
 ],
 "metadata": {
  "kernelspec": {
   "display_name": "Python 3",
   "language": "python",
   "name": "python3"
  },
  "language_info": {
   "codemirror_mode": {
    "name": "ipython",
    "version": 3
   },
   "file_extension": ".py",
   "mimetype": "text/x-python",
   "name": "python",
   "nbconvert_exporter": "python",
   "pygments_lexer": "ipython3",
   "version": "3.7.6"
  }
 },
 "nbformat": 4,
 "nbformat_minor": 2
}
