{
 "cells": [
  {
   "cell_type": "markdown",
   "metadata": {},
   "source": [
    "# Mean Normalization\n",
    "\n",
    "In machine learning we use large amounts of data to train our models. Some machine learning algorithms may require that the data is *normalized* in order to work correctly. The idea of normalization, also known as *feature scaling*, is to ensure that all the data is on a similar scale, *i.e.* that all the data takes on a similar range of values. For example, we might have a dataset that has values between 0 and 5,000. By normalizing the data we can make the range of values be between 0 and 1.\n",
    "\n",
    "In this lab, you will be performing a different kind of feature scaling known as *mean normalization*. Mean normalization will scale the data, but instead of making the values be between 0 and 1, it will distribute the values evenly in some small interval around zero. For example, if we have a dataset that has values between 0 and 5,000, after mean normalization the range of values will be distributed in some small range around 0, for example between -3 to 3. Because the range of values are distributed evenly around zero, this guarantees that the average (mean) of all elements will be zero. Therefore, when you perform *mean normalization* your data will not only be scaled but it will also have an average of zero. \n",
    "\n",
    "# To Do:\n",
    "\n",
    "You will start by importing NumPy and creating a rank 2 ndarray of random integers between 0 and 5,000 (inclusive) with 1000 rows and 20 columns. This array will simulate a dataset with a wide range of values. Fill in the code below"
   ]
  },
  {
   "cell_type": "code",
   "execution_count": 5,
   "metadata": {},
   "outputs": [
    {
     "data": {
      "text/plain": [
       "(1000, 20)"
      ]
     },
     "execution_count": 5,
     "metadata": {},
     "output_type": "execute_result"
    }
   ],
   "source": [
    "# import NumPy into Python\n",
    "import numpy as np\n",
    "\n",
    "# Create a 1000 x 20 ndarray with random integers in the half-open interval [0, 5001).\n",
    "X = np.random.randint(0, 5001, 20000).reshape(1000, 20)\n",
    "\n",
    "# print the shape of X\n",
    "X.shape"
   ]
  },
  {
   "cell_type": "markdown",
   "metadata": {},
   "source": [
    "Now that you created the array we will mean normalize it. We will perform mean normalization using the following equation:\n",
    "\n",
    "$\\mbox{Norm_Col}_i = \\frac{\\mbox{Col}_i - \\mu_i}{\\sigma_i}$\n",
    "\n",
    "where $\\mbox{Col}_i$ is the $i$th column of $X$, $\\mu_i$ is average of the values in the $i$th column of $X$, and $\\sigma_i$ is the standard deviation of the values in the $i$th column of $X$. In other words, mean normalization is performed by subtracting from each column of $X$ the average of its values, and then by dividing by the standard deviation of its values. In the space below, you will first calculate the average and standard deviation of each column of $X$. "
   ]
  },
  {
   "cell_type": "code",
   "execution_count": 7,
   "metadata": {},
   "outputs": [],
   "source": [
    "# Average of the values in each column of X\n",
    "ave_cols = X.mean(axis = 0)\n",
    "\n",
    "# Standard Deviation of the values in each column of X\n",
    "std_cols = X.std(axis=0)"
   ]
  },
  {
   "cell_type": "markdown",
   "metadata": {},
   "source": [
    "If you have done the above calculations correctly, then `ave_cols` and `std_cols`, should both be vectors with shape `(20,)` since $X$ has 20 columns. You can verify this by filling the code below:"
   ]
  },
  {
   "cell_type": "code",
   "execution_count": 9,
   "metadata": {},
   "outputs": [
    {
     "name": "stdout",
     "output_type": "stream",
     "text": [
      "(20,)\n",
      "(20,)\n"
     ]
    }
   ],
   "source": [
    "# Print the shape of ave_cols\n",
    "print(ave_cols.shape)\n",
    "\n",
    "# Print the shape of std_cols\n",
    "print(std_cols.shape)"
   ]
  },
  {
   "cell_type": "markdown",
   "metadata": {},
   "source": [
    "You can now take advantage of Broadcasting to calculate the mean normalized version of $X$ in just one line of code using the equation above. Fill in the code below"
   ]
  },
  {
   "cell_type": "code",
   "execution_count": 10,
   "metadata": {},
   "outputs": [],
   "source": [
    "# Mean normalize X\n",
    "X_norm = (X-ave_cols)/std_cols"
   ]
  },
  {
   "cell_type": "markdown",
   "metadata": {},
   "source": [
    "If you have performed the mean normalization correctly, then the average of all the elements in $X_{\\tiny{\\mbox{norm}}}$ should be close to zero, and they should be evenly distributed in some small interval around zero. You can verify this by filing the code below:"
   ]
  },
  {
   "cell_type": "code",
   "execution_count": 32,
   "metadata": {},
   "outputs": [
    {
     "name": "stdout",
     "output_type": "stream",
     "text": [
      "-3.694822225952521e-17\n",
      "[-1.72801018 -1.76049269 -1.7758608  -1.75221649 -1.70162686 -1.70021763\n",
      " -1.68391305 -1.65658455 -1.75474164 -1.69542412 -1.67339347 -1.67036048\n",
      " -1.71146731 -1.71104435 -1.69936701 -1.72034482 -1.75739864 -1.75238058\n",
      " -1.70819679 -1.76057807]\n",
      "[1.73267899 1.73660715 1.73817328 1.74095442 1.77339954 1.71712636\n",
      " 1.65635799 1.69593301 1.6949674  1.76638992 1.70875931 1.74127433\n",
      " 1.75638914 1.781129   1.73568834 1.65938515 1.740986   1.74537807\n",
      " 1.80535096 1.71815991]\n"
     ]
    }
   ],
   "source": [
    "# Print the average of all the values of X_norm\n",
    "print(X_norm.mean())\n",
    "\n",
    "# Print the average of the minimum value in each column of X_norm\n",
    "print(X_norm.min(axis=0))\n",
    "\n",
    "# Print the average of the maximum value in each column of X_norm\n",
    "print(X_norm.max(axis=0))"
   ]
  },
  {
   "cell_type": "markdown",
   "metadata": {},
   "source": [
    "You should note that since $X$ was created using random integers, the above values will vary. \n",
    "\n",
    "# Data Separation\n",
    "\n",
    "After the data has been mean normalized, it is customary in machine learnig to split our dataset into three sets:\n",
    "\n",
    "1. A Training Set\n",
    "2. A Cross Validation Set\n",
    "3. A Test Set\n",
    "\n",
    "The dataset is usually divided such that the Training Set contains 60% of the data, the Cross Validation Set contains 20% of the data, and the Test Set contains 20% of the data. \n",
    "\n",
    "In this part of the lab you will separate `X_norm` into a Training Set, Cross Validation Set, and a Test Set. Each data set will contain rows of `X_norm` chosen at random, making sure that we don't pick the same row twice. This will guarantee that all the rows of `X_norm` are chosen and randomly distributed among the three new sets.\n",
    "\n",
    "You will start by creating a rank 1 ndarray that contains a random permutation of the row indices of `X_norm`. You can do this by using the `np.random.permutation()` function. The `np.random.permutation(N)` function creates a random permutation of integers from 0 to `N - 1`. Let's see an example:"
   ]
  },
  {
   "cell_type": "code",
   "execution_count": 18,
   "metadata": {},
   "outputs": [
    {
     "data": {
      "text/plain": [
       "array([4, 1, 0, 3, 2])"
      ]
     },
     "execution_count": 18,
     "metadata": {},
     "output_type": "execute_result"
    }
   ],
   "source": [
    "# We create a random permutation of integers 0 to 4\n",
    "np.random.permutation(5)"
   ]
  },
  {
   "cell_type": "markdown",
   "metadata": {},
   "source": [
    "# To Do\n",
    "\n",
    "In the space below create a rank 1 ndarray that contains a random permutation of the row indices of `X_norm`. You can do this in one line of code by extracting the number of rows of `X_norm` using the `shape` attribute and then passing it to the  `np.random.permutation()` function. Remember the `shape` attribute returns a tuple with two numbers in the form `(rows,columns)`."
   ]
  },
  {
   "cell_type": "code",
   "execution_count": 24,
   "metadata": {},
   "outputs": [
    {
     "data": {
      "text/plain": [
       "array([914, 907, 679, 349, 752, 219, 235, 979, 353, 832,  50, 175, 554,\n",
       "       342, 189, 105,  28, 976, 408, 766, 985, 858, 843, 497, 518, 653,\n",
       "       139, 753, 629, 447, 570, 571, 365, 210, 690, 472, 273, 260, 455,\n",
       "       893, 523, 242, 847, 811, 324, 818, 288, 708, 820, 522, 649,  93,\n",
       "       354, 553,  71, 771, 870, 509, 177, 801, 516, 313, 932, 473, 655,\n",
       "       144, 503, 728, 648, 429, 492, 222, 874, 230, 899,  40, 795, 484,\n",
       "       389, 558, 824, 844, 116, 206, 743, 799, 838, 141, 990, 208, 236,\n",
       "       162, 567, 764, 375, 788, 279, 282, 621, 923, 247, 173, 938, 515,\n",
       "       780, 450, 476,  83, 531, 613, 612, 172, 769, 393, 161, 310,  35,\n",
       "       885,  89, 134, 586, 346, 232, 517,  88, 630, 490, 336, 667, 317,\n",
       "       897, 101, 422, 819, 794, 197, 841,  84, 704, 259, 742, 153, 311,\n",
       "       967, 224, 321, 585, 309, 538, 202, 541, 991, 745, 213, 620, 599,\n",
       "       467, 755, 737,  91, 391, 275, 683, 726, 338, 296, 355, 987, 201,\n",
       "       246, 808, 532,  36, 640, 776, 940, 559, 634, 425, 170, 380, 695,\n",
       "         1,  30, 102, 488, 231, 587, 773, 411, 179, 698, 947, 150,  33,\n",
       "       539, 418, 113, 637, 421, 856, 287, 312, 357, 930, 595, 750,   6,\n",
       "       607, 878, 140, 243, 577,  62, 525, 857, 165, 528, 831, 253, 972,\n",
       "       602, 868, 701, 423, 521, 754, 203, 292, 383, 291, 625,  29, 668,\n",
       "       692, 767,  97, 270, 596, 489, 406,  41, 392, 419, 514, 641, 705,\n",
       "       520, 851, 204, 344,  23, 896, 530, 805, 615, 475, 126, 480, 512,\n",
       "       796, 849, 443,  48, 341, 853, 412, 582, 382, 362, 142, 909, 713,\n",
       "        49, 933,  10, 860, 205, 989,   0, 945, 863,  80, 395, 887, 533,\n",
       "       437, 330,  57, 960, 884, 894, 216, 662, 904, 955,  69, 198, 825,\n",
       "       433, 977, 611, 600, 580, 106, 129, 293, 284, 833, 729, 156, 877,\n",
       "        63, 992,  55, 998, 407, 890, 212, 583, 159, 234, 823, 430, 730,\n",
       "       298, 563, 305, 816, 511, 562, 432, 573, 751,  20, 883, 714, 133,\n",
       "       544, 891, 244, 601, 167, 552, 169, 263, 676, 822, 465, 378, 171,\n",
       "       733,   3, 524, 869, 594, 873,  31, 143, 684,  53,  34, 470, 589,\n",
       "       848, 946, 673, 809,  11, 950, 372,  25, 910,  64, 608, 978, 810,\n",
       "       166, 461,  67, 888, 329, 957, 941, 770, 363, 396, 403, 107, 427,\n",
       "       424, 132,  32, 845, 258, 614, 319,  43, 274, 359, 980, 283, 709,\n",
       "       688, 300, 926, 536, 508, 326, 693, 871, 494, 214, 500, 254, 706,\n",
       "       638, 840,  44, 163, 368, 498, 373, 435, 240, 965, 971, 377,  19,\n",
       "       834, 482, 250, 793, 227,  73, 936, 220, 200, 574, 112, 905, 468,\n",
       "       464, 182, 556, 997, 452, 721, 749, 669, 315, 880, 120, 194, 912,\n",
       "       628, 949, 609, 779, 226,   9, 866, 337, 734, 748, 323, 366, 697,\n",
       "       128, 160, 581, 761, 178, 335, 431, 507, 725, 572, 617, 792,   7,\n",
       "       681,  77, 188, 783, 859, 632, 919, 579, 578, 228,  90, 145, 369,\n",
       "       340, 861, 168, 174, 257, 256, 898, 903, 892, 217, 746, 152, 115,\n",
       "       504, 294, 540, 409, 647, 343, 826, 537,  56, 956, 264, 756, 137,\n",
       "       813, 245, 800, 265, 229,  16, 830,  38, 513, 410, 663, 993, 249,\n",
       "       444, 290, 911, 850, 545, 477, 895, 738, 441, 269, 360, 460, 449,\n",
       "       386, 251, 281, 627, 961, 937, 331,  59, 325, 735, 267, 953, 199,\n",
       "       982, 685, 351, 277, 658, 702, 970, 307, 345, 686, 496, 398, 119,\n",
       "       469, 147,  70, 650, 414, 471, 675, 176, 453, 211, 707, 303, 420,\n",
       "       154, 804, 108, 711,  12, 350, 405, 387, 417, 135,  58, 740, 454,\n",
       "       266, 185, 565, 295, 439, 597, 931,  79, 248, 131, 576, 575,  18,\n",
       "       954, 718, 959,  76, 986, 973,  51,  72, 790, 118,  78, 952, 605,\n",
       "       529, 674, 652, 964, 696, 828,  85, 984, 988, 626, 110,  14, 501,\n",
       "        39,  74, 915, 591, 875, 812, 900, 394, 842, 526, 374, 787, 510,\n",
       "       276, 493, 646, 700, 665, 921, 146, 876, 486, 744, 763, 289, 691,\n",
       "       760, 481, 125, 302, 623, 782, 610, 772, 906,   8,   4, 390, 122,\n",
       "       388, 195, 929, 121, 123, 543, 448, 606,  45, 719, 803,  17, 781,\n",
       "       155, 943, 320, 785, 333, 886,  46, 546, 593, 332, 835, 308, 158,\n",
       "       639, 901, 285, 975, 148, 555, 487, 829,  87, 747, 994, 939, 598,\n",
       "       836, 817, 436, 306, 466, 657, 677, 446, 462, 180, 731, 778,  75,\n",
       "        52,  86, 777, 506, 535, 304,  61, 401, 192, 958, 768,  47, 184,\n",
       "        92, 592, 233, 821, 948, 187, 694, 631, 797, 334, 124, 784,  94,\n",
       "       491, 983, 867, 268, 136, 717, 584, 534, 962, 996, 881, 974, 689,\n",
       "         5, 367, 478, 837, 542,  42, 739, 479, 762, 271, 659, 358, 656,\n",
       "       944,  21, 215, 839, 151, 111, 316, 651, 722, 261, 636, 758, 927,\n",
       "       925, 299, 551, 456, 671, 815, 385, 672, 588, 451, 519, 505, 661,\n",
       "       379, 459, 765, 440, 802, 654,  60, 114, 908, 457, 864, 699, 100,\n",
       "       218, 364, 252,  13, 445, 495, 774, 413, 223, 724, 193, 564, 117,\n",
       "       280, 928, 814, 428, 666, 416, 635, 458, 238, 322, 183, 196, 603,\n",
       "       920, 642, 951, 935,  99, 616, 548, 879, 438, 239, 397, 889, 400,\n",
       "       301, 995, 376,  82, 963, 104, 191, 339, 969, 474, 550, 237, 916,\n",
       "       922, 736, 643, 568, 225, 619, 361, 181, 566, 664, 415, 286, 186,\n",
       "       999, 384, 710,  27, 318,  54, 278, 130,  81, 327, 190, 872,  68,\n",
       "       757, 127, 138, 618, 103, 402, 109, 404,  95, 644, 806, 272, 786,\n",
       "       720, 241, 645, 703, 328, 527, 347, 356, 775, 314, 547, 348, 827,\n",
       "       209, 670, 917, 502, 712, 352, 732, 442, 560, 561, 590, 723, 716,\n",
       "       852,  24, 934, 759, 262, 678,  65, 557, 715, 370, 687, 727, 149,\n",
       "       855, 499,  98, 622,  37, 381, 918, 157, 680, 682, 966, 981, 463,\n",
       "       882, 483, 549, 164, 741, 902, 371, 862, 924, 399, 255, 624, 221,\n",
       "        26, 297, 789, 604, 434, 426,   2, 633, 968,  22, 569, 807, 791,\n",
       "       865, 913,  66, 660, 942, 854, 485,  15, 846,  96, 798, 207])"
      ]
     },
     "execution_count": 24,
     "metadata": {},
     "output_type": "execute_result"
    }
   ],
   "source": [
    "# Create a rank 1 ndarray that contains a random permutation of the row indices of `X_norm`\n",
    "row_indices = np.random.permutation(X_norm.shape[0])\n",
    "row_indices"
   ]
  },
  {
   "cell_type": "markdown",
   "metadata": {},
   "source": [
    "Now you can create the three datasets using the `row_indices` ndarray to select the rows that will go into each dataset. Rememeber that the Training Set contains 60% of the data, the Cross Validation Set contains 20% of the data, and the Test Set contains 20% of the data. Each set requires just one line of code to create. Fill in the code below"
   ]
  },
  {
   "cell_type": "code",
   "execution_count": 29,
   "metadata": {},
   "outputs": [],
   "source": [
    "# Make any necessary calculations.\n",
    "# You can save your calculations into variables to use later.\n",
    "\n",
    "\n",
    "# Create a Training Set\n",
    "X_train = X_norm[row_indices[:600]]\n",
    "\n",
    "# Create a Cross Validation Set\n",
    "X_crossVal = X_norm[row_indices[600:800]]\n",
    "\n",
    "# Create a Test Set\n",
    "X_test = X_norm[row_indices[800:1000]]"
   ]
  },
  {
   "cell_type": "markdown",
   "metadata": {},
   "source": [
    "If you performed the above calculations correctly, then `X_tain` should have 600 rows and 20 columns, `X_crossVal` should have 200 rows and 20 columns, and `X_test` should have 200 rows and 20 columns. You can verify this by filling the code below:"
   ]
  },
  {
   "cell_type": "code",
   "execution_count": 30,
   "metadata": {},
   "outputs": [
    {
     "name": "stdout",
     "output_type": "stream",
     "text": [
      "(600, 20)\n",
      "(200, 20)\n",
      "(200, 20)\n"
     ]
    }
   ],
   "source": [
    "# Print the shape of X_train\n",
    "print(X_train.shape)\n",
    "\n",
    "# Print the shape of X_crossVal\n",
    "print(X_crossVal.shape)\n",
    "\n",
    "# Print the shape of X_test\n",
    "print(X_test.shape)"
   ]
  }
 ],
 "metadata": {
  "kernelspec": {
   "display_name": "Python 3",
   "language": "python",
   "name": "python3"
  },
  "language_info": {
   "codemirror_mode": {
    "name": "ipython",
    "version": 3
   },
   "file_extension": ".py",
   "mimetype": "text/x-python",
   "name": "python",
   "nbconvert_exporter": "python",
   "pygments_lexer": "ipython3",
   "version": "3.7.6"
  }
 },
 "nbformat": 4,
 "nbformat_minor": 2
}
