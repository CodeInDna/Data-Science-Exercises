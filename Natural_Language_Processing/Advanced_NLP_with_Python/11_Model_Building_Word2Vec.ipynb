{
 "cells": [
  {
   "cell_type": "markdown",
   "metadata": {},
   "source": [
    "# Compare NLP Techniques: Build Model On word2vec Vectors"
   ]
  },
  {
   "cell_type": "markdown",
   "metadata": {},
   "source": [
    "### Read In Cleaned Text"
   ]
  },
  {
   "cell_type": "code",
   "execution_count": 1,
   "metadata": {},
   "outputs": [],
   "source": [
    "# Load the cleaned training and test sets\n",
    "import gensim\n",
    "import numpy as np\n",
    "import pandas as pd\n",
    "\n",
    "X_train = pd.read_csv('data/X_train.csv')\n",
    "X_test = pd.read_csv('data/X_test.csv')\n",
    "y_train = pd.read_csv('data/y_train.csv')\n",
    "y_test = pd.read_csv('data/y_test.csv')"
   ]
  },
  {
   "cell_type": "markdown",
   "metadata": {},
   "source": [
    "### Create word2vec Vectors"
   ]
  },
  {
   "cell_type": "code",
   "execution_count": 2,
   "metadata": {},
   "outputs": [],
   "source": [
    "w2v_model = gensim.models.Word2Vec(X_train,\n",
    "                      size=100,\n",
    "                      window=5,\n",
    "                      min_count=2)"
   ]
  },
  {
   "cell_type": "code",
   "execution_count": 5,
   "metadata": {},
   "outputs": [],
   "source": [
    "words = set(w2v_model.wv.index2word)\n",
    "X_train_vect = np.array([np.array([w2v_model.wv[i] for i in ls if i in words])\n",
    "                         for ls in X_train['clean_text']])\n",
    "X_test_vect = np.array([np.array([w2v_model.wv[i] for i in ls if i in words])\n",
    "                         for ls in X_test['clean_text']])"
   ]
  },
  {
   "cell_type": "code",
   "execution_count": 6,
   "metadata": {},
   "outputs": [],
   "source": [
    "# Average the word vectors for each sentence (and assign a vector of zeros if the model\n",
    "# did not learn any of the words in the text message during training\n",
    "X_train_vect_avg = []\n",
    "for v in X_train_vect:\n",
    "    if v.size:\n",
    "        X_train_vect_avg.append(v.mean(axis=0))\n",
    "    else:\n",
    "        X_train_vect_avg.append(np.zeros(100, dtype=float))\n",
    "        \n",
    "X_test_vect_avg = []\n",
    "for v in X_test_vect:\n",
    "    if v.size:\n",
    "        X_test_vect_avg.append(v.mean(axis=0))\n",
    "    else:\n",
    "        X_test_vect_avg.append(np.zeros(100, dtype=float))"
   ]
  },
  {
   "cell_type": "code",
   "execution_count": 7,
   "metadata": {},
   "outputs": [
    {
     "data": {
      "text/plain": [
       "array([[-4.8747859e-03,  1.0450855e-03,  8.4496959e-04, -2.4805898e-03,\n",
       "        -1.8162148e-04,  2.9147598e-03, -1.2816397e-03, -4.5036725e-03,\n",
       "        -4.5552329e-04, -1.9987891e-03,  1.7698774e-03, -1.5445262e-04,\n",
       "         2.9852448e-03, -4.4254721e-03, -2.1017578e-03,  2.3671833e-03,\n",
       "         4.0191067e-03,  2.9395488e-03,  4.9375365e-03, -1.4061290e-03,\n",
       "        -4.2079156e-03, -3.5333538e-03, -3.9687064e-03,  2.1011347e-03,\n",
       "         1.8148815e-03, -4.3046875e-03,  2.6295290e-04,  2.9431267e-03,\n",
       "         3.5064170e-04,  2.2238095e-03, -1.7183842e-05, -4.3107194e-04,\n",
       "         4.7508013e-03, -7.6524587e-04, -4.4820840e-03, -1.9745997e-03,\n",
       "        -4.3461127e-03,  1.3274476e-03,  4.2872648e-03,  3.8227107e-04,\n",
       "        -2.2520251e-03, -2.9951483e-03,  2.4667087e-03,  3.0573134e-04,\n",
       "        -1.6365118e-03,  4.3953699e-03, -1.7620773e-03,  2.0265377e-03,\n",
       "         1.4447393e-03,  1.3479189e-03,  3.6470105e-03, -6.9066574e-04,\n",
       "        -3.3133372e-03, -3.4849332e-03, -2.1703471e-03,  1.1372266e-03,\n",
       "        -1.0031610e-03, -1.2638676e-03,  4.5497860e-03, -3.5825639e-03,\n",
       "         3.2090987e-03,  1.7177565e-03, -2.8899217e-03,  8.2083943e-04,\n",
       "        -2.0514312e-03,  2.8134773e-03,  3.0808321e-03,  3.8267367e-03,\n",
       "         4.5357295e-03, -5.3700132e-05,  4.1974690e-03, -4.1708006e-03,\n",
       "         6.1594619e-04, -2.9163852e-03,  3.8867362e-03,  4.1580293e-03,\n",
       "         2.9389320e-03,  4.9905060e-03,  1.3805492e-03, -1.3439115e-03,\n",
       "        -2.7399403e-03, -3.8073149e-03, -3.4044834e-03,  1.6528590e-03,\n",
       "        -4.6521979e-03,  1.2650267e-03,  3.7315888e-03,  1.6488925e-03,\n",
       "         2.3021905e-03,  2.4988700e-03,  3.6663550e-03, -4.3835361e-03,\n",
       "         1.1597668e-03, -2.7695543e-03,  4.6661897e-03,  4.1508586e-03,\n",
       "        -8.2449726e-04, -3.6722957e-03,  1.7361737e-04,  1.1247181e-03],\n",
       "       [-4.8747859e-03,  1.0450855e-03,  8.4496959e-04, -2.4805898e-03,\n",
       "        -1.8162148e-04,  2.9147598e-03, -1.2816397e-03, -4.5036725e-03,\n",
       "        -4.5552329e-04, -1.9987891e-03,  1.7698774e-03, -1.5445262e-04,\n",
       "         2.9852448e-03, -4.4254721e-03, -2.1017578e-03,  2.3671833e-03,\n",
       "         4.0191067e-03,  2.9395488e-03,  4.9375365e-03, -1.4061290e-03,\n",
       "        -4.2079156e-03, -3.5333538e-03, -3.9687064e-03,  2.1011347e-03,\n",
       "         1.8148815e-03, -4.3046875e-03,  2.6295290e-04,  2.9431267e-03,\n",
       "         3.5064170e-04,  2.2238095e-03, -1.7183842e-05, -4.3107194e-04,\n",
       "         4.7508013e-03, -7.6524587e-04, -4.4820840e-03, -1.9745997e-03,\n",
       "        -4.3461127e-03,  1.3274476e-03,  4.2872648e-03,  3.8227107e-04,\n",
       "        -2.2520251e-03, -2.9951483e-03,  2.4667087e-03,  3.0573134e-04,\n",
       "        -1.6365118e-03,  4.3953699e-03, -1.7620773e-03,  2.0265377e-03,\n",
       "         1.4447393e-03,  1.3479189e-03,  3.6470105e-03, -6.9066574e-04,\n",
       "        -3.3133372e-03, -3.4849332e-03, -2.1703471e-03,  1.1372266e-03,\n",
       "        -1.0031610e-03, -1.2638676e-03,  4.5497860e-03, -3.5825639e-03,\n",
       "         3.2090987e-03,  1.7177565e-03, -2.8899217e-03,  8.2083943e-04,\n",
       "        -2.0514312e-03,  2.8134773e-03,  3.0808321e-03,  3.8267367e-03,\n",
       "         4.5357295e-03, -5.3700132e-05,  4.1974690e-03, -4.1708006e-03,\n",
       "         6.1594619e-04, -2.9163852e-03,  3.8867362e-03,  4.1580293e-03,\n",
       "         2.9389320e-03,  4.9905060e-03,  1.3805492e-03, -1.3439115e-03,\n",
       "        -2.7399403e-03, -3.8073149e-03, -3.4044834e-03,  1.6528590e-03,\n",
       "        -4.6521979e-03,  1.2650267e-03,  3.7315888e-03,  1.6488925e-03,\n",
       "         2.3021905e-03,  2.4988700e-03,  3.6663550e-03, -4.3835361e-03,\n",
       "         1.1597668e-03, -2.7695543e-03,  4.6661897e-03,  4.1508586e-03,\n",
       "        -8.2449726e-04, -3.6722957e-03,  1.7361737e-04,  1.1247181e-03]],\n",
       "      dtype=float32)"
      ]
     },
     "execution_count": 7,
     "metadata": {},
     "output_type": "execute_result"
    }
   ],
   "source": [
    "# What does the unaveraged version look like?\n",
    "X_train_vect[0]"
   ]
  },
  {
   "cell_type": "code",
   "execution_count": 8,
   "metadata": {},
   "outputs": [
    {
     "data": {
      "text/plain": [
       "array([-4.8747859e-03,  1.0450855e-03,  8.4496959e-04, -2.4805898e-03,\n",
       "       -1.8162148e-04,  2.9147598e-03, -1.2816397e-03, -4.5036725e-03,\n",
       "       -4.5552329e-04, -1.9987891e-03,  1.7698774e-03, -1.5445262e-04,\n",
       "        2.9852448e-03, -4.4254721e-03, -2.1017578e-03,  2.3671833e-03,\n",
       "        4.0191067e-03,  2.9395488e-03,  4.9375365e-03, -1.4061290e-03,\n",
       "       -4.2079156e-03, -3.5333538e-03, -3.9687064e-03,  2.1011347e-03,\n",
       "        1.8148815e-03, -4.3046875e-03,  2.6295290e-04,  2.9431267e-03,\n",
       "        3.5064170e-04,  2.2238095e-03, -1.7183842e-05, -4.3107194e-04,\n",
       "        4.7508013e-03, -7.6524587e-04, -4.4820840e-03, -1.9745997e-03,\n",
       "       -4.3461127e-03,  1.3274476e-03,  4.2872648e-03,  3.8227107e-04,\n",
       "       -2.2520251e-03, -2.9951483e-03,  2.4667087e-03,  3.0573134e-04,\n",
       "       -1.6365118e-03,  4.3953699e-03, -1.7620773e-03,  2.0265377e-03,\n",
       "        1.4447393e-03,  1.3479189e-03,  3.6470105e-03, -6.9066574e-04,\n",
       "       -3.3133372e-03, -3.4849332e-03, -2.1703471e-03,  1.1372266e-03,\n",
       "       -1.0031610e-03, -1.2638676e-03,  4.5497860e-03, -3.5825639e-03,\n",
       "        3.2090987e-03,  1.7177565e-03, -2.8899217e-03,  8.2083943e-04,\n",
       "       -2.0514312e-03,  2.8134773e-03,  3.0808321e-03,  3.8267367e-03,\n",
       "        4.5357295e-03, -5.3700132e-05,  4.1974690e-03, -4.1708006e-03,\n",
       "        6.1594619e-04, -2.9163852e-03,  3.8867362e-03,  4.1580293e-03,\n",
       "        2.9389320e-03,  4.9905060e-03,  1.3805492e-03, -1.3439115e-03,\n",
       "       -2.7399403e-03, -3.8073149e-03, -3.4044834e-03,  1.6528590e-03,\n",
       "       -4.6521979e-03,  1.2650267e-03,  3.7315888e-03,  1.6488925e-03,\n",
       "        2.3021905e-03,  2.4988700e-03,  3.6663550e-03, -4.3835361e-03,\n",
       "        1.1597668e-03, -2.7695543e-03,  4.6661897e-03,  4.1508586e-03,\n",
       "       -8.2449726e-04, -3.6722957e-03,  1.7361737e-04,  1.1247181e-03],\n",
       "      dtype=float32)"
      ]
     },
     "execution_count": 8,
     "metadata": {},
     "output_type": "execute_result"
    }
   ],
   "source": [
    "# What does the averaged version look like?\n",
    "X_train_vect_avg[0]"
   ]
  },
  {
   "cell_type": "markdown",
   "metadata": {},
   "source": [
    "### Fit RandomForestClassifier On Top Of Word Vectors"
   ]
  },
  {
   "cell_type": "code",
   "execution_count": 9,
   "metadata": {},
   "outputs": [],
   "source": [
    "# Instantiate and fit a basic Random Forest model on top of the vectors\n",
    "from sklearn.ensemble import RandomForestClassifier\n",
    "\n",
    "rf = RandomForestClassifier()\n",
    "rf_model = rf.fit(X_train_vect_avg, y_train.values.ravel())"
   ]
  },
  {
   "cell_type": "code",
   "execution_count": 10,
   "metadata": {},
   "outputs": [],
   "source": [
    "# Use the trained model to make predictions on the test data\n",
    "y_pred = rf_model.predict(X_test_vect_avg)"
   ]
  },
  {
   "cell_type": "code",
   "execution_count": null,
   "metadata": {},
   "outputs": [],
   "source": [
    "# Evaluate the predictions of the model on the holdout test set\n",
    "from sklearn.metrics import precision_score, recall_score\n",
    "\n",
    "precision = precision_score(y_test, y_pred)\n",
    "recall = recall_score(y_test, y_pred)\n",
    "print('Precision: {} / Recall: {} / Accuracy: {}'.format(\n",
    "    round(precision, 3), round(recall, 3), round((y_pred==y_test['label']).sum()/len(y_pred), 3)))"
   ]
  }
 ],
 "metadata": {
  "kernelspec": {
   "display_name": "Python 3",
   "language": "python",
   "name": "python3"
  },
  "language_info": {
   "codemirror_mode": {
    "name": "ipython",
    "version": 3
   },
   "file_extension": ".py",
   "mimetype": "text/x-python",
   "name": "python",
   "nbconvert_exporter": "python",
   "pygments_lexer": "ipython3",
   "version": "3.7.6"
  }
 },
 "nbformat": 4,
 "nbformat_minor": 2
}
