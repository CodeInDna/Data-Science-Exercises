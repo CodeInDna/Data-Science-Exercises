{
 "cells": [
  {
   "cell_type": "markdown",
   "id": "77ce6cd2",
   "metadata": {},
   "source": [
    "## Text Processing\n",
    "\n",
    "### Capturing Text Data\n",
    "\n",
    "#### Plain Text"
   ]
  },
  {
   "cell_type": "code",
   "execution_count": 1,
   "id": "f1f12d5f",
   "metadata": {},
   "outputs": [
    {
     "name": "stdout",
     "output_type": "stream",
     "text": [
      "Hieroglyphic writing dates from c. 3000 BC, and is composed of hundreds of symbols. A hieroglyph can represent a word, a sound, or a silent determinative; and the same symbol can serve different purposes in different contexts. Hieroglyphs were a formal script, used on stone monuments and in tombs, that could be as detailed as individual works of art.\n",
      "\n"
     ]
    }
   ],
   "source": [
    "# Read in plain text file\n",
    "with open(\"hieroglyph.txt\", 'r') as f:\n",
    "    text = f.read()\n",
    "    \n",
    "print(text)"
   ]
  },
  {
   "cell_type": "markdown",
   "id": "3fc553ed",
   "metadata": {},
   "source": [
    "#### Tabular Data"
   ]
  },
  {
   "cell_type": "code",
   "execution_count": 2,
   "id": "41218cb0",
   "metadata": {},
   "outputs": [
    {
     "data": {
      "text/html": [
       "<div>\n",
       "<style scoped>\n",
       "    .dataframe tbody tr th:only-of-type {\n",
       "        vertical-align: middle;\n",
       "    }\n",
       "\n",
       "    .dataframe tbody tr th {\n",
       "        vertical-align: top;\n",
       "    }\n",
       "\n",
       "    .dataframe thead th {\n",
       "        text-align: right;\n",
       "    }\n",
       "</style>\n",
       "<table border=\"1\" class=\"dataframe\">\n",
       "  <thead>\n",
       "    <tr style=\"text-align: right;\">\n",
       "      <th></th>\n",
       "      <th>id</th>\n",
       "      <th>title</th>\n",
       "      <th>url</th>\n",
       "      <th>publisher</th>\n",
       "      <th>category</th>\n",
       "      <th>story</th>\n",
       "      <th>hostname</th>\n",
       "      <th>timestamp</th>\n",
       "    </tr>\n",
       "  </thead>\n",
       "  <tbody>\n",
       "    <tr>\n",
       "      <th>0</th>\n",
       "      <td>2</td>\n",
       "      <td>Fed's Charles Plosser sees high bar for change...</td>\n",
       "      <td>http://www.livemint.com/Politics/H2EvwJSK2VE6O...</td>\n",
       "      <td>Livemint</td>\n",
       "      <td>b</td>\n",
       "      <td>ddUyU0VZz0BRneMioxUPQVP6sIxvM</td>\n",
       "      <td>www.livemint.com</td>\n",
       "      <td>1394470371207</td>\n",
       "    </tr>\n",
       "    <tr>\n",
       "      <th>1</th>\n",
       "      <td>3</td>\n",
       "      <td>US open: Stocks fall after Fed official hints ...</td>\n",
       "      <td>http://www.ifamagazine.com/news/us-open-stocks...</td>\n",
       "      <td>IFA Magazine</td>\n",
       "      <td>b</td>\n",
       "      <td>ddUyU0VZz0BRneMioxUPQVP6sIxvM</td>\n",
       "      <td>www.ifamagazine.com</td>\n",
       "      <td>1394470371550</td>\n",
       "    </tr>\n",
       "    <tr>\n",
       "      <th>2</th>\n",
       "      <td>4</td>\n",
       "      <td>Fed risks falling 'behind the curve', Charles ...</td>\n",
       "      <td>http://www.ifamagazine.com/news/fed-risks-fall...</td>\n",
       "      <td>IFA Magazine</td>\n",
       "      <td>b</td>\n",
       "      <td>ddUyU0VZz0BRneMioxUPQVP6sIxvM</td>\n",
       "      <td>www.ifamagazine.com</td>\n",
       "      <td>1394470371793</td>\n",
       "    </tr>\n",
       "    <tr>\n",
       "      <th>3</th>\n",
       "      <td>5</td>\n",
       "      <td>Fed's Plosser: Nasty Weather Has Curbed Job Gr...</td>\n",
       "      <td>http://www.moneynews.com/Economy/federal-reser...</td>\n",
       "      <td>Moneynews</td>\n",
       "      <td>b</td>\n",
       "      <td>ddUyU0VZz0BRneMioxUPQVP6sIxvM</td>\n",
       "      <td>www.moneynews.com</td>\n",
       "      <td>1394470372027</td>\n",
       "    </tr>\n",
       "    <tr>\n",
       "      <th>4</th>\n",
       "      <td>6</td>\n",
       "      <td>Plosser: Fed May Have to Accelerate Tapering Pace</td>\n",
       "      <td>http://www.nasdaq.com/article/plosser-fed-may-...</td>\n",
       "      <td>NASDAQ</td>\n",
       "      <td>b</td>\n",
       "      <td>ddUyU0VZz0BRneMioxUPQVP6sIxvM</td>\n",
       "      <td>www.nasdaq.com</td>\n",
       "      <td>1394470372212</td>\n",
       "    </tr>\n",
       "  </tbody>\n",
       "</table>\n",
       "</div>"
      ],
      "text/plain": [
       "   id                                              title  \\\n",
       "0   2  Fed's Charles Plosser sees high bar for change...   \n",
       "1   3  US open: Stocks fall after Fed official hints ...   \n",
       "2   4  Fed risks falling 'behind the curve', Charles ...   \n",
       "3   5  Fed's Plosser: Nasty Weather Has Curbed Job Gr...   \n",
       "4   6  Plosser: Fed May Have to Accelerate Tapering Pace   \n",
       "\n",
       "                                                 url     publisher category  \\\n",
       "0  http://www.livemint.com/Politics/H2EvwJSK2VE6O...      Livemint        b   \n",
       "1  http://www.ifamagazine.com/news/us-open-stocks...  IFA Magazine        b   \n",
       "2  http://www.ifamagazine.com/news/fed-risks-fall...  IFA Magazine        b   \n",
       "3  http://www.moneynews.com/Economy/federal-reser...     Moneynews        b   \n",
       "4  http://www.nasdaq.com/article/plosser-fed-may-...        NASDAQ        b   \n",
       "\n",
       "                           story             hostname      timestamp  \n",
       "0  ddUyU0VZz0BRneMioxUPQVP6sIxvM     www.livemint.com  1394470371207  \n",
       "1  ddUyU0VZz0BRneMioxUPQVP6sIxvM  www.ifamagazine.com  1394470371550  \n",
       "2  ddUyU0VZz0BRneMioxUPQVP6sIxvM  www.ifamagazine.com  1394470371793  \n",
       "3  ddUyU0VZz0BRneMioxUPQVP6sIxvM    www.moneynews.com  1394470372027  \n",
       "4  ddUyU0VZz0BRneMioxUPQVP6sIxvM       www.nasdaq.com  1394470372212  "
      ]
     },
     "execution_count": 2,
     "metadata": {},
     "output_type": "execute_result"
    }
   ],
   "source": [
    "import pandas as pd\n",
    "\n",
    "# Extract text column from a dataframe\n",
    "df = pd.read_csv('news.csv')\n",
    "df.head()"
   ]
  },
  {
   "cell_type": "code",
   "execution_count": 3,
   "id": "ec4c6e60",
   "metadata": {},
   "outputs": [
    {
     "data": {
      "text/html": [
       "<div>\n",
       "<style scoped>\n",
       "    .dataframe tbody tr th:only-of-type {\n",
       "        vertical-align: middle;\n",
       "    }\n",
       "\n",
       "    .dataframe tbody tr th {\n",
       "        vertical-align: top;\n",
       "    }\n",
       "\n",
       "    .dataframe thead th {\n",
       "        text-align: right;\n",
       "    }\n",
       "</style>\n",
       "<table border=\"1\" class=\"dataframe\">\n",
       "  <thead>\n",
       "    <tr style=\"text-align: right;\">\n",
       "      <th></th>\n",
       "      <th>publisher</th>\n",
       "      <th>title</th>\n",
       "    </tr>\n",
       "  </thead>\n",
       "  <tbody>\n",
       "    <tr>\n",
       "      <th>0</th>\n",
       "      <td>Livemint</td>\n",
       "      <td>fed's charles plosser sees high bar for change...</td>\n",
       "    </tr>\n",
       "    <tr>\n",
       "      <th>1</th>\n",
       "      <td>IFA Magazine</td>\n",
       "      <td>us open: stocks fall after fed official hints ...</td>\n",
       "    </tr>\n",
       "    <tr>\n",
       "      <th>2</th>\n",
       "      <td>IFA Magazine</td>\n",
       "      <td>fed risks falling 'behind the curve', charles ...</td>\n",
       "    </tr>\n",
       "    <tr>\n",
       "      <th>3</th>\n",
       "      <td>Moneynews</td>\n",
       "      <td>fed's plosser: nasty weather has curbed job gr...</td>\n",
       "    </tr>\n",
       "    <tr>\n",
       "      <th>4</th>\n",
       "      <td>NASDAQ</td>\n",
       "      <td>plosser: fed may have to accelerate tapering pace</td>\n",
       "    </tr>\n",
       "  </tbody>\n",
       "</table>\n",
       "</div>"
      ],
      "text/plain": [
       "      publisher                                              title\n",
       "0      Livemint  fed's charles plosser sees high bar for change...\n",
       "1  IFA Magazine  us open: stocks fall after fed official hints ...\n",
       "2  IFA Magazine  fed risks falling 'behind the curve', charles ...\n",
       "3     Moneynews  fed's plosser: nasty weather has curbed job gr...\n",
       "4        NASDAQ  plosser: fed may have to accelerate tapering pace"
      ]
     },
     "execution_count": 3,
     "metadata": {},
     "output_type": "execute_result"
    }
   ],
   "source": [
    "df['title'] = df['title'].str.lower()\n",
    "df.head()[['publisher', 'title']]"
   ]
  },
  {
   "cell_type": "markdown",
   "id": "53cf1e18",
   "metadata": {},
   "source": [
    "#### Online Resources"
   ]
  },
  {
   "cell_type": "code",
   "execution_count": 4,
   "id": "a57a85c9",
   "metadata": {},
   "outputs": [],
   "source": [
    "import requests\n",
    "import json\n",
    "\n",
    "r = requests.get(\"https://quotes.rest/qod.json\")\n",
    "res = r.json()"
   ]
  },
  {
   "cell_type": "code",
   "execution_count": 5,
   "id": "c4445424",
   "metadata": {},
   "outputs": [
    {
     "name": "stdout",
     "output_type": "stream",
     "text": [
      "The man who removes a mountain begins by carrying away small stones.. \n",
      "-- Chinese Proverb\n"
     ]
    }
   ],
   "source": [
    "q = res['contents']['quotes'][0]\n",
    "print(q['quote'], '\\n--', q['author'])"
   ]
  },
  {
   "cell_type": "markdown",
   "id": "b98843a9",
   "metadata": {},
   "source": [
    "#### Cleaning"
   ]
  },
  {
   "cell_type": "code",
   "execution_count": 6,
   "id": "73264d17",
   "metadata": {},
   "outputs": [
    {
     "name": "stdout",
     "output_type": "stream",
     "text": [
      "<html lang=\"en\" op=\"news\"><head><meta name=\"referrer\" content=\"origin\"><meta name=\"viewport\" content=\"width=device-width, initial-scale=1.0\"><link rel=\"stylesheet\" type=\"text/css\" href=\"news.css?ByzR2VCazcHqBPYc6t4C\">\n",
      "        <link rel=\"shortcut icon\" href=\"favicon.ico\">\n",
      "          <link rel=\"alternate\" type=\"application/rss+xml\" title=\"RSS\" href=\"rss\">\n",
      "        <title>Hacker News</title></head><body><center><table id=\"hnmain\" border=\"0\" cellpadding=\"0\" cellspacing=\"0\" width=\"85%\" bgcolor=\"#f6f6ef\">\n",
      "        <tr><td bgcolor=\"#ff6600\"><table border=\"0\" cellpadding=\"0\" cellspacing=\"0\" width=\"100%\" style=\"padding:2px\"><tr><td style=\"width:18px;padding-right:4px\"><a href=\"https://news.ycombinator.com\"><img src=\"y18.gif\" width=\"18\" height=\"18\" style=\"border:1px white solid;\"></a></td>\n",
      "                  <td style=\"line-height:12pt; height:10px;\"><span class=\"pagetop\"><b class=\"hnname\"><a href=\"news\">Hacker News</a></b>\n",
      "              <a href=\"newest\">new</a> | <a href=\"front\">past</a> | <a href=\"newcomments\">comments</a> | <a href=\"ask\">ask</a> | <a href=\"show\">show</a> | <a href=\"jobs\">jobs</a> | <a href=\"submit\">submit</a>            </span></td><td style=\"text-align:right;padding-right:4px;\"><span class=\"pagetop\">\n",
      "                              <a href=\"login?goto=news\">login</a>\n",
      "                          </span></td>\n",
      "              </tr></table></td></tr>\n",
      "<tr id=\"pagespace\" title=\"\" style=\"height:10px\"></tr><tr><td><table border=\"0\" cellpadding=\"0\" cellspacing=\"0\" class=\"itemlist\">\n",
      "              <tr class='athing' id='26804555'>\n",
      "      <td align=\"right\" valign=\"top\" class=\"title\"><span class=\"rank\">1.</span></td>      <td valign=\"top\" class=\"votelinks\"><center><a id='up_26804555' href='vote?id=26804555&amp;how=up&amp;goto=news'><div class='votearrow' title='upvote'></div></a></center></td><td class=\"title\"><a href=\"https://gourav.io/blog/my-simple-github-project-went-viral\" class=\"storylink\">My simple GitHub project went Viral</a><span class=\"sitebit comhead\"> (<a href=\"from?site=gourav.io\"><span class=\"sitestr\">gourav.io</span></a>)</span></td></tr><tr><td colspan=\"2\"></td><td class=\"subtext\">\n",
      "        <span class=\"score\" id=\"score_26804555\">67 points</span> by <a href=\"user?id=deadcoder0904\" class=\"hnuser\">deadcoder0904</a> <span class=\"age\"><a href=\"item?id=26804555\">1 hour ago</a></span> <span id=\"unv_26804555\"></span> | <a href=\"hide?id=26804555&amp;goto=news\">hide</a> | <a href=\"item?id=26804555\">16&nbsp;comments</a>              </td></tr>\n",
      "      <tr class=\"spacer\" style=\"height:5px\"></tr>\n",
      "                <tr class='athing' id='26803201'>\n",
      "      <td align=\"right\" valign=\"top\" class=\"title\"><span class=\"rank\">2.</span></td>      <td valign=\"top\" class=\"votelinks\"><center><a id='up_26803201' href='vote?id=26803201&amp;how=up&amp;goto=news'><div class='votearrow' title='upvote'></div></a></center></td><td class=\"title\"><a href=\"https://y-n10.com/\" class=\"storylink\">Yamauchi No.10 Family Office</a><span class=\"sitebit comhead\"> (<a href=\"from?site=y-n10.com\"><span class=\"sitestr\">y-n10.com</span></a>)</span></td></tr><tr><td colspan=\"2\"></td><td class=\"subtext\">\n",
      "        <span class=\"score\" id=\"score_26803201\">326 points</span> by <a href=\"user?id=cmod\" class=\"hnuser\">cmod</a> <span class=\"age\"><a href=\"item?id=26803201\">5 hours ago</a></span> <span id=\"unv_26803201\"></span> | <a href=\"hide?id=26803201&amp;goto=news\">hide</a> | <a href=\"item?id=26803201\">95&nbsp;comments</a>              </td></tr>\n",
      "      <tr class=\"spacer\" style=\"height:5px\"></tr>\n",
      "                <tr class='athing' id='26803155'>\n",
      "      <td align=\"right\" valign=\"top\" class=\"title\"><span class=\"rank\">3.</span></td>      <td valign=\"top\" class=\"votelinks\"><center><a id='up_26803155' href='vote?id=26803155&amp;how=up&amp;goto=news'><div class='votearrow' title='upvote'></div></a></center></td><td class=\"title\"><a href=\"https://surma.dev/things/js-to-asc/\" class=\"storylink\">Is WebAssembly magic performance pixie dust?</a><span class=\"sitebit comhead\"> (<a href=\"from?site=surma.dev\"><span class=\"sitestr\">surma.dev</span></a>)</span></td></tr><tr><td colspan=\"2\"></td><td class=\"subtext\">\n",
      "        <span class=\"score\" id=\"score_26803155\">146 points</span> by <a href=\"user?id=pimterry\" class=\"hnuser\">pimterry</a> <span class=\"age\"><a href=\"item?id=26803155\">5 hours ago</a></span> <span id=\"unv_26803155\"></span> | <a href=\"hide?id=26803155&amp;goto=news\">hide</a> | <a href=\"item?id=26803155\">78&nbsp;comments</a>              </td></tr>\n",
      "      <tr class=\"spacer\" style=\"height:5px\"></tr>\n",
      "                <tr class='athing' id='26804791'>\n",
      "      <td align=\"right\" valign=\"top\" class=\"title\"><span class=\"rank\">4.</span></td>      <td valign=\"top\" class=\"votelinks\"><center><a id='up_26804791' href='vote?id=26804791&amp;how=up&amp;goto=news'><div class='votearrow' title='upvote'></div></a></center></td><td class=\"title\"><a href=\"https://www.theguardian.com/technology/2021/apr/12/facebook-fake-engagement-whistleblower-sophie-zhang\" class=\"storylink\">Facebook let fake engagement distort global politics: a whistleblower's account</a><span class=\"sitebit comhead\"> (<a href=\"from?site=theguardian.com\"><span class=\"sitestr\">theguardian.com</span></a>)</span></td></tr><tr><td colspan=\"2\"></td><td class=\"subtext\">\n",
      "        <span class=\"score\" id=\"score_26804791\">78 points</span> by <a href=\"user?id=annadane\" class=\"hnuser\">annadane</a> <span class=\"age\"><a href=\"item?id=26804791\">1 hour ago</a></span> <span id=\"unv_26804791\"></span> | <a href=\"hide?id=26804791&amp;goto=news\">hide</a> | <a href=\"item?id=26804791\">11&nbsp;comments</a>              </td></tr>\n",
      "      <tr class=\"spacer\" style=\"height:5px\"></tr>\n",
      "                <tr class='athing' id='26800481'>\n",
      "      <td align=\"right\" valign=\"top\" class=\"title\"><span class=\"rank\">5.</span></td>      <td valign=\"top\" class=\"votelinks\"><center><a id='up_26800481' href='vote?id=26800481&amp;how=up&amp;goto=news'><div class='votearrow' title='upvote'></div></a></center></td><td class=\"title\"><a href=\"https://www.justice.gov/usao-sdtx/pr/justice-department-announces-court-authorized-effort-disrupt-exploitation-microsoft\" class=\"storylink\">Effort to disrupt exploitation of Microsoft Exchange Server vulnerabilities</a><span class=\"sitebit comhead\"> (<a href=\"from?site=justice.gov\"><span class=\"sitestr\">justice.gov</span></a>)</span></td></tr><tr><td colspan=\"2\"></td><td class=\"subtext\">\n",
      "        <span class=\"score\" id=\"score_26800481\">280 points</span> by <a href=\"user?id=vikrum\" class=\"hnuser\">vikrum</a> <span class=\"age\"><a href=\"item?id=26800481\">11 hours ago</a></span> <span id=\"unv_26800481\"></span> | <a href=\"hide?id=26800481&amp;goto=news\">hide</a> | <a href=\"item?id=26800481\">116&nbsp;comments</a>              </td></tr>\n",
      "      <tr class=\"spacer\" style=\"height:5px\"></tr>\n",
      "                <tr class='athing' id='26797557'>\n",
      "      <td align=\"right\" valign=\"top\" class=\"title\"><span class=\"rank\">6.</span></td>      <td valign=\"top\" class=\"votelinks\"><center><a id='up_26797557' href='vote?id=26797557&amp;how=up&amp;goto=news'><div class='votearrow' title='upvote'></div></a></center></td><td class=\"title\"><a href=\"https://deno.com/blog/v1.9\" class=\"storylink\">Deno 1.9</a><span class=\"sitebit comhead\"> (<a href=\"from?site=deno.com\"><span class=\"sitestr\">deno.com</span></a>)</span></td></tr><tr><td colspan=\"2\"></td><td class=\"subtext\">\n",
      "        <span class=\"score\" id=\"score_26797557\">564 points</span> by <a href=\"user?id=searchableguy\" class=\"hnuser\">searchableguy</a> <span class=\"age\"><a href=\"item?id=26797557\">15 hours ago</a></span> <span id=\"unv_26797557\"></span> | <a href=\"hide?id=26797557&amp;goto=news\">hide</a> | <a href=\"item?id=26797557\">190&nbsp;comments</a>              </td></tr>\n",
      "      <tr class=\"spacer\" style=\"height:5px\"></tr>\n",
      "                <tr class='athing' id='26805121'>\n",
      "      <td align=\"right\" valign=\"top\" class=\"title\"><span class=\"rank\">7.</span></td>      <td valign=\"top\" class=\"votelinks\"><center><a id='up_26805121' href='vote?id=26805121&amp;how=up&amp;goto=news'><div class='votearrow' title='upvote'></div></a></center></td><td class=\"title\"><a href=\"https://opensource.googleblog.com/2021/04/logica-organizing-your-data-queries.html\" class=\"storylink\" rel=\"nofollow\">Logica: Modern Logic Programming</a><span class=\"sitebit comhead\"> (<a href=\"from?site=googleblog.com\"><span class=\"sitestr\">googleblog.com</span></a>)</span></td></tr><tr><td colspan=\"2\"></td><td class=\"subtext\">\n",
      "        <span class=\"score\" id=\"score_26805121\">3 points</span> by <a href=\"user?id=layer8\" class=\"hnuser\">layer8</a> <span class=\"age\"><a href=\"item?id=26805121\">18 minutes ago</a></span> <span id=\"unv_26805121\"></span> | <a href=\"hide?id=26805121&amp;goto=news\">hide</a> | <a href=\"item?id=26805121\">discuss</a>              </td></tr>\n",
      "      <tr class=\"spacer\" style=\"height:5px\"></tr>\n",
      "                <tr class='athing' id='26804977'>\n",
      "      <td align=\"right\" valign=\"top\" class=\"title\"><span class=\"rank\">8.</span></td>      <td valign=\"top\" class=\"votelinks\"><center><a id='up_26804977' href='vote?id=26804977&amp;how=up&amp;goto=news'><div class='votearrow' title='upvote'></div></a></center></td><td class=\"title\"><a href=\"https://www.reddit.com/r/privacy/comments/mq00n9/cannot_post_to_youtube_for_a_week_got_a_strike/\" class=\"storylink\">YouTube suspends account for linking to a PhD research on WPA2 vulnerability</a><span class=\"sitebit comhead\"> (<a href=\"from?site=reddit.com\"><span class=\"sitestr\">reddit.com</span></a>)</span></td></tr><tr><td colspan=\"2\"></td><td class=\"subtext\">\n",
      "        <span class=\"score\" id=\"score_26804977\">27 points</span> by <a href=\"user?id=decrypt\" class=\"hnuser\">decrypt</a> <span class=\"age\"><a href=\"item?id=26804977\">38 minutes ago</a></span> <span id=\"unv_26804977\"></span> | <a href=\"hide?id=26804977&amp;goto=news\">hide</a> | <a href=\"item?id=26804977\">1&nbsp;comment</a>              </td></tr>\n",
      "      <tr class=\"spacer\" style=\"height:5px\"></tr>\n",
      "                <tr class='athing' id='26799021'>\n",
      "      <td align=\"right\" valign=\"top\" class=\"title\"><span class=\"rank\">9.</span></td>      <td valign=\"top\" class=\"votelinks\"><center><a id='up_26799021' href='vote?id=26799021&amp;how=up&amp;goto=news'><div class='votearrow' title='upvote'></div></a></center></td><td class=\"title\"><a href=\"https://www.passwordstore.org/\" class=\"storylink\">Pass: The standard Unix password manager</a><span class=\"sitebit comhead\"> (<a href=\"from?site=passwordstore.org\"><span class=\"sitestr\">passwordstore.org</span></a>)</span></td></tr><tr><td colspan=\"2\"></td><td class=\"subtext\">\n",
      "        <span class=\"score\" id=\"score_26799021\">315 points</span> by <a href=\"user?id=homarp\" class=\"hnuser\">homarp</a> <span class=\"age\"><a href=\"item?id=26799021\">13 hours ago</a></span> <span id=\"unv_26799021\"></span> | <a href=\"hide?id=26799021&amp;goto=news\">hide</a> | <a href=\"item?id=26799021\">172&nbsp;comments</a>              </td></tr>\n",
      "      <tr class=\"spacer\" style=\"height:5px\"></tr>\n",
      "                <tr class='athing' id='26798080'>\n",
      "      <td align=\"right\" valign=\"top\" class=\"title\"><span class=\"rank\">10.</span></td>      <td valign=\"top\" class=\"votelinks\"><center><a id='up_26798080' href='vote?id=26798080&amp;how=up&amp;goto=news'><div class='votearrow' title='upvote'></div></a></center></td><td class=\"title\"><a href=\"https://blog.system76.com/post/648371526931038208/cosmic-to-arrive-in-june-release-of-popos-2104\" class=\"storylink\">System76 Developing “Cosmic” Desktop Environment</a><span class=\"sitebit comhead\"> (<a href=\"from?site=system76.com\"><span class=\"sitestr\">system76.com</span></a>)</span></td></tr><tr><td colspan=\"2\"></td><td class=\"subtext\">\n",
      "        <span class=\"score\" id=\"score_26798080\">452 points</span> by <a href=\"user?id=TangerineDream\" class=\"hnuser\">TangerineDream</a> <span class=\"age\"><a href=\"item?id=26798080\">14 hours ago</a></span> <span id=\"unv_26798080\"></span> | <a href=\"hide?id=26798080&amp;goto=news\">hide</a> | <a href=\"item?id=26798080\">327&nbsp;comments</a>              </td></tr>\n",
      "      <tr class=\"spacer\" style=\"height:5px\"></tr>\n",
      "                <tr class='athing' id='26798412'>\n",
      "      <td align=\"right\" valign=\"top\" class=\"title\"><span class=\"rank\">11.</span></td>      <td valign=\"top\" class=\"votelinks\"><center><a id='up_26798412' href='vote?id=26798412&amp;how=up&amp;goto=news'><div class='votearrow' title='upvote'></div></a></center></td><td class=\"title\"><a href=\"https://ieftimov.com/post/deep-dive-cors-history-how-it-works-best-practices/\" class=\"storylink\">Deep dive in CORS: History, how it works, and best practices</a><span class=\"sitebit comhead\"> (<a href=\"from?site=ieftimov.com\"><span class=\"sitestr\">ieftimov.com</span></a>)</span></td></tr><tr><td colspan=\"2\"></td><td class=\"subtext\">\n",
      "        <span class=\"score\" id=\"score_26798412\">293 points</span> by <a href=\"user?id=todsacerdoti\" class=\"hnuser\">todsacerdoti</a> <span class=\"age\"><a href=\"item?id=26798412\">14 hours ago</a></span> <span id=\"unv_26798412\"></span> | <a href=\"hide?id=26798412&amp;goto=news\">hide</a> | <a href=\"item?id=26798412\">47&nbsp;comments</a>              </td></tr>\n",
      "      <tr class=\"spacer\" style=\"height:5px\"></tr>\n",
      "                <tr class='athing' id='26802992'>\n",
      "      <td align=\"right\" valign=\"top\" class=\"title\"><span class=\"rank\">12.</span></td>      <td valign=\"top\" class=\"votelinks\"><center><a id='up_26802992' href='vote?id=26802992&amp;how=up&amp;goto=news'><div class='votearrow' title='upvote'></div></a></center></td><td class=\"title\"><a href=\"https://www.fcc.gov/BroadbandData/consumers#speed-test\" class=\"storylink\">Download the FCC Speed Test App</a><span class=\"sitebit comhead\"> (<a href=\"from?site=fcc.gov\"><span class=\"sitestr\">fcc.gov</span></a>)</span></td></tr><tr><td colspan=\"2\"></td><td class=\"subtext\">\n",
      "        <span class=\"score\" id=\"score_26802992\">51 points</span> by <a href=\"user?id=gscott\" class=\"hnuser\">gscott</a> <span class=\"age\"><a href=\"item?id=26802992\">6 hours ago</a></span> <span id=\"unv_26802992\"></span> | <a href=\"hide?id=26802992&amp;goto=news\">hide</a> | <a href=\"item?id=26802992\">39&nbsp;comments</a>              </td></tr>\n",
      "      <tr class=\"spacer\" style=\"height:5px\"></tr>\n",
      "                <tr class='athing' id='26800062'>\n",
      "      <td align=\"right\" valign=\"top\" class=\"title\"><span class=\"rank\">13.</span></td>      <td valign=\"top\" class=\"votelinks\"><center><a id='up_26800062' href='vote?id=26800062&amp;how=up&amp;goto=news'><div class='votearrow' title='upvote'></div></a></center></td><td class=\"title\"><a href=\"https://community.synology.com/enu/forum/1/post/142519\" class=\"storylink\">The latest DSM update makes btrfs drives unavailable on budget Synology models</a><span class=\"sitebit comhead\"> (<a href=\"from?site=synology.com\"><span class=\"sitestr\">synology.com</span></a>)</span></td></tr><tr><td colspan=\"2\"></td><td class=\"subtext\">\n",
      "        <span class=\"score\" id=\"score_26800062\">189 points</span> by <a href=\"user?id=dsego\" class=\"hnuser\">dsego</a> <span class=\"age\"><a href=\"item?id=26800062\">12 hours ago</a></span> <span id=\"unv_26800062\"></span> | <a href=\"hide?id=26800062&amp;goto=news\">hide</a> | <a href=\"item?id=26800062\">76&nbsp;comments</a>              </td></tr>\n",
      "      <tr class=\"spacer\" style=\"height:5px\"></tr>\n",
      "                <tr class='athing' id='26802276'>\n",
      "      <td align=\"right\" valign=\"top\" class=\"title\"><span class=\"rank\">14.</span></td>      <td valign=\"top\" class=\"votelinks\"><center><a id='up_26802276' href='vote?id=26802276&amp;how=up&amp;goto=news'><div class='votearrow' title='upvote'></div></a></center></td><td class=\"title\"><a href=\"https://untappedbrilliance.com/how-to-read-books-when-you-have-adhd/\" class=\"storylink\">How to Read Books When You Have ADHD</a><span class=\"sitebit comhead\"> (<a href=\"from?site=untappedbrilliance.com\"><span class=\"sitestr\">untappedbrilliance.com</span></a>)</span></td></tr><tr><td colspan=\"2\"></td><td class=\"subtext\">\n",
      "        <span class=\"score\" id=\"score_26802276\">73 points</span> by <a href=\"user?id=shankarro\" class=\"hnuser\">shankarro</a> <span class=\"age\"><a href=\"item?id=26802276\">8 hours ago</a></span> <span id=\"unv_26802276\"></span> | <a href=\"hide?id=26802276&amp;goto=news\">hide</a> | <a href=\"item?id=26802276\">74&nbsp;comments</a>              </td></tr>\n",
      "      <tr class=\"spacer\" style=\"height:5px\"></tr>\n",
      "                <tr class='athing' id='26800745'>\n",
      "      <td align=\"right\" valign=\"top\" class=\"title\"><span class=\"rank\">15.</span></td>      <td valign=\"top\" class=\"votelinks\"><center><a id='up_26800745' href='vote?id=26800745&amp;how=up&amp;goto=news'><div class='votearrow' title='upvote'></div></a></center></td><td class=\"title\"><a href=\"http://funcall.blogspot.com/2021/04/can-continuation-passing-style-code.html\" class=\"storylink\">Can continuation passing style code perform well?</a><span class=\"sitebit comhead\"> (<a href=\"from?site=funcall.blogspot.com\"><span class=\"sitestr\">funcall.blogspot.com</span></a>)</span></td></tr><tr><td colspan=\"2\"></td><td class=\"subtext\">\n",
      "        <span class=\"score\" id=\"score_26800745\">34 points</span> by <a href=\"user?id=todsacerdoti\" class=\"hnuser\">todsacerdoti</a> <span class=\"age\"><a href=\"item?id=26800745\">6 hours ago</a></span> <span id=\"unv_26800745\"></span> | <a href=\"hide?id=26800745&amp;goto=news\">hide</a> | <a href=\"item?id=26800745\">21&nbsp;comments</a>              </td></tr>\n",
      "      <tr class=\"spacer\" style=\"height:5px\"></tr>\n",
      "                <tr class='athing' id='26794040'>\n",
      "      <td align=\"right\" valign=\"top\" class=\"title\"><span class=\"rank\">16.</span></td>      <td valign=\"top\" class=\"votelinks\"><center><a id='up_26794040' href='vote?id=26794040&amp;how=up&amp;goto=news'><div class='votearrow' title='upvote'></div></a></center></td><td class=\"title\"><a href=\"https://blog.1password.com/introducing-secrets-automation/\" class=\"storylink\">1Password Secrets Automation</a><span class=\"sitebit comhead\"> (<a href=\"from?site=1password.com\"><span class=\"sitestr\">1password.com</span></a>)</span></td></tr><tr><td colspan=\"2\"></td><td class=\"subtext\">\n",
      "        <span class=\"score\" id=\"score_26794040\">336 points</span> by <a href=\"user?id=srijan4\" class=\"hnuser\">srijan4</a> <span class=\"age\"><a href=\"item?id=26794040\">18 hours ago</a></span> <span id=\"unv_26794040\"></span> | <a href=\"hide?id=26794040&amp;goto=news\">hide</a> | <a href=\"item?id=26794040\">154&nbsp;comments</a>              </td></tr>\n",
      "      <tr class=\"spacer\" style=\"height:5px\"></tr>\n",
      "                <tr class='athing' id='26801418'>\n",
      "      <td align=\"right\" valign=\"top\" class=\"title\"><span class=\"rank\">17.</span></td>      <td valign=\"top\" class=\"votelinks\"><center><a id='up_26801418' href='vote?id=26801418&amp;how=up&amp;goto=news'><div class='votearrow' title='upvote'></div></a></center></td><td class=\"title\"><a href=\"https://github.com/franklbt/RentMyCPU\" class=\"storylink\">Show HN: RentMyCPU – An open-source computational network</a><span class=\"sitebit comhead\"> (<a href=\"from?site=github.com/franklbt\"><span class=\"sitestr\">github.com/franklbt</span></a>)</span></td></tr><tr><td colspan=\"2\"></td><td class=\"subtext\">\n",
      "        <span class=\"score\" id=\"score_26801418\">107 points</span> by <a href=\"user?id=frank_lbt\" class=\"hnuser\">frank_lbt</a> <span class=\"age\"><a href=\"item?id=26801418\">10 hours ago</a></span> <span id=\"unv_26801418\"></span> | <a href=\"hide?id=26801418&amp;goto=news\">hide</a> | <a href=\"item?id=26801418\">39&nbsp;comments</a>              </td></tr>\n",
      "      <tr class=\"spacer\" style=\"height:5px\"></tr>\n",
      "                <tr class='athing' id='26796371'>\n",
      "      <td align=\"right\" valign=\"top\" class=\"title\"><span class=\"rank\">18.</span></td>      <td valign=\"top\" class=\"votelinks\"><center><a id='up_26796371' href='vote?id=26796371&amp;how=up&amp;goto=news'><div class='votearrow' title='upvote'></div></a></center></td><td class=\"title\"><a href=\"http://www.talyarkoni.org/blog/2010/07/07/What-the-Dunning-Kruger-effect-Is-and-Isnt/\" class=\"storylink\">What the Dunning-Kruger effect is and isn’t</a><span class=\"sitebit comhead\"> (<a href=\"from?site=talyarkoni.org\"><span class=\"sitestr\">talyarkoni.org</span></a>)</span></td></tr><tr><td colspan=\"2\"></td><td class=\"subtext\">\n",
      "        <span class=\"score\" id=\"score_26796371\">171 points</span> by <a href=\"user?id=sanj\" class=\"hnuser\">sanj</a> <span class=\"age\"><a href=\"item?id=26796371\">16 hours ago</a></span> <span id=\"unv_26796371\"></span> | <a href=\"hide?id=26796371&amp;goto=news\">hide</a> | <a href=\"item?id=26796371\">78&nbsp;comments</a>              </td></tr>\n",
      "      <tr class=\"spacer\" style=\"height:5px\"></tr>\n",
      "                <tr class='athing' id='26804059'>\n",
      "      <td align=\"right\" valign=\"top\" class=\"title\"><span class=\"rank\">19.</span></td>      <td valign=\"top\" class=\"votelinks\"><center><a id='up_26804059' href='vote?id=26804059&amp;how=up&amp;goto=news'><div class='votearrow' title='upvote'></div></a></center></td><td class=\"title\"><a href=\"https://globalvoices.org/2021/04/09/serbian-freelancers-protest-new-taxation-law-that-threatens-to-push-thousands-into-poverty/\" class=\"storylink\">Serbian freelancers protest new taxation law that threatens push into poverty</a><span class=\"sitebit comhead\"> (<a href=\"from?site=globalvoices.org\"><span class=\"sitestr\">globalvoices.org</span></a>)</span></td></tr><tr><td colspan=\"2\"></td><td class=\"subtext\">\n",
      "        <span class=\"score\" id=\"score_26804059\">55 points</span> by <a href=\"user?id=walterbell\" class=\"hnuser\">walterbell</a> <span class=\"age\"><a href=\"item?id=26804059\">3 hours ago</a></span> <span id=\"unv_26804059\"></span> | <a href=\"hide?id=26804059&amp;goto=news\">hide</a> | <a href=\"item?id=26804059\">21&nbsp;comments</a>              </td></tr>\n",
      "      <tr class=\"spacer\" style=\"height:5px\"></tr>\n",
      "                <tr class='athing' id='26802874'>\n",
      "      <td align=\"right\" valign=\"top\" class=\"title\"><span class=\"rank\">20.</span></td>      <td valign=\"top\" class=\"votelinks\"><center><a id='up_26802874' href='vote?id=26802874&amp;how=up&amp;goto=news'><div class='votearrow' title='upvote'></div></a></center></td><td class=\"title\"><a href=\"https://decrypt.co/66411/cia-bitcoin-surveillance\" class=\"storylink\">Bitcoin is a ‘boon for surveillance’, says former CIA director</a><span class=\"sitebit comhead\"> (<a href=\"from?site=decrypt.co\"><span class=\"sitestr\">decrypt.co</span></a>)</span></td></tr><tr><td colspan=\"2\"></td><td class=\"subtext\">\n",
      "        <span class=\"score\" id=\"score_26802874\">200 points</span> by <a href=\"user?id=ryan_j_naughton\" class=\"hnuser\">ryan_j_naughton</a> <span class=\"age\"><a href=\"item?id=26802874\">6 hours ago</a></span> <span id=\"unv_26802874\"></span> | <a href=\"hide?id=26802874&amp;goto=news\">hide</a> | <a href=\"item?id=26802874\">189&nbsp;comments</a>              </td></tr>\n",
      "      <tr class=\"spacer\" style=\"height:5px\"></tr>\n",
      "                <tr class='athing' id='26794110'>\n",
      "      <td align=\"right\" valign=\"top\" class=\"title\"><span class=\"rank\">21.</span></td>      <td valign=\"top\" class=\"votelinks\"><center><a id='up_26794110' href='vote?id=26794110&amp;how=up&amp;goto=news'><div class='votearrow' title='upvote'></div></a></center></td><td class=\"title\"><a href=\"http://www.erasmatazz.com/library/life-in-general/marbles.html\" class=\"storylink\">Marbles (2016)</a><span class=\"sitebit comhead\"> (<a href=\"from?site=erasmatazz.com\"><span class=\"sitestr\">erasmatazz.com</span></a>)</span></td></tr><tr><td colspan=\"2\"></td><td class=\"subtext\">\n",
      "        <span class=\"score\" id=\"score_26794110\">155 points</span> by <a href=\"user?id=aphrax\" class=\"hnuser\">aphrax</a> <span class=\"age\"><a href=\"item?id=26794110\">18 hours ago</a></span> <span id=\"unv_26794110\"></span> | <a href=\"hide?id=26794110&amp;goto=news\">hide</a> | <a href=\"item?id=26794110\">78&nbsp;comments</a>              </td></tr>\n",
      "      <tr class=\"spacer\" style=\"height:5px\"></tr>\n",
      "                <tr class='athing' id='26798982'>\n",
      "      <td align=\"right\" valign=\"top\" class=\"title\"><span class=\"rank\">22.</span></td>      <td valign=\"top\" class=\"votelinks\"><center><a id='up_26798982' href='vote?id=26798982&amp;how=up&amp;goto=news'><div class='votearrow' title='upvote'></div></a></center></td><td class=\"title\"><a href=\"https://www.androidpolice.com/2021/04/13/whatsapps-new-privacy-policy-is-so-bad-it-might-be-illegal/\" class=\"storylink\">WhatsApp's new privacy policy is so bad it might be illegal</a><span class=\"sitebit comhead\"> (<a href=\"from?site=androidpolice.com\"><span class=\"sitestr\">androidpolice.com</span></a>)</span></td></tr><tr><td colspan=\"2\"></td><td class=\"subtext\">\n",
      "        <span class=\"score\" id=\"score_26798982\">380 points</span> by <a href=\"user?id=elorant\" class=\"hnuser\">elorant</a> <span class=\"age\"><a href=\"item?id=26798982\">14 hours ago</a></span> <span id=\"unv_26798982\"></span> | <a href=\"hide?id=26798982&amp;goto=news\">hide</a> | <a href=\"item?id=26798982\">158&nbsp;comments</a>              </td></tr>\n",
      "      <tr class=\"spacer\" style=\"height:5px\"></tr>\n",
      "                <tr class='athing' id='26805183'>\n",
      "      <td align=\"right\" valign=\"top\" class=\"title\"><span class=\"rank\">23.</span></td>      <td valign=\"top\" class=\"votelinks\"><center><a id='up_26805183' href='vote?id=26805183&amp;how=up&amp;goto=news'><div class='votearrow' title='upvote'></div></a></center></td><td class=\"title\"><a href=\"https://www.forbes.com/sites/stevenbertoni/2020/09/15/exclusive-the-billionaire-who-wanted-to-die-brokeis-now-officially-broke/\" class=\"storylink\" rel=\"nofollow\">The Billionaire Who Wanted to Die Broke Is Now Officially Broke (2020)</a><span class=\"sitebit comhead\"> (<a href=\"from?site=forbes.com/sites/stevenbertoni\"><span class=\"sitestr\">forbes.com/sites/stevenbertoni</span></a>)</span></td></tr><tr><td colspan=\"2\"></td><td class=\"subtext\">\n",
      "        <span class=\"score\" id=\"score_26805183\">3 points</span> by <a href=\"user?id=BayAreaEscapee\" class=\"hnuser\">BayAreaEscapee</a> <span class=\"age\"><a href=\"item?id=26805183\">10 minutes ago</a></span> <span id=\"unv_26805183\"></span> | <a href=\"hide?id=26805183&amp;goto=news\">hide</a> | <a href=\"item?id=26805183\">discuss</a>              </td></tr>\n",
      "      <tr class=\"spacer\" style=\"height:5px\"></tr>\n",
      "                <tr class='athing' id='26802011'>\n",
      "      <td align=\"right\" valign=\"top\" class=\"title\"><span class=\"rank\">24.</span></td>      <td valign=\"top\" class=\"votelinks\"><center><a id='up_26802011' href='vote?id=26802011&amp;how=up&amp;goto=news'><div class='votearrow' title='upvote'></div></a></center></td><td class=\"title\"><a href=\"https://www.theregister.com/2021/04/13/fcc_robocalls_action/\" class=\"storylink\">FCC finally starts tackling America's robocall scourge</a><span class=\"sitebit comhead\"> (<a href=\"from?site=theregister.com\"><span class=\"sitestr\">theregister.com</span></a>)</span></td></tr><tr><td colspan=\"2\"></td><td class=\"subtext\">\n",
      "        <span class=\"score\" id=\"score_26802011\">152 points</span> by <a href=\"user?id=thebetatester\" class=\"hnuser\">thebetatester</a> <span class=\"age\"><a href=\"item?id=26802011\">9 hours ago</a></span> <span id=\"unv_26802011\"></span> | <a href=\"hide?id=26802011&amp;goto=news\">hide</a> | <a href=\"item?id=26802011\">114&nbsp;comments</a>              </td></tr>\n",
      "      <tr class=\"spacer\" style=\"height:5px\"></tr>\n",
      "                <tr class='athing' id='26795290'>\n",
      "      <td align=\"right\" valign=\"top\" class=\"title\"><span class=\"rank\">25.</span></td>      <td valign=\"top\" class=\"votelinks\"><center><a id='up_26795290' href='vote?id=26795290&amp;how=up&amp;goto=news'><div class='votearrow' title='upvote'></div></a></center></td><td class=\"title\"><a href=\"https://www.gamasutra.com/blogs/RobertPepperell/20200527/363615/FOVO_A_new_3D_rendering_technique_based_on_human_vision.php\" class=\"storylink\">FOVO: A new 3D rendering technique based on human vision</a><span class=\"sitebit comhead\"> (<a href=\"from?site=gamasutra.com\"><span class=\"sitestr\">gamasutra.com</span></a>)</span></td></tr><tr><td colspan=\"2\"></td><td class=\"subtext\">\n",
      "        <span class=\"score\" id=\"score_26795290\">96 points</span> by <a href=\"user?id=smusamashah\" class=\"hnuser\">smusamashah</a> <span class=\"age\"><a href=\"item?id=26795290\">17 hours ago</a></span> <span id=\"unv_26795290\"></span> | <a href=\"hide?id=26795290&amp;goto=news\">hide</a> | <a href=\"item?id=26795290\">44&nbsp;comments</a>              </td></tr>\n",
      "      <tr class=\"spacer\" style=\"height:5px\"></tr>\n",
      "                <tr class='athing' id='26799702'>\n",
      "      <td align=\"right\" valign=\"top\" class=\"title\"><span class=\"rank\">26.</span></td>      <td valign=\"top\" class=\"votelinks\"><center><a id='up_26799702' href='vote?id=26799702&amp;how=up&amp;goto=news'><div class='votearrow' title='upvote'></div></a></center></td><td class=\"title\"><a href=\"https://fermatslibrary.com/s/what-are-the-most-important-statistical-ideas-of-the-past-50-years\" class=\"storylink\">The most important statistical ideas of the past 50 years</a><span class=\"sitebit comhead\"> (<a href=\"from?site=fermatslibrary.com\"><span class=\"sitestr\">fermatslibrary.com</span></a>)</span></td></tr><tr><td colspan=\"2\"></td><td class=\"subtext\">\n",
      "        <span class=\"score\" id=\"score_26799702\">155 points</span> by <a href=\"user?id=BerislavLopac\" class=\"hnuser\">BerislavLopac</a> <span class=\"age\"><a href=\"item?id=26799702\">13 hours ago</a></span> <span id=\"unv_26799702\"></span> | <a href=\"hide?id=26799702&amp;goto=news\">hide</a> | <a href=\"item?id=26799702\">23&nbsp;comments</a>              </td></tr>\n",
      "      <tr class=\"spacer\" style=\"height:5px\"></tr>\n",
      "                <tr class='athing' id='26799244'>\n",
      "      <td align=\"right\" valign=\"top\" class=\"title\"><span class=\"rank\">27.</span></td>      <td></td><td class=\"title\"><a href=\"https://www.ycombinator.com/companies/great-question/jobs/rbDFLOP-founding-engineer-rails\" class=\"storylink\" rel=\"nofollow\">Great Question (YC W21) Is Hiring a Founding Engineer (Rails) (Remote, PST-Ish)</a><span class=\"sitebit comhead\"> (<a href=\"from?site=ycombinator.com\"><span class=\"sitestr\">ycombinator.com</span></a>)</span></td></tr><tr><td colspan=\"2\"></td><td class=\"subtext\">\n",
      "        <span class=\"age\"><a href=\"item?id=26799244\">13 hours ago</a></span> | <a href=\"hide?id=26799244&amp;goto=news\">hide</a>      </td></tr>\n",
      "      <tr class=\"spacer\" style=\"height:5px\"></tr>\n",
      "                <tr class='athing' id='26800243'>\n",
      "      <td align=\"right\" valign=\"top\" class=\"title\"><span class=\"rank\">28.</span></td>      <td valign=\"top\" class=\"votelinks\"><center><a id='up_26800243' href='vote?id=26800243&amp;how=up&amp;goto=news'><div class='votearrow' title='upvote'></div></a></center></td><td class=\"title\"><a href=\"https://github.com/dmsc/emu2\" class=\"storylink\">EMU2: A simple text-mode x86 and DOS emulator</a><span class=\"sitebit comhead\"> (<a href=\"from?site=github.com/dmsc\"><span class=\"sitestr\">github.com/dmsc</span></a>)</span></td></tr><tr><td colspan=\"2\"></td><td class=\"subtext\">\n",
      "        <span class=\"score\" id=\"score_26800243\">49 points</span> by <a href=\"user?id=fm77\" class=\"hnuser\">fm77</a> <span class=\"age\"><a href=\"item?id=26800243\">12 hours ago</a></span> <span id=\"unv_26800243\"></span> | <a href=\"hide?id=26800243&amp;goto=news\">hide</a> | <a href=\"item?id=26800243\">20&nbsp;comments</a>              </td></tr>\n",
      "      <tr class=\"spacer\" style=\"height:5px\"></tr>\n",
      "                <tr class='athing' id='26796533'>\n",
      "      <td align=\"right\" valign=\"top\" class=\"title\"><span class=\"rank\">29.</span></td>      <td valign=\"top\" class=\"votelinks\"><center><a id='up_26796533' href='vote?id=26796533&amp;how=up&amp;goto=news'><div class='votearrow' title='upvote'></div></a></center></td><td class=\"title\"><a href=\"https://blogs.windows.com/devices/2021/04/13/introducing-surface-laptop-4-and-new-accessories-for-enhanced-meeting-experiences/\" class=\"storylink\">Surface Laptop 4</a><span class=\"sitebit comhead\"> (<a href=\"from?site=windows.com\"><span class=\"sitestr\">windows.com</span></a>)</span></td></tr><tr><td colspan=\"2\"></td><td class=\"subtext\">\n",
      "        <span class=\"score\" id=\"score_26796533\">323 points</span> by <a href=\"user?id=layer8\" class=\"hnuser\">layer8</a> <span class=\"age\"><a href=\"item?id=26796533\">16 hours ago</a></span> <span id=\"unv_26796533\"></span> | <a href=\"hide?id=26796533&amp;goto=news\">hide</a> | <a href=\"item?id=26796533\">307&nbsp;comments</a>              </td></tr>\n",
      "      <tr class=\"spacer\" style=\"height:5px\"></tr>\n",
      "                <tr class='athing' id='26798367'>\n",
      "      <td align=\"right\" valign=\"top\" class=\"title\"><span class=\"rank\">30.</span></td>      <td valign=\"top\" class=\"votelinks\"><center><a id='up_26798367' href='vote?id=26798367&amp;how=up&amp;goto=news'><div class='votearrow' title='upvote'></div></a></center></td><td class=\"title\"><a href=\"https://www.bbc.com/news/technology-56718046\" class=\"storylink\">Estate agent's hi-tech house tour exposes personal data</a><span class=\"sitebit comhead\"> (<a href=\"from?site=bbc.com\"><span class=\"sitestr\">bbc.com</span></a>)</span></td></tr><tr><td colspan=\"2\"></td><td class=\"subtext\">\n",
      "        <span class=\"score\" id=\"score_26798367\">80 points</span> by <a href=\"user?id=salgernon\" class=\"hnuser\">salgernon</a> <span class=\"age\"><a href=\"item?id=26798367\">14 hours ago</a></span> <span id=\"unv_26798367\"></span> | <a href=\"hide?id=26798367&amp;goto=news\">hide</a> | <a href=\"item?id=26798367\">63&nbsp;comments</a>              </td></tr>\n",
      "      <tr class=\"spacer\" style=\"height:5px\"></tr>\n",
      "            <tr class=\"morespace\" style=\"height:10px\"></tr><tr><td colspan=\"2\"></td><td class=\"title\"><a href=\"news?p=2\" class=\"morelink\" rel=\"next\">More</a></td></tr>\n",
      "  </table>\n",
      "</td></tr>\n",
      "<tr><td><img src=\"s.gif\" height=\"10\" width=\"0\"><table width=\"100%\" cellspacing=\"0\" cellpadding=\"1\"><tr><td bgcolor=\"#ff6600\"></td></tr></table><br><center><span class=\"yclinks\"><a href=\"newsguidelines.html\">Guidelines</a>\n",
      "        | <a href=\"newsfaq.html\">FAQ</a>\n",
      "        | <a href=\"lists\">Lists</a>\n",
      "        | <a href=\"https://github.com/HackerNews/API\">API</a>\n",
      "        | <a href=\"security.html\">Security</a>\n",
      "        | <a href=\"http://www.ycombinator.com/legal/\">Legal</a>\n",
      "        | <a href=\"http://www.ycombinator.com/apply/\">Apply to YC</a>\n",
      "        | <a href=\"mailto:hn@ycombinator.com\">Contact</a></span><br><br><form method=\"get\" action=\"//hn.algolia.com/\">Search:\n",
      "          <input type=\"text\" name=\"q\" value=\"\" size=\"17\" autocorrect=\"off\" spellcheck=\"false\" autocapitalize=\"off\" autocomplete=\"false\"></form>\n",
      "            </center></td></tr>\n",
      "      </table></center></body><script type='text/javascript' src='hn.js?ByzR2VCazcHqBPYc6t4C'></script></html>\n",
      "\n"
     ]
    }
   ],
   "source": [
    "import requests\n",
    "\n",
    "r = requests.get(\"https://news.ycombinator.com\")\n",
    "print(r.text)"
   ]
  },
  {
   "cell_type": "code",
   "execution_count": 7,
   "id": "f70efc98",
   "metadata": {},
   "outputs": [
    {
     "data": {
      "text/plain": [
       "\"\\n        \\n          \\n        Hacker News\\n        \\n                  Hacker News\\n              new | past | comments | ask | show | jobs | submit            \\n                              login\\n                          \\n              \\n\\n              \\n      1.      My simple GitHub project went Viral (gourav.io)\\n        67 points by deadcoder0904 1 hour ago  | hide | 16&nbsp;comments              \\n      \\n                \\n      2.      Yamauchi No.10 Family Office (y-n10.com)\\n        326 points by cmod 5 hours ago  | hide | 95&nbsp;comments              \\n      \\n                \\n      3.      Is WebAssembly magic performance pixie dust? (surma.dev)\\n        146 points by pimterry 5 hours ago  | hide | 78&nbsp;comments              \\n      \\n                \\n      4.      Facebook let fake engagement distort global politics: a whistleblower's account (theguardian.com)\\n        78 points by annadane 1 hour ago  | hide | 11&nbsp;comments              \\n      \\n                \\n      5.      Effort to disrupt exploitation of Microsoft Exchange Server vulnerabilities (justice.gov)\\n        280 points by vikrum 11 hours ago  | hide | 116&nbsp;comments              \\n      \\n                \\n      6.      Deno 1.9 (deno.com)\\n        564 points by searchableguy 15 hours ago  | hide | 190&nbsp;comments              \\n      \\n                \\n      7.      Logica: Modern Logic Programming (googleblog.com)\\n        3 points by layer8 18 minutes ago  | hide | discuss              \\n      \\n                \\n      8.      YouTube suspends account for linking to a PhD research on WPA2 vulnerability (reddit.com)\\n        27 points by decrypt 38 minutes ago  | hide | 1&nbsp;comment              \\n      \\n                \\n      9.      Pass: The standard Unix password manager (passwordstore.org)\\n        315 points by homarp 13 hours ago  | hide | 172&nbsp;comments              \\n      \\n                \\n      10.      System76 Developing “Cosmic” Desktop Environment (system76.com)\\n        452 points by TangerineDream 14 hours ago  | hide | 327&nbsp;comments              \\n      \\n                \\n      11.      Deep dive in CORS: History, how it works, and best practices (ieftimov.com)\\n        293 points by todsacerdoti 14 hours ago  | hide | 47&nbsp;comments              \\n      \\n                \\n      12.      Download the FCC Speed Test App (fcc.gov)\\n        51 points by gscott 6 hours ago  | hide | 39&nbsp;comments              \\n      \\n                \\n      13.      The latest DSM update makes btrfs drives unavailable on budget Synology models (synology.com)\\n        189 points by dsego 12 hours ago  | hide | 76&nbsp;comments              \\n      \\n                \\n      14.      How to Read Books When You Have ADHD (untappedbrilliance.com)\\n        73 points by shankarro 8 hours ago  | hide | 74&nbsp;comments              \\n      \\n                \\n      15.      Can continuation passing style code perform well? (funcall.blogspot.com)\\n        34 points by todsacerdoti 6 hours ago  | hide | 21&nbsp;comments              \\n      \\n                \\n      16.      1Password Secrets Automation (1password.com)\\n        336 points by srijan4 18 hours ago  | hide | 154&nbsp;comments              \\n      \\n                \\n      17.      Show HN: RentMyCPU – An open-source computational network (github.com/franklbt)\\n        107 points by frank_lbt 10 hours ago  | hide | 39&nbsp;comments              \\n      \\n                \\n      18.      What the Dunning-Kruger effect is and isn’t (talyarkoni.org)\\n        171 points by sanj 16 hours ago  | hide | 78&nbsp;comments              \\n      \\n                \\n      19.      Serbian freelancers protest new taxation law that threatens push into poverty (globalvoices.org)\\n        55 points by walterbell 3 hours ago  | hide | 21&nbsp;comments              \\n      \\n                \\n      20.      Bitcoin is a ‘boon for surveillance’, says former CIA director (decrypt.co)\\n        200 points by ryan_j_naughton 6 hours ago  | hide | 189&nbsp;comments              \\n      \\n                \\n      21.      Marbles (2016) (erasmatazz.com)\\n        155 points by aphrax 18 hours ago  | hide | 78&nbsp;comments              \\n      \\n                \\n      22.      WhatsApp's new privacy policy is so bad it might be illegal (androidpolice.com)\\n        380 points by elorant 14 hours ago  | hide | 158&nbsp;comments              \\n      \\n                \\n      23.      The Billionaire Who Wanted to Die Broke Is Now Officially Broke (2020) (forbes.com/sites/stevenbertoni)\\n        3 points by BayAreaEscapee 10 minutes ago  | hide | discuss              \\n      \\n                \\n      24.      FCC finally starts tackling America's robocall scourge (theregister.com)\\n        152 points by thebetatester 9 hours ago  | hide | 114&nbsp;comments              \\n      \\n                \\n      25.      FOVO: A new 3D rendering technique based on human vision (gamasutra.com)\\n        96 points by smusamashah 17 hours ago  | hide | 44&nbsp;comments              \\n      \\n                \\n      26.      The most important statistical ideas of the past 50 years (fermatslibrary.com)\\n        155 points by BerislavLopac 13 hours ago  | hide | 23&nbsp;comments              \\n      \\n                \\n      27.      Great Question (YC W21) Is Hiring a Founding Engineer (Rails) (Remote, PST-Ish) (ycombinator.com)\\n        13 hours ago | hide      \\n      \\n                \\n      28.      EMU2: A simple text-mode x86 and DOS emulator (github.com/dmsc)\\n        49 points by fm77 12 hours ago  | hide | 20&nbsp;comments              \\n      \\n                \\n      29.      Surface Laptop 4 (windows.com)\\n        323 points by layer8 16 hours ago  | hide | 307&nbsp;comments              \\n      \\n                \\n      30.      Estate agent's hi-tech house tour exposes personal data (bbc.com)\\n        80 points by salgernon 14 hours ago  | hide | 63&nbsp;comments              \\n      \\n            More\\n  \\n\\nGuidelines\\n        | FAQ\\n        | Lists\\n        | API\\n        | Security\\n        | Legal\\n        | Apply to YC\\n        | ContactSearch:\\n          \\n            \\n      \\n\""
      ]
     },
     "execution_count": 7,
     "metadata": {},
     "output_type": "execute_result"
    }
   ],
   "source": [
    "import re\n",
    "\n",
    "pattern = re.sub('<.*?>', '', r.text)\n",
    "pattern"
   ]
  },
  {
   "cell_type": "code",
   "execution_count": 8,
   "id": "8c8c1ab1",
   "metadata": {},
   "outputs": [
    {
     "name": "stdout",
     "output_type": "stream",
     "text": [
      "\n",
      "        \n",
      "          \n",
      "        Hacker News\n",
      "        \n",
      "                  Hacker News\n",
      "              new | past | comments | ask | show | jobs | submit            \n",
      "                              login\n",
      "                          \n",
      "              \n",
      "\n",
      "              \n",
      "      1.      My simple GitHub project went Viral (gourav.io)\n",
      "        67 points by deadcoder0904 1 hour ago  | hide | 16 comments              \n",
      "      \n",
      "                \n",
      "      2.      Yamauchi No.10 Family Office (y-n10.com)\n",
      "        326 points by cmod 5 hours ago  | hide | 95 comments              \n",
      "      \n",
      "                \n",
      "      3.      Is WebAssembly magic performance pixie dust? (surma.dev)\n",
      "        146 points by pimterry 5 hours ago  | hide | 78 comments              \n",
      "      \n",
      "                \n",
      "      4.      Facebook let fake engagement distort global politics: a whistleblower's account (theguardian.com)\n",
      "        78 points by annadane 1 hour ago  | hide | 11 comments              \n",
      "      \n",
      "                \n",
      "      5.      Effort to disrupt exploitation of Microsoft Exchange Server vulnerabilities (justice.gov)\n",
      "        280 points by vikrum 11 hours ago  | hide | 116 comments              \n",
      "      \n",
      "                \n",
      "      6.      Deno 1.9 (deno.com)\n",
      "        564 points by searchableguy 15 hours ago  | hide | 190 comments              \n",
      "      \n",
      "                \n",
      "      7.      Logica: Modern Logic Programming (googleblog.com)\n",
      "        3 points by layer8 18 minutes ago  | hide | discuss              \n",
      "      \n",
      "                \n",
      "      8.      YouTube suspends account for linking to a PhD research on WPA2 vulnerability (reddit.com)\n",
      "        27 points by decrypt 38 minutes ago  | hide | 1 comment              \n",
      "      \n",
      "                \n",
      "      9.      Pass: The standard Unix password manager (passwordstore.org)\n",
      "        315 points by homarp 13 hours ago  | hide | 172 comments              \n",
      "      \n",
      "                \n",
      "      10.      System76 Developing “Cosmic” Desktop Environment (system76.com)\n",
      "        452 points by TangerineDream 14 hours ago  | hide | 327 comments              \n",
      "      \n",
      "                \n",
      "      11.      Deep dive in CORS: History, how it works, and best practices (ieftimov.com)\n",
      "        293 points by todsacerdoti 14 hours ago  | hide | 47 comments              \n",
      "      \n",
      "                \n",
      "      12.      Download the FCC Speed Test App (fcc.gov)\n",
      "        51 points by gscott 6 hours ago  | hide | 39 comments              \n",
      "      \n",
      "                \n",
      "      13.      The latest DSM update makes btrfs drives unavailable on budget Synology models (synology.com)\n",
      "        189 points by dsego 12 hours ago  | hide | 76 comments              \n",
      "      \n",
      "                \n",
      "      14.      How to Read Books When You Have ADHD (untappedbrilliance.com)\n",
      "        73 points by shankarro 8 hours ago  | hide | 74 comments              \n",
      "      \n",
      "                \n",
      "      15.      Can continuation passing style code perform well? (funcall.blogspot.com)\n",
      "        34 points by todsacerdoti 6 hours ago  | hide | 21 comments              \n",
      "      \n",
      "                \n",
      "      16.      1Password Secrets Automation (1password.com)\n",
      "        336 points by srijan4 18 hours ago  | hide | 154 comments              \n",
      "      \n",
      "                \n",
      "      17.      Show HN: RentMyCPU – An open-source computational network (github.com/franklbt)\n",
      "        107 points by frank_lbt 10 hours ago  | hide | 39 comments              \n",
      "      \n",
      "                \n",
      "      18.      What the Dunning-Kruger effect is and isn’t (talyarkoni.org)\n",
      "        171 points by sanj 16 hours ago  | hide | 78 comments              \n",
      "      \n",
      "                \n",
      "      19.      Serbian freelancers protest new taxation law that threatens push into poverty (globalvoices.org)\n",
      "        55 points by walterbell 3 hours ago  | hide | 21 comments              \n",
      "      \n",
      "                \n",
      "      20.      Bitcoin is a ‘boon for surveillance’, says former CIA director (decrypt.co)\n",
      "        200 points by ryan_j_naughton 6 hours ago  | hide | 189 comments              \n",
      "      \n",
      "                \n",
      "      21.      Marbles (2016) (erasmatazz.com)\n",
      "        155 points by aphrax 18 hours ago  | hide | 78 comments              \n",
      "      \n",
      "                \n",
      "      22.      WhatsApp's new privacy policy is so bad it might be illegal (androidpolice.com)\n",
      "        380 points by elorant 14 hours ago  | hide | 158 comments              \n",
      "      \n",
      "                \n",
      "      23.      The Billionaire Who Wanted to Die Broke Is Now Officially Broke (2020) (forbes.com/sites/stevenbertoni)\n",
      "        3 points by BayAreaEscapee 10 minutes ago  | hide | discuss              \n",
      "      \n",
      "                \n",
      "      24.      FCC finally starts tackling America's robocall scourge (theregister.com)\n",
      "        152 points by thebetatester 9 hours ago  | hide | 114 comments              \n",
      "      \n",
      "                \n",
      "      25.      FOVO: A new 3D rendering technique based on human vision (gamasutra.com)\n",
      "        96 points by smusamashah 17 hours ago  | hide | 44 comments              \n",
      "      \n",
      "                \n",
      "      26.      The most important statistical ideas of the past 50 years (fermatslibrary.com)\n",
      "        155 points by BerislavLopac 13 hours ago  | hide | 23 comments              \n",
      "      \n",
      "                \n",
      "      27.      Great Question (YC W21) Is Hiring a Founding Engineer (Rails) (Remote, PST-Ish) (ycombinator.com)\n",
      "        13 hours ago | hide      \n",
      "      \n",
      "                \n",
      "      28.      EMU2: A simple text-mode x86 and DOS emulator (github.com/dmsc)\n",
      "        49 points by fm77 12 hours ago  | hide | 20 comments              \n",
      "      \n",
      "                \n",
      "      29.      Surface Laptop 4 (windows.com)\n",
      "        323 points by layer8 16 hours ago  | hide | 307 comments              \n",
      "      \n",
      "                \n",
      "      30.      Estate agent's hi-tech house tour exposes personal data (bbc.com)\n",
      "        80 points by salgernon 14 hours ago  | hide | 63 comments              \n",
      "      \n",
      "            More\n",
      "  \n",
      "\n",
      "Guidelines\n",
      "        | FAQ\n",
      "        | Lists\n",
      "        | API\n",
      "        | Security\n",
      "        | Legal\n",
      "        | Apply to YC\n",
      "        | ContactSearch:\n",
      "          \n",
      "            \n",
      "      \n",
      "\n"
     ]
    }
   ],
   "source": [
    "from bs4 import BeautifulSoup\n",
    "\n",
    "soup = BeautifulSoup(r.text, \"html5lib\")\n",
    "print(soup.get_text())"
   ]
  },
  {
   "cell_type": "code",
   "execution_count": 9,
   "id": "28a54495",
   "metadata": {},
   "outputs": [
    {
     "data": {
      "text/plain": [
       "<tr class=\"athing\" id=\"26804555\">\n",
       "      <td align=\"right\" class=\"title\" valign=\"top\"><span class=\"rank\">1.</span></td>      <td class=\"votelinks\" valign=\"top\"><center><a href=\"vote?id=26804555&amp;how=up&amp;goto=news\" id=\"up_26804555\"><div class=\"votearrow\" title=\"upvote\"></div></a></center></td><td class=\"title\"><a class=\"storylink\" href=\"https://gourav.io/blog/my-simple-github-project-went-viral\">My simple GitHub project went Viral</a><span class=\"sitebit comhead\"> (<a href=\"from?site=gourav.io\"><span class=\"sitestr\">gourav.io</span></a>)</span></td></tr>"
      ]
     },
     "execution_count": 9,
     "metadata": {},
     "output_type": "execute_result"
    }
   ],
   "source": [
    "summaries = soup.find_all('tr', class_='athing')\n",
    "summaries[0]"
   ]
  },
  {
   "cell_type": "code",
   "execution_count": 10,
   "id": "debd6080",
   "metadata": {},
   "outputs": [
    {
     "data": {
      "text/plain": [
       "'My simple GitHub project went Viral'"
      ]
     },
     "execution_count": 10,
     "metadata": {},
     "output_type": "execute_result"
    }
   ],
   "source": [
    "summaries[0].find('a', class_='storylink').get_text().strip()"
   ]
  },
  {
   "cell_type": "code",
   "execution_count": 11,
   "id": "258eb201",
   "metadata": {},
   "outputs": [
    {
     "name": "stdout",
     "output_type": "stream",
     "text": [
      "30 Article summaries found, \n",
      "Sample: \n",
      "My simple GitHub project went Viral\n"
     ]
    }
   ],
   "source": [
    "# Find all articles, extract titles\n",
    "articles = []\n",
    "summaries = soup.find_all(\"tr\", class_=\"athing\")\n",
    "for summary in summaries:\n",
    "    title = summary.find(\"a\", class_='storylink').get_text().strip()\n",
    "    articles.append(title)\n",
    "\n",
    "print(len(articles), \"Article summaries found, \\nSample: \")\n",
    "print(articles[0])"
   ]
  },
  {
   "cell_type": "markdown",
   "id": "e3f38f36",
   "metadata": {},
   "source": [
    "### Normalization\n",
    "\n",
    "#### Case Normalization"
   ]
  },
  {
   "cell_type": "code",
   "execution_count": 12,
   "id": "45995769",
   "metadata": {},
   "outputs": [
    {
     "name": "stdout",
     "output_type": "stream",
     "text": [
      "The first time you see The Second Renaissance it may look boring. Look at it at least twice and definitely watch part 2. It will change your view of the matrix. Are the human people the ones who started the war ? Is AI a bad thing ?\n"
     ]
    }
   ],
   "source": [
    "# Sample text\n",
    "text = \"The first time you see The Second Renaissance it may look boring. Look at it at least twice and definitely watch part 2. It will change your view of the matrix. Are the human people the ones who started the war ? Is AI a bad thing ?\"\n",
    "print(text)"
   ]
  },
  {
   "cell_type": "code",
   "execution_count": 13,
   "id": "daf1ea1a",
   "metadata": {},
   "outputs": [],
   "source": [
    "text = text.lower()"
   ]
  },
  {
   "cell_type": "code",
   "execution_count": 14,
   "id": "2789e9dc",
   "metadata": {},
   "outputs": [
    {
     "data": {
      "text/plain": [
       "'the first time you see the second renaissance it may look boring. look at it at least twice and definitely watch part 2. it will change your view of the matrix. are the human people the ones who started the war ? is ai a bad thing ?'"
      ]
     },
     "execution_count": 14,
     "metadata": {},
     "output_type": "execute_result"
    }
   ],
   "source": [
    "text"
   ]
  },
  {
   "cell_type": "markdown",
   "id": "7bf47c4b",
   "metadata": {},
   "source": [
    "### Punctuation Removal"
   ]
  },
  {
   "cell_type": "code",
   "execution_count": 15,
   "id": "28d7d787",
   "metadata": {},
   "outputs": [
    {
     "name": "stdout",
     "output_type": "stream",
     "text": [
      "the first time you see the second renaissance it may look boring  look at it at least twice and definitely watch part 2  it will change your view of the matrix  are the human people the ones who started the war   is ai a bad thing  \n"
     ]
    }
   ],
   "source": [
    "import re\n",
    "\n",
    "# Remove punctuation characters\n",
    "text = re.sub(r\"[^a-zA-Z0-9]\", \" \", text)\n",
    "print(text)"
   ]
  },
  {
   "cell_type": "markdown",
   "id": "00b961f8",
   "metadata": {},
   "source": [
    "### Tokenization"
   ]
  },
  {
   "cell_type": "code",
   "execution_count": 16,
   "id": "4f86f780",
   "metadata": {},
   "outputs": [
    {
     "data": {
      "text/plain": [
       "['the',\n",
       " 'first',\n",
       " 'time',\n",
       " 'you',\n",
       " 'see',\n",
       " 'the',\n",
       " 'second',\n",
       " 'renaissance',\n",
       " 'it',\n",
       " 'may',\n",
       " 'look',\n",
       " 'boring',\n",
       " 'look',\n",
       " 'at',\n",
       " 'it',\n",
       " 'at',\n",
       " 'least',\n",
       " 'twice',\n",
       " 'and',\n",
       " 'definitely',\n",
       " 'watch',\n",
       " 'part',\n",
       " '2',\n",
       " 'it',\n",
       " 'will',\n",
       " 'change',\n",
       " 'your',\n",
       " 'view',\n",
       " 'of',\n",
       " 'the',\n",
       " 'matrix',\n",
       " 'are',\n",
       " 'the',\n",
       " 'human',\n",
       " 'people',\n",
       " 'the',\n",
       " 'ones',\n",
       " 'who',\n",
       " 'started',\n",
       " 'the',\n",
       " 'war',\n",
       " 'is',\n",
       " 'ai',\n",
       " 'a',\n",
       " 'bad',\n",
       " 'thing']"
      ]
     },
     "execution_count": 16,
     "metadata": {},
     "output_type": "execute_result"
    }
   ],
   "source": [
    "words = text.split()\n",
    "words"
   ]
  },
  {
   "cell_type": "markdown",
   "id": "828176cd",
   "metadata": {},
   "source": [
    "### NLTK: Natural Language Toolkit"
   ]
  },
  {
   "cell_type": "code",
   "execution_count": 17,
   "id": "2ea277e2",
   "metadata": {},
   "outputs": [
    {
     "name": "stdout",
     "output_type": "stream",
     "text": [
      "Dr. Smith graduated from the University of Washington. He later started an analytics firm called Lux, which catered to enterprise customers.\n"
     ]
    }
   ],
   "source": [
    "\n",
    "# Another sample text\n",
    "text = \"Dr. Smith graduated from the University of Washington. He later started an analytics firm called Lux, which catered to enterprise customers.\"\n",
    "print(text)"
   ]
  },
  {
   "cell_type": "code",
   "execution_count": 18,
   "id": "06f35754",
   "metadata": {},
   "outputs": [
    {
     "data": {
      "text/plain": [
       "['Dr.',\n",
       " 'Smith',\n",
       " 'graduated',\n",
       " 'from',\n",
       " 'the',\n",
       " 'University',\n",
       " 'of',\n",
       " 'Washington',\n",
       " '.',\n",
       " 'He',\n",
       " 'later',\n",
       " 'started',\n",
       " 'an',\n",
       " 'analytics',\n",
       " 'firm',\n",
       " 'called',\n",
       " 'Lux',\n",
       " ',',\n",
       " 'which',\n",
       " 'catered',\n",
       " 'to',\n",
       " 'enterprise',\n",
       " 'customers',\n",
       " '.']"
      ]
     },
     "execution_count": 18,
     "metadata": {},
     "output_type": "execute_result"
    }
   ],
   "source": [
    "from nltk.tokenize import word_tokenize\n",
    "\n",
    "word_tokenize(text)"
   ]
  },
  {
   "cell_type": "code",
   "execution_count": 19,
   "id": "98645866",
   "metadata": {},
   "outputs": [
    {
     "name": "stdout",
     "output_type": "stream",
     "text": [
      "['Dr. Smith graduated from the University of Washington.', 'He later started an analytics firm called Lux, which catered to enterprise customers.']\n"
     ]
    }
   ],
   "source": [
    "from nltk.tokenize import sent_tokenize\n",
    "\n",
    "# Split text into sentences\n",
    "sentences = sent_tokenize(text)\n",
    "print(sentences)"
   ]
  },
  {
   "cell_type": "code",
   "execution_count": 20,
   "id": "a99e9a9b",
   "metadata": {},
   "outputs": [
    {
     "name": "stdout",
     "output_type": "stream",
     "text": [
      "['the', 'first', 'time', 'you', 'see', 'the', 'second', 'renaissance', 'it', 'may', 'look', 'boring', 'look', 'at', 'it', 'at', 'least', 'twice', 'and', 'definitely', 'watch', 'part', '2', 'it', 'will', 'change', 'your', 'view', 'of', 'the', 'matrix', 'are', 'the', 'human', 'people', 'the', 'ones', 'who', 'started', 'the', 'war', 'is', 'ai', 'a', 'bad', 'thing']\n"
     ]
    }
   ],
   "source": [
    "# Reset text\n",
    "text = \"The first time you see The Second Renaissance it may look boring. Look at it at least twice and definitely watch part 2. It will change your view of the matrix. Are the human people the ones who started the war ? Is AI a bad thing ?\"\n",
    "\n",
    "# Normalize it\n",
    "text = re.sub(r\"[^a-zA-Z0-9]\", \" \", text.lower())\n",
    "\n",
    "# Tokenize it\n",
    "words = text.split()\n",
    "print(words)"
   ]
  },
  {
   "cell_type": "code",
   "execution_count": 21,
   "id": "bddd7128",
   "metadata": {},
   "outputs": [
    {
     "data": {
      "text/plain": [
       "['first',\n",
       " 'time',\n",
       " 'see',\n",
       " 'second',\n",
       " 'renaissance',\n",
       " 'may',\n",
       " 'look',\n",
       " 'boring',\n",
       " 'look',\n",
       " 'least',\n",
       " 'twice',\n",
       " 'definitely',\n",
       " 'watch',\n",
       " 'part',\n",
       " '2',\n",
       " 'change',\n",
       " 'view',\n",
       " 'matrix',\n",
       " 'human',\n",
       " 'people',\n",
       " 'ones',\n",
       " 'started',\n",
       " 'war',\n",
       " 'ai',\n",
       " 'bad',\n",
       " 'thing']"
      ]
     },
     "execution_count": 21,
     "metadata": {},
     "output_type": "execute_result"
    }
   ],
   "source": [
    "from nltk.corpus import stopwords\n",
    "\n",
    "# Remove stopwords\n",
    "words = [word for word in words if word not in stopwords.words('english')]\n",
    "words"
   ]
  },
  {
   "cell_type": "markdown",
   "id": "b289dbe5",
   "metadata": {},
   "source": [
    "### Sentencec Parsing"
   ]
  },
  {
   "cell_type": "code",
   "execution_count": 23,
   "id": "41690726",
   "metadata": {},
   "outputs": [
    {
     "name": "stdout",
     "output_type": "stream",
     "text": [
      "(S\n",
      "  (NP I)\n",
      "  (VP\n",
      "    (VP (V shot) (NP (Det an) (N elephant)))\n",
      "    (PP (P in) (NP (Det my) (N pajamas)))))\n",
      "(S\n",
      "  (NP I)\n",
      "  (VP\n",
      "    (V shot)\n",
      "    (NP (Det an) (N elephant) (PP (P in) (NP (Det my) (N pajamas))))))\n"
     ]
    }
   ],
   "source": [
    "import nltk\n",
    "\n",
    "# Define a custom grammar\n",
    "my_grammar = nltk.CFG.fromstring(\"\"\"\n",
    "S -> NP VP\n",
    "PP -> P NP\n",
    "NP -> Det N | Det N PP | 'I'\n",
    "VP -> V NP | VP PP\n",
    "Det -> 'an' | 'my'\n",
    "N -> 'elephant' | 'pajamas'\n",
    "V -> 'shot'\n",
    "P -> 'in'\n",
    "\"\"\")\n",
    "parser = nltk.ChartParser(my_grammar)\n",
    "# Parse a sentence\n",
    "sentence = word_tokenize(\"I shot an elephant in my pajamas\")\n",
    "for tree in parser.parse(sentence):\n",
    "    print(tree)"
   ]
  },
  {
   "cell_type": "markdown",
   "id": "0e515d14",
   "metadata": {},
   "source": [
    "### Stemming and Lemmatization"
   ]
  },
  {
   "cell_type": "markdown",
   "id": "0457f00d",
   "metadata": {},
   "source": [
    "#### Stemming"
   ]
  },
  {
   "cell_type": "code",
   "execution_count": 24,
   "id": "2dadf2f6",
   "metadata": {},
   "outputs": [
    {
     "data": {
      "text/plain": [
       "['first',\n",
       " 'time',\n",
       " 'see',\n",
       " 'second',\n",
       " 'renaiss',\n",
       " 'may',\n",
       " 'look',\n",
       " 'bore',\n",
       " 'look',\n",
       " 'least',\n",
       " 'twice',\n",
       " 'definit',\n",
       " 'watch',\n",
       " 'part',\n",
       " '2',\n",
       " 'chang',\n",
       " 'view',\n",
       " 'matrix',\n",
       " 'human',\n",
       " 'peopl',\n",
       " 'one',\n",
       " 'start',\n",
       " 'war',\n",
       " 'ai',\n",
       " 'bad',\n",
       " 'thing']"
      ]
     },
     "execution_count": 24,
     "metadata": {},
     "output_type": "execute_result"
    }
   ],
   "source": [
    "from nltk.stem import PorterStemmer\n",
    "\n",
    "stemmer = PorterStemmer()\n",
    "stemmed = [stemmer.stem(w) for w in words]\n",
    "stemmed"
   ]
  },
  {
   "cell_type": "markdown",
   "id": "86713bd0",
   "metadata": {},
   "source": [
    "#### Lemmatization"
   ]
  },
  {
   "cell_type": "code",
   "execution_count": 25,
   "id": "aad56f95",
   "metadata": {},
   "outputs": [
    {
     "name": "stdout",
     "output_type": "stream",
     "text": [
      "['first', 'time', 'see', 'second', 'renaissance', 'may', 'look', 'boring', 'look', 'least', 'twice', 'definitely', 'watch', 'part', '2', 'change', 'view', 'matrix', 'human', 'people', 'one', 'started', 'war', 'ai', 'bad', 'thing']\n"
     ]
    }
   ],
   "source": [
    "from nltk.stem.wordnet import WordNetLemmatizer\n",
    "\n",
    "lemmed = [WordNetLemmatizer().lemmatize(w) for w in words]\n",
    "print(lemmed)"
   ]
  },
  {
   "cell_type": "code",
   "execution_count": 27,
   "id": "adf26952",
   "metadata": {},
   "outputs": [
    {
     "name": "stdout",
     "output_type": "stream",
     "text": [
      "['first', 'time', 'see', 'second', 'renaissance', 'may', 'look', 'bore', 'look', 'least', 'twice', 'definitely', 'watch', 'part', '2', 'change', 'view', 'matrix', 'human', 'people', 'ones', 'start', 'war', 'ai', 'bad', 'thing']\n"
     ]
    }
   ],
   "source": [
    "lemmed = [WordNetLemmatizer().lemmatize(w, pos='v') for w in words]\n",
    "print(lemmed)"
   ]
  }
 ],
 "metadata": {
  "kernelspec": {
   "display_name": "Python 3",
   "language": "python",
   "name": "python3"
  },
  "language_info": {
   "codemirror_mode": {
    "name": "ipython",
    "version": 3
   },
   "file_extension": ".py",
   "mimetype": "text/x-python",
   "name": "python",
   "nbconvert_exporter": "python",
   "pygments_lexer": "ipython3",
   "version": "3.7.10"
  }
 },
 "nbformat": 4,
 "nbformat_minor": 5
}
