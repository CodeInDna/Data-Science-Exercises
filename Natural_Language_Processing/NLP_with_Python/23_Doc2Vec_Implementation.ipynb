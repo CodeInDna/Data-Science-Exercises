{
 "cells": [
  {
   "cell_type": "markdown",
   "id": "91046441",
   "metadata": {},
   "source": [
    "## doc2vec: How to Implement doc2vec\n",
    "\n",
    "### Train Our Own Model"
   ]
  },
  {
   "cell_type": "code",
   "execution_count": 1,
   "id": "b3db4d4f",
   "metadata": {},
   "outputs": [],
   "source": [
    "# Read in the data, clean it, split it into train and test sets.\n",
    "import gensim\n",
    "import pandas as pd\n",
    "import numpy as np\n",
    "\n",
    "from sklearn.model_selection import train_test_split\n",
    "pd.set_option('display.max_colwidth', 100)\n",
    "\n",
    "messages = pd.read_csv('data/spam.csv', encoding='latin-1').drop(['Unnamed: 2', 'Unnamed: 3', 'Unnamed: 4'], axis=1)\n",
    "messages.columns = ['label', 'text']\n",
    "\n",
    "messages['text_clean'] = messages['text'].apply(lambda x: gensim.utils.simple_preprocess(x))\n",
    "\n",
    "X_train, X_test, y_train, y_test = train_test_split(messages['text_clean'], messages['label'], test_size=0.2)"
   ]
  },
  {
   "cell_type": "code",
   "execution_count": 3,
   "id": "1ee30823",
   "metadata": {},
   "outputs": [],
   "source": [
    "# Create tagged document objects to prepare to train the model\n",
    "tagged_docs = [gensim.models.doc2vec.TaggedDocument(v, [i]) for i, v in enumerate(X_train)]"
   ]
  },
  {
   "cell_type": "code",
   "execution_count": 4,
   "id": "b170a7c3",
   "metadata": {},
   "outputs": [
    {
     "data": {
      "text/plain": [
       "TaggedDocument(words=['dont', 'make', 'ne', 'plans', 'for', 'nxt', 'wknd', 'coz', 'she', 'wants', 'us', 'to', 'come', 'down', 'then', 'ok'], tags=[0])"
      ]
     },
     "execution_count": 4,
     "metadata": {},
     "output_type": "execute_result"
    }
   ],
   "source": [
    "# Look at what a tagged document looks like\n",
    "tagged_docs[0]"
   ]
  },
  {
   "cell_type": "code",
   "execution_count": 5,
   "id": "264247aa",
   "metadata": {},
   "outputs": [],
   "source": [
    "# Train a basic doc2vec model\n",
    "d2v_model = gensim.models.Doc2Vec(tagged_docs,\n",
    "                                 vector_size=100,\n",
    "                                 window=5,\n",
    "                                 min_count=2)"
   ]
  },
  {
   "cell_type": "code",
   "execution_count": 6,
   "id": "12eb09ab",
   "metadata": {},
   "outputs": [
    {
     "ename": "TypeError",
     "evalue": "Parameter doc_words of infer_vector() must be a list of strings (not a single string).",
     "output_type": "error",
     "traceback": [
      "\u001b[1;31m---------------------------------------------------------------------------\u001b[0m",
      "\u001b[1;31mTypeError\u001b[0m                                 Traceback (most recent call last)",
      "\u001b[1;32m<ipython-input-6-81bc935a6094>\u001b[0m in \u001b[0;36m<module>\u001b[1;34m\u001b[0m\n\u001b[0;32m      1\u001b[0m \u001b[1;31m# What happens if we pass in a single word like we did for word2vec?\u001b[0m\u001b[1;33m\u001b[0m\u001b[1;33m\u001b[0m\u001b[1;33m\u001b[0m\u001b[0m\n\u001b[1;32m----> 2\u001b[1;33m \u001b[0md2v_model\u001b[0m\u001b[1;33m.\u001b[0m\u001b[0minfer_vector\u001b[0m\u001b[1;33m(\u001b[0m\u001b[1;34m'text'\u001b[0m\u001b[1;33m)\u001b[0m\u001b[1;33m\u001b[0m\u001b[1;33m\u001b[0m\u001b[0m\n\u001b[0m",
      "\u001b[1;32m~\\Anaconda3\\lib\\site-packages\\gensim\\models\\doc2vec.py\u001b[0m in \u001b[0;36minfer_vector\u001b[1;34m(self, doc_words, alpha, min_alpha, epochs, steps)\u001b[0m\n\u001b[0;32m    660\u001b[0m         \"\"\"\n\u001b[0;32m    661\u001b[0m         \u001b[1;32mif\u001b[0m \u001b[0misinstance\u001b[0m\u001b[1;33m(\u001b[0m\u001b[0mdoc_words\u001b[0m\u001b[1;33m,\u001b[0m \u001b[0mstring_types\u001b[0m\u001b[1;33m)\u001b[0m\u001b[1;33m:\u001b[0m\u001b[1;33m\u001b[0m\u001b[1;33m\u001b[0m\u001b[0m\n\u001b[1;32m--> 662\u001b[1;33m             \u001b[1;32mraise\u001b[0m \u001b[0mTypeError\u001b[0m\u001b[1;33m(\u001b[0m\u001b[1;34m\"Parameter doc_words of infer_vector() must be a list of strings (not a single string).\"\u001b[0m\u001b[1;33m)\u001b[0m\u001b[1;33m\u001b[0m\u001b[1;33m\u001b[0m\u001b[0m\n\u001b[0m\u001b[0;32m    663\u001b[0m \u001b[1;33m\u001b[0m\u001b[0m\n\u001b[0;32m    664\u001b[0m         \u001b[0malpha\u001b[0m \u001b[1;33m=\u001b[0m \u001b[0malpha\u001b[0m \u001b[1;32mor\u001b[0m \u001b[0mself\u001b[0m\u001b[1;33m.\u001b[0m\u001b[0malpha\u001b[0m\u001b[1;33m\u001b[0m\u001b[1;33m\u001b[0m\u001b[0m\n",
      "\u001b[1;31mTypeError\u001b[0m: Parameter doc_words of infer_vector() must be a list of strings (not a single string)."
     ]
    }
   ],
   "source": [
    "# What happens if we pass in a single word like we did for word2vec?\n",
    "d2v_model.infer_vector('text')"
   ]
  },
  {
   "cell_type": "code",
   "execution_count": 7,
   "id": "019f864a",
   "metadata": {},
   "outputs": [
    {
     "data": {
      "text/plain": [
       "array([-7.16968905e-04, -4.41293418e-03, -4.79495805e-03, -3.08861537e-03,\n",
       "        1.51488204e-02, -2.31668795e-03, -3.79394367e-03, -2.18230463e-03,\n",
       "       -4.92574787e-03,  3.93426605e-03, -4.06323047e-03,  9.50545131e-04,\n",
       "       -3.20752594e-03,  1.67644786e-04, -4.03973646e-03,  4.43230802e-03,\n",
       "       -5.48151927e-03,  3.05316644e-03,  5.72893827e-04,  5.48121287e-03,\n",
       "       -7.36276293e-03,  1.63312914e-04,  3.76269408e-03,  1.45297346e-03,\n",
       "       -2.65672267e-03, -9.96853632e-05,  2.35169264e-03, -1.34399179e-02,\n",
       "       -1.28155947e-02,  6.66901469e-03, -5.75580355e-03, -1.34783620e-02,\n",
       "       -3.76020907e-03, -1.43665560e-02,  8.56505800e-03, -4.93677508e-04,\n",
       "        3.30523908e-04, -1.20870266e-02, -1.04676895e-02, -1.96060236e-03,\n",
       "        1.51292747e-03, -1.26621649e-02, -1.99436047e-03, -1.96347404e-02,\n",
       "       -1.69641012e-03, -7.86308292e-03,  3.50990682e-03,  1.76143888e-02,\n",
       "        7.00404076e-03,  8.64590611e-03, -9.88931861e-03, -2.12387438e-03,\n",
       "       -7.15942960e-03, -8.52098223e-03,  4.51975269e-03,  1.47990184e-02,\n",
       "       -2.80142436e-03,  3.88764497e-03, -4.64497483e-04,  9.65000782e-03,\n",
       "       -7.87210464e-03,  7.71886087e-04, -8.71059950e-03, -7.50363292e-03,\n",
       "        1.23389792e-02,  9.36646294e-03, -4.92244447e-03, -7.12840585e-04,\n",
       "       -9.51533392e-03,  5.06972428e-03, -2.30844598e-03,  8.45041219e-03,\n",
       "       -3.37956916e-03,  7.25470716e-04,  1.45767955e-03, -6.53608982e-03,\n",
       "        2.97689345e-03, -9.88468900e-03,  1.57261360e-02,  4.61731572e-03,\n",
       "       -2.23142747e-03, -4.94196871e-03, -1.38894736e-03, -2.06268560e-02,\n",
       "       -4.25521331e-03,  3.42781562e-03,  9.45500284e-03,  4.27456200e-03,\n",
       "        4.59880056e-03,  9.83576104e-03, -3.23617226e-03,  4.68213763e-03,\n",
       "       -9.26067354e-04, -4.82454058e-03,  2.55729142e-03, -1.07272426e-02,\n",
       "       -4.22026590e-03,  9.45987063e-04, -2.70987814e-03,  7.31193461e-03],\n",
       "      dtype=float32)"
      ]
     },
     "execution_count": 7,
     "metadata": {},
     "output_type": "execute_result"
    }
   ],
   "source": [
    "# What happens if we pass in a list of words?\n",
    "d2v_model.infer_vector([\"I\", \"am\", \"learning\", \"nlp\"])"
   ]
  },
  {
   "cell_type": "markdown",
   "id": "de6a6151",
   "metadata": {},
   "source": [
    "### What About Pre-trained Document Vectors?\n",
    "\n",
    "There are not as many options as there are for word vectors. There also is not an easy API to read these in like there is for `word2vec` so it is more time consuming.\n",
    "\n",
    "Pre-trained vectors from training on Wikipedia and Associated Press News can be found [here](https://github.com/jhlau/doc2vec). Feel free to explore on your own!"
   ]
  }
 ],
 "metadata": {
  "kernelspec": {
   "display_name": "Python 3",
   "language": "python",
   "name": "python3"
  },
  "language_info": {
   "codemirror_mode": {
    "name": "ipython",
    "version": 3
   },
   "file_extension": ".py",
   "mimetype": "text/x-python",
   "name": "python",
   "nbconvert_exporter": "python",
   "pygments_lexer": "ipython3",
   "version": "3.7.10"
  }
 },
 "nbformat": 4,
 "nbformat_minor": 5
}
