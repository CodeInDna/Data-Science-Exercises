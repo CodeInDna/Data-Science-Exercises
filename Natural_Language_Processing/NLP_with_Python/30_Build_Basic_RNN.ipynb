{
 "cells": [
  {
   "cell_type": "markdown",
   "id": "7dc14505",
   "metadata": {},
   "source": [
    "## Compare NLP Techniques: Build A Basic RNN\n",
    "\n",
    "### Read In Cleaned Text"
   ]
  },
  {
   "cell_type": "code",
   "execution_count": 1,
   "id": "0d5065c1",
   "metadata": {},
   "outputs": [
    {
     "data": {
      "text/html": [
       "<div>\n",
       "<style scoped>\n",
       "    .dataframe tbody tr th:only-of-type {\n",
       "        vertical-align: middle;\n",
       "    }\n",
       "\n",
       "    .dataframe tbody tr th {\n",
       "        vertical-align: top;\n",
       "    }\n",
       "\n",
       "    .dataframe thead th {\n",
       "        text-align: right;\n",
       "    }\n",
       "</style>\n",
       "<table border=\"1\" class=\"dataframe\">\n",
       "  <thead>\n",
       "    <tr style=\"text-align: right;\">\n",
       "      <th></th>\n",
       "      <th>clean_text</th>\n",
       "    </tr>\n",
       "  </thead>\n",
       "  <tbody>\n",
       "    <tr>\n",
       "      <th>0</th>\n",
       "      <td>['living', 'simple', 'loving', 'also', 'simple...</td>\n",
       "    </tr>\n",
       "    <tr>\n",
       "      <th>1</th>\n",
       "      <td>['already', 'squatting', 'new', 'way', 'walking']</td>\n",
       "    </tr>\n",
       "    <tr>\n",
       "      <th>2</th>\n",
       "      <td>['sister', 'got', 'placed', 'birla', 'soft', '...</td>\n",
       "    </tr>\n",
       "    <tr>\n",
       "      <th>3</th>\n",
       "      <td>['lovely', 'smell', 'bus', 'aint', 'tobacco', '']</td>\n",
       "    </tr>\n",
       "    <tr>\n",
       "      <th>4</th>\n",
       "      <td>['yes', 'nigh', 'cant', 'aha']</td>\n",
       "    </tr>\n",
       "  </tbody>\n",
       "</table>\n",
       "</div>"
      ],
      "text/plain": [
       "                                          clean_text\n",
       "0  ['living', 'simple', 'loving', 'also', 'simple...\n",
       "1  ['already', 'squatting', 'new', 'way', 'walking']\n",
       "2  ['sister', 'got', 'placed', 'birla', 'soft', '...\n",
       "3  ['lovely', 'smell', 'bus', 'aint', 'tobacco', '']\n",
       "4                     ['yes', 'nigh', 'cant', 'aha']"
      ]
     },
     "execution_count": 1,
     "metadata": {},
     "output_type": "execute_result"
    }
   ],
   "source": [
    "# Load the cleaned training and testing set\n",
    "import pandas as pd\n",
    "\n",
    "from tensorflow.keras.preprocessing.text import Tokenizer\n",
    "from tensorflow.keras.preprocessing.sequence import pad_sequences\n",
    "\n",
    "X_train = pd.read_csv('data/X_train.csv')\n",
    "X_test = pd.read_csv('data/X_test.csv')\n",
    "y_train = pd.read_csv('data/y_train.csv')\n",
    "y_test = pd.read_csv('data/y_test.csv')\n",
    "\n",
    "X_train.head()"
   ]
  },
  {
   "cell_type": "markdown",
   "id": "185293f8",
   "metadata": {},
   "source": [
    "### Prep Data"
   ]
  },
  {
   "cell_type": "code",
   "execution_count": 3,
   "id": "dfd63e37",
   "metadata": {},
   "outputs": [],
   "source": [
    "# Train the tokenizer and use that tokenizer to convert the sentence to sequences of numbers\n",
    "tokenizer = Tokenizer()\n",
    "tokenizer.fit_on_texts(X_train['clean_text'])\n",
    "\n",
    "X_train_seq = tokenizer.texts_to_sequences(X_train['clean_text'])\n",
    "X_test_seq = tokenizer.texts_to_sequences(X_test['clean_text'])"
   ]
  },
  {
   "cell_type": "code",
   "execution_count": 7,
   "id": "b029e9a4",
   "metadata": {},
   "outputs": [],
   "source": [
    "# Pad the sequences so each sequence is the same length\n",
    "X_train_seq_pad = pad_sequences(X_train_seq, 50)\n",
    "X_test_seq_pad = pad_sequences(X_test_seq, 50)"
   ]
  },
  {
   "cell_type": "markdown",
   "id": "07866054",
   "metadata": {},
   "source": [
    "### Build and Evaluate RNN"
   ]
  },
  {
   "cell_type": "code",
   "execution_count": 8,
   "id": "b91cab19",
   "metadata": {},
   "outputs": [],
   "source": [
    "# Import the tools needed from keras and define functions to calculate recall and precision\n",
    "import tensorflow.keras.backend as K\n",
    "from tensorflow.keras.layers import Dense, Embedding, LSTM\n",
    "from tensorflow.keras.models import Sequential\n",
    "\n",
    "def recall_m(y_test, y_pred):\n",
    "    tp = K.sum(K.round(K.clip(y_pred*y_test, 0, 1)))\n",
    "    possible_pos = K.sum(K.round(K.clip(y_test, 0, 1)))\n",
    "    recall = tp / (possible_pos + K.epsilon())\n",
    "    return recall\n",
    "\n",
    "def precision_m(y_test, y_pred):\n",
    "    tp = K.sum(K.round(K.clip(y_pred*y_test, 0, 1)))\n",
    "    predicted_pos = K.sum(K.round(K.clip(y_pred, 0, 1)))\n",
    "    precision = tp / (predicted_pos + K.epsilon())\n",
    "    return precision"
   ]
  },
  {
   "cell_type": "code",
   "execution_count": 9,
   "id": "413e98d0",
   "metadata": {},
   "outputs": [
    {
     "name": "stdout",
     "output_type": "stream",
     "text": [
      "Model: \"sequential\"\n",
      "_________________________________________________________________\n",
      "Layer (type)                 Output Shape              Param #   \n",
      "=================================================================\n",
      "embedding (Embedding)        (None, None, 32)          265536    \n",
      "_________________________________________________________________\n",
      "lstm (LSTM)                  (None, 32)                8320      \n",
      "_________________________________________________________________\n",
      "dense (Dense)                (None, 32)                1056      \n",
      "_________________________________________________________________\n",
      "dense_1 (Dense)              (None, 1)                 33        \n",
      "=================================================================\n",
      "Total params: 274,945\n",
      "Trainable params: 274,945\n",
      "Non-trainable params: 0\n",
      "_________________________________________________________________\n"
     ]
    }
   ],
   "source": [
    "# Construct a simple RNN model\n",
    "model = Sequential()\n",
    "model.add(Embedding(len(tokenizer.index_word)+1, 32))\n",
    "model.add(LSTM(32, dropout=0, recurrent_dropout=0))\n",
    "model.add(Dense(32, activation='relu'))\n",
    "model.add(Dense(1, activation='sigmoid'))\n",
    "model.summary()"
   ]
  },
  {
   "cell_type": "code",
   "execution_count": 10,
   "id": "696a92fd",
   "metadata": {},
   "outputs": [],
   "source": [
    "model.compile(optimizer='adam',\n",
    "             loss='binary_crossentropy',\n",
    "             metrics=['accuracy', recall_m, precision_m])"
   ]
  },
  {
   "cell_type": "code",
   "execution_count": 11,
   "id": "6cc2cfa6",
   "metadata": {},
   "outputs": [
    {
     "name": "stdout",
     "output_type": "stream",
     "text": [
      "Epoch 1/10\n",
      "140/140 [==============================] - 4s 27ms/step - loss: 0.2915 - accuracy: 0.9076 - recall_m: 0.3369 - precision_m: 0.4273 - val_loss: 0.0697 - val_accuracy: 0.9830 - val_recall_m: 0.8793 - val_precision_m: 0.9569\n",
      "Epoch 2/10\n",
      "140/140 [==============================] - 4s 26ms/step - loss: 0.0387 - accuracy: 0.9890 - recall_m: 0.9293 - precision_m: 0.9646 - val_loss: 0.0680 - val_accuracy: 0.9839 - val_recall_m: 0.8800 - val_precision_m: 0.9714\n",
      "Epoch 3/10\n",
      "140/140 [==============================] - 3s 25ms/step - loss: 0.0127 - accuracy: 0.9969 - recall_m: 0.9755 - precision_m: 0.9868 - val_loss: 0.0804 - val_accuracy: 0.9830 - val_recall_m: 0.8759 - val_precision_m: 0.9714\n",
      "Epoch 4/10\n",
      "140/140 [==============================] - 3s 23ms/step - loss: 0.0051 - accuracy: 0.9991 - recall_m: 0.9864 - precision_m: 0.9914 - val_loss: 0.0742 - val_accuracy: 0.9857 - val_recall_m: 0.8935 - val_precision_m: 0.9714\n",
      "Epoch 5/10\n",
      "140/140 [==============================] - 3s 22ms/step - loss: 0.0017 - accuracy: 0.9996 - recall_m: 0.9887 - precision_m: 0.9929 - val_loss: 0.0624 - val_accuracy: 0.9865 - val_recall_m: 0.9184 - val_precision_m: 0.9371\n",
      "Epoch 6/10\n",
      "140/140 [==============================] - 3s 24ms/step - loss: 5.5081e-04 - accuracy: 1.0000 - recall_m: 0.9786 - precision_m: 0.9786 - val_loss: 0.0765 - val_accuracy: 0.9839 - val_recall_m: 0.8983 - val_precision_m: 0.9429\n",
      "Epoch 7/10\n",
      "140/140 [==============================] - 3s 22ms/step - loss: 2.0779e-04 - accuracy: 1.0000 - recall_m: 0.9714 - precision_m: 0.9714 - val_loss: 0.0840 - val_accuracy: 0.9848 - val_recall_m: 0.8983 - val_precision_m: 0.9500\n",
      "Epoch 8/10\n",
      "140/140 [==============================] - 3s 25ms/step - loss: 1.3139e-04 - accuracy: 1.0000 - recall_m: 1.0000 - precision_m: 1.0000 - val_loss: 0.0843 - val_accuracy: 0.9839 - val_recall_m: 0.8983 - val_precision_m: 0.9429\n",
      "Epoch 9/10\n",
      "140/140 [==============================] - 3s 24ms/step - loss: 9.2099e-05 - accuracy: 1.0000 - recall_m: 0.9929 - precision_m: 0.9929 - val_loss: 0.0873 - val_accuracy: 0.9839 - val_recall_m: 0.8983 - val_precision_m: 0.9429\n",
      "Epoch 10/10\n",
      "140/140 [==============================] - 3s 23ms/step - loss: 6.8210e-05 - accuracy: 1.0000 - recall_m: 0.9929 - precision_m: 0.9929 - val_loss: 0.0906 - val_accuracy: 0.9839 - val_recall_m: 0.8983 - val_precision_m: 0.9429\n"
     ]
    }
   ],
   "source": [
    "# Fit the RNN model\n",
    "history = model.fit(X_train_seq_pad, y_train['label'],\n",
    "                   batch_size=32, epochs=10,\n",
    "                   validation_data=(X_test_seq_pad, y_test))"
   ]
  },
  {
   "cell_type": "code",
   "execution_count": 12,
   "id": "c9d61b56",
   "metadata": {},
   "outputs": [
    {
     "data": {
      "text/html": [
       "<div>\n",
       "<style scoped>\n",
       "    .dataframe tbody tr th:only-of-type {\n",
       "        vertical-align: middle;\n",
       "    }\n",
       "\n",
       "    .dataframe tbody tr th {\n",
       "        vertical-align: top;\n",
       "    }\n",
       "\n",
       "    .dataframe thead th {\n",
       "        text-align: right;\n",
       "    }\n",
       "</style>\n",
       "<table border=\"1\" class=\"dataframe\">\n",
       "  <thead>\n",
       "    <tr style=\"text-align: right;\">\n",
       "      <th></th>\n",
       "      <th>loss</th>\n",
       "      <th>accuracy</th>\n",
       "      <th>recall_m</th>\n",
       "      <th>precision_m</th>\n",
       "      <th>val_loss</th>\n",
       "      <th>val_accuracy</th>\n",
       "      <th>val_recall_m</th>\n",
       "      <th>val_precision_m</th>\n",
       "    </tr>\n",
       "  </thead>\n",
       "  <tbody>\n",
       "    <tr>\n",
       "      <th>0</th>\n",
       "      <td>0.291522</td>\n",
       "      <td>0.907561</td>\n",
       "      <td>0.336947</td>\n",
       "      <td>0.427313</td>\n",
       "      <td>0.069695</td>\n",
       "      <td>0.982960</td>\n",
       "      <td>0.879342</td>\n",
       "      <td>0.956871</td>\n",
       "    </tr>\n",
       "    <tr>\n",
       "      <th>1</th>\n",
       "      <td>0.038748</td>\n",
       "      <td>0.989006</td>\n",
       "      <td>0.929300</td>\n",
       "      <td>0.964566</td>\n",
       "      <td>0.067980</td>\n",
       "      <td>0.983856</td>\n",
       "      <td>0.879977</td>\n",
       "      <td>0.971429</td>\n",
       "    </tr>\n",
       "    <tr>\n",
       "      <th>2</th>\n",
       "      <td>0.012748</td>\n",
       "      <td>0.996859</td>\n",
       "      <td>0.975521</td>\n",
       "      <td>0.986837</td>\n",
       "      <td>0.080360</td>\n",
       "      <td>0.982960</td>\n",
       "      <td>0.875896</td>\n",
       "      <td>0.971429</td>\n",
       "    </tr>\n",
       "    <tr>\n",
       "      <th>3</th>\n",
       "      <td>0.005077</td>\n",
       "      <td>0.999103</td>\n",
       "      <td>0.986429</td>\n",
       "      <td>0.991429</td>\n",
       "      <td>0.074197</td>\n",
       "      <td>0.985650</td>\n",
       "      <td>0.893515</td>\n",
       "      <td>0.971429</td>\n",
       "    </tr>\n",
       "    <tr>\n",
       "      <th>4</th>\n",
       "      <td>0.001657</td>\n",
       "      <td>0.999551</td>\n",
       "      <td>0.988690</td>\n",
       "      <td>0.992857</td>\n",
       "      <td>0.062447</td>\n",
       "      <td>0.986547</td>\n",
       "      <td>0.918390</td>\n",
       "      <td>0.937143</td>\n",
       "    </tr>\n",
       "    <tr>\n",
       "      <th>5</th>\n",
       "      <td>0.000551</td>\n",
       "      <td>1.000000</td>\n",
       "      <td>0.978571</td>\n",
       "      <td>0.978571</td>\n",
       "      <td>0.076483</td>\n",
       "      <td>0.983856</td>\n",
       "      <td>0.898277</td>\n",
       "      <td>0.942857</td>\n",
       "    </tr>\n",
       "    <tr>\n",
       "      <th>6</th>\n",
       "      <td>0.000208</td>\n",
       "      <td>1.000000</td>\n",
       "      <td>0.971429</td>\n",
       "      <td>0.971429</td>\n",
       "      <td>0.083969</td>\n",
       "      <td>0.984753</td>\n",
       "      <td>0.898277</td>\n",
       "      <td>0.950000</td>\n",
       "    </tr>\n",
       "    <tr>\n",
       "      <th>7</th>\n",
       "      <td>0.000131</td>\n",
       "      <td>1.000000</td>\n",
       "      <td>1.000000</td>\n",
       "      <td>1.000000</td>\n",
       "      <td>0.084282</td>\n",
       "      <td>0.983856</td>\n",
       "      <td>0.898277</td>\n",
       "      <td>0.942857</td>\n",
       "    </tr>\n",
       "    <tr>\n",
       "      <th>8</th>\n",
       "      <td>0.000092</td>\n",
       "      <td>1.000000</td>\n",
       "      <td>0.992857</td>\n",
       "      <td>0.992857</td>\n",
       "      <td>0.087275</td>\n",
       "      <td>0.983856</td>\n",
       "      <td>0.898277</td>\n",
       "      <td>0.942857</td>\n",
       "    </tr>\n",
       "    <tr>\n",
       "      <th>9</th>\n",
       "      <td>0.000068</td>\n",
       "      <td>1.000000</td>\n",
       "      <td>0.992857</td>\n",
       "      <td>0.992857</td>\n",
       "      <td>0.090578</td>\n",
       "      <td>0.983856</td>\n",
       "      <td>0.898277</td>\n",
       "      <td>0.942857</td>\n",
       "    </tr>\n",
       "  </tbody>\n",
       "</table>\n",
       "</div>"
      ],
      "text/plain": [
       "       loss  accuracy  recall_m  precision_m  val_loss  val_accuracy  val_recall_m  val_precision_m\n",
       "0  0.291522  0.907561  0.336947     0.427313  0.069695      0.982960      0.879342         0.956871\n",
       "1  0.038748  0.989006  0.929300     0.964566  0.067980      0.983856      0.879977         0.971429\n",
       "2  0.012748  0.996859  0.975521     0.986837  0.080360      0.982960      0.875896         0.971429\n",
       "3  0.005077  0.999103  0.986429     0.991429  0.074197      0.985650      0.893515         0.971429\n",
       "4  0.001657  0.999551  0.988690     0.992857  0.062447      0.986547      0.918390         0.937143\n",
       "5  0.000551  1.000000  0.978571     0.978571  0.076483      0.983856      0.898277         0.942857\n",
       "6  0.000208  1.000000  0.971429     0.971429  0.083969      0.984753      0.898277         0.950000\n",
       "7  0.000131  1.000000  1.000000     1.000000  0.084282      0.983856      0.898277         0.942857\n",
       "8  0.000092  1.000000  0.992857     0.992857  0.087275      0.983856      0.898277         0.942857\n",
       "9  0.000068  1.000000  0.992857     0.992857  0.090578      0.983856      0.898277         0.942857"
      ]
     },
     "execution_count": 12,
     "metadata": {},
     "output_type": "execute_result"
    }
   ],
   "source": [
    "pd.DataFrame(history.history)"
   ]
  },
  {
   "cell_type": "code",
   "execution_count": 13,
   "id": "7d4bad7e",
   "metadata": {},
   "outputs": [
    {
     "data": {
      "image/png": "[encoded data removed]",
      "text/plain": [
       "<Figure size 432x288 with 1 Axes>"
      ]
     },
     "metadata": {
      "needs_background": "light"
     },
     "output_type": "display_data"
    },
    {
     "data": {
      "image/png": "[encoded data removed]",
      "text/plain": [
       "<Figure size 432x288 with 1 Axes>"
      ]
     },
     "metadata": {
      "needs_background": "light"
     },
     "output_type": "display_data"
    },
    {
     "data": {
      "image/png": "[encoded data removed]",
      "text/plain": [
       "<Figure size 432x288 with 1 Axes>"
      ]
     },
     "metadata": {
      "needs_background": "light"
     },
     "output_type": "display_data"
    }
   ],
   "source": [
    "# Plot the evaluation metrics by each epuch for the model to see if we over or underfitting\n",
    "import matplotlib.pyplot as plt\n",
    "\n",
    "for i in ['accuracy', 'recall_m', 'precision_m']:\n",
    "    acc = history.history[i]\n",
    "    val_acc = history.history['val_{}'.format(i)]\n",
    "    epochs = range(1, len(acc) + 1)\n",
    "    \n",
    "    plt.figure()\n",
    "    plt.plot(epochs, acc, label='Training Metrics')\n",
    "    plt.plot(epochs, val_acc, label='Validation Metrics')\n",
    "    plt.title('Results for {}'.format(i))\n",
    "    plt.legend()\n",
    "    plt.show()"
   ]
  }
 ],
 "metadata": {
  "kernelspec": {
   "display_name": "Python 3",
   "language": "python",
   "name": "python3"
  },
  "language_info": {
   "codemirror_mode": {
    "name": "ipython",
    "version": 3
   },
   "file_extension": ".py",
   "mimetype": "text/x-python",
   "name": "python",
   "nbconvert_exporter": "python",
   "pygments_lexer": "ipython3",
   "version": "3.7.10"
  }
 },
 "nbformat": 4,
 "nbformat_minor": 5
}
