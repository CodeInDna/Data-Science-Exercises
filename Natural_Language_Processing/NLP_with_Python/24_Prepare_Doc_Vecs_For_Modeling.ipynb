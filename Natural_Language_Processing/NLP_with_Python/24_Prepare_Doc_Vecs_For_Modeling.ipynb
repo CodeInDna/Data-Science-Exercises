{
 "cells": [
  {
   "cell_type": "markdown",
   "id": "91046441",
   "metadata": {},
   "source": [
    "## doc2vec: How to Prep Document For Modeling doc2vec\n",
    "\n",
    "### Train Our Own Model"
   ]
  },
  {
   "cell_type": "code",
   "execution_count": 1,
   "id": "b3db4d4f",
   "metadata": {},
   "outputs": [],
   "source": [
    "# Read in the data, clean it, split it into train and test sets.\n",
    "import gensim\n",
    "import pandas as pd\n",
    "import numpy as np\n",
    "\n",
    "from sklearn.model_selection import train_test_split\n",
    "pd.set_option('display.max_colwidth', 100)\n",
    "\n",
    "messages = pd.read_csv('data/spam.csv', encoding='latin-1').drop(['Unnamed: 2', 'Unnamed: 3', 'Unnamed: 4'], axis=1)\n",
    "messages.columns = ['label', 'text']\n",
    "\n",
    "messages['text_clean'] = messages['text'].apply(lambda x: gensim.utils.simple_preprocess(x))\n",
    "\n",
    "X_train, X_test, y_train, y_test = train_test_split(messages['text_clean'], messages['label'], test_size=0.2)\n",
    "\n",
    "tagged_docs_tr = [gensim.models.doc2vec.TaggedDocument(v, [i]) for i, v in enumerate(X_train)]\n",
    "\n",
    "d2v_model = gensim.models.Doc2Vec(tagged_docs_tr,\n",
    "                                 vector_size=50,\n",
    "                                 window=2,\n",
    "                                 min_count=2)"
   ]
  },
  {
   "cell_type": "code",
   "execution_count": 2,
   "id": "381a936e",
   "metadata": {},
   "outputs": [
    {
     "data": {
      "text/plain": [
       "array([-5.73122641e-03,  1.43859172e-02, -1.40811531e-02, -8.43803957e-03,\n",
       "        1.79582462e-02,  4.54614824e-03, -1.43790297e-04, -1.02021964e-03,\n",
       "        1.06682023e-02, -1.16655882e-02, -9.12045129e-03, -7.50356121e-05,\n",
       "       -3.19606648e-03,  1.14250230e-02,  2.95215007e-03,  1.51713621e-02,\n",
       "        3.41262115e-04, -7.51750590e-03, -1.93667517e-03,  1.18139270e-03,\n",
       "       -1.83706302e-02, -7.53294816e-03, -1.62287261e-02,  2.76613282e-03,\n",
       "        2.10811626e-02,  4.72304830e-03, -8.29956215e-03, -1.27060022e-02,\n",
       "       -1.43967138e-03,  1.29637690e-02, -2.76168510e-02,  1.13167651e-02,\n",
       "       -5.04218088e-03,  7.58098625e-03,  2.29664147e-02, -1.23885684e-02,\n",
       "       -1.38826892e-02,  5.03455894e-03,  3.96737689e-03, -1.34116830e-02,\n",
       "        8.76819994e-03,  1.00760665e-02, -1.25317983e-02,  1.37089621e-02,\n",
       "        8.19831528e-03, -1.39884092e-02,  1.95728596e-02, -1.88002493e-02,\n",
       "       -9.02545918e-03, -9.96389519e-03], dtype=float32)"
      ]
     },
     "execution_count": 2,
     "metadata": {},
     "output_type": "execute_result"
    }
   ],
   "source": [
    "# What does a document vector look like again?\n",
    "d2v_model.infer_vector(['convert', 'words', 'to', 'vectors'])"
   ]
  },
  {
   "cell_type": "code",
   "execution_count": 3,
   "id": "9baef3b4",
   "metadata": {},
   "outputs": [],
   "source": [
    "# How do we prepare these vectors to be used in machine learning model?\n",
    "vectors = [[d2v_model.infer_vector(list_words)] for list_words in X_test]"
   ]
  },
  {
   "cell_type": "code",
   "execution_count": 4,
   "id": "b8e4d402",
   "metadata": {},
   "outputs": [
    {
     "data": {
      "text/plain": [
       "[array([ 0.00034715, -0.00702826, -0.00482328, -0.00593028,  0.00915696,\n",
       "         0.0037749 , -0.00251625, -0.00034653, -0.00163877,  0.00752553,\n",
       "        -0.01082869,  0.00570229, -0.00219703,  0.00498493,  0.00937187,\n",
       "         0.01475437,  0.00197576,  0.00586527, -0.00080783, -0.01118893,\n",
       "         0.00422563,  0.00440715, -0.0054168 , -0.00541414,  0.01120813,\n",
       "         0.00329021, -0.00354046, -0.00275561,  0.00251561,  0.00077012,\n",
       "        -0.01265276,  0.00738412, -0.0142009 ,  0.00221928,  0.00568987,\n",
       "         0.0024174 , -0.01016991,  0.01224245, -0.00734499, -0.00272033,\n",
       "         0.00908354,  0.00259679, -0.00814273, -0.00134299,  0.00425296,\n",
       "        -0.00184221,  0.0099165 ,  0.00215542,  0.00227143, -0.00336595],\n",
       "       dtype=float32)]"
      ]
     },
     "execution_count": 4,
     "metadata": {},
     "output_type": "execute_result"
    }
   ],
   "source": [
    "vectors[0]"
   ]
  }
 ],
 "metadata": {
  "kernelspec": {
   "display_name": "Python 3",
   "language": "python",
   "name": "python3"
  },
  "language_info": {
   "codemirror_mode": {
    "name": "ipython",
    "version": 3
   },
   "file_extension": ".py",
   "mimetype": "text/x-python",
   "name": "python",
   "nbconvert_exporter": "python",
   "pygments_lexer": "ipython3",
   "version": "3.7.10"
  }
 },
 "nbformat": 4,
 "nbformat_minor": 5
}
