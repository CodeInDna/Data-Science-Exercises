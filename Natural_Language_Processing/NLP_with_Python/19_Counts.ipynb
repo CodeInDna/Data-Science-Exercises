{
 "cells": [
  {
   "cell_type": "code",
   "execution_count": 2,
   "id": "85f202c8",
   "metadata": {},
   "outputs": [],
   "source": [
    "text = 'As I was waiting, a man came out of a side room, and at a glance I was sure he must be Long John. His left leg was cut off close by the hip, and under the left shoulder he carried a crutch, which he managed with wonderful dexterity, hopping about upon it like a bird. He was very tall and strong, with a face as big as a ham—plain and pale, but intelligent and smiling. Indeed, he seemed in the most cheerful spirits, whistling as he moved about among the tables, with a merry word or a slap on the shoulder for the more favoured of his guests.'"
   ]
  },
  {
   "cell_type": "code",
   "execution_count": 5,
   "id": "4450b5b2",
   "metadata": {},
   "outputs": [],
   "source": [
    "import re"
   ]
  },
  {
   "cell_type": "code",
   "execution_count": 22,
   "id": "ccde9e47",
   "metadata": {},
   "outputs": [],
   "source": [
    "def count_words(text):\n",
    "    counts = dict()\n",
    "    \n",
    "    text_lower = text.lower()\n",
    "    \n",
    "    text_tokens = re.findall(r'[a-z0-9]+', text_lower)\n",
    "    \n",
    "    unique_words = set(text_tokens)\n",
    "    \n",
    "    for word in unique_words:\n",
    "        counts[word] = text_tokens.count(word)\n",
    "    \n",
    "    return counts"
   ]
  },
  {
   "cell_type": "code",
   "execution_count": 23,
   "id": "c77d3949",
   "metadata": {},
   "outputs": [
    {
     "data": {
      "text/plain": [
       "{'for': 1,\n",
       " 'side': 1,\n",
       " 'like': 1,\n",
       " 'big': 1,\n",
       " 'pale': 1,\n",
       " 'waiting': 1,\n",
       " 'i': 2,\n",
       " 'at': 1,\n",
       " 'came': 1,\n",
       " 'out': 1,\n",
       " 'be': 1,\n",
       " 'john': 1,\n",
       " 'leg': 1,\n",
       " 'moved': 1,\n",
       " 'crutch': 1,\n",
       " 'seemed': 1,\n",
       " 'dexterity': 1,\n",
       " 'close': 1,\n",
       " 'indeed': 1,\n",
       " 'cut': 1,\n",
       " 'tables': 1,\n",
       " 'by': 1,\n",
       " 'ham': 1,\n",
       " 'whistling': 1,\n",
       " 'man': 1,\n",
       " 'under': 1,\n",
       " 'word': 1,\n",
       " 'managed': 1,\n",
       " 'tall': 1,\n",
       " 'in': 1,\n",
       " 'spirits': 1,\n",
       " 'the': 6,\n",
       " 'he': 6,\n",
       " 'face': 1,\n",
       " 'intelligent': 1,\n",
       " 'but': 1,\n",
       " 'room': 1,\n",
       " 'hopping': 1,\n",
       " 'bird': 1,\n",
       " 'left': 2,\n",
       " 'strong': 1,\n",
       " 'plain': 1,\n",
       " 'a': 9,\n",
       " 'smiling': 1,\n",
       " 'was': 4,\n",
       " 'glance': 1,\n",
       " 'carried': 1,\n",
       " 'upon': 1,\n",
       " 'it': 1,\n",
       " 'and': 5,\n",
       " 'hip': 1,\n",
       " 'shoulder': 2,\n",
       " 'long': 1,\n",
       " 'very': 1,\n",
       " 'among': 1,\n",
       " 'more': 1,\n",
       " 'wonderful': 1,\n",
       " 'with': 3,\n",
       " 'or': 1,\n",
       " 'must': 1,\n",
       " 'most': 1,\n",
       " 'slap': 1,\n",
       " 'on': 1,\n",
       " 'favoured': 1,\n",
       " 'of': 2,\n",
       " 'sure': 1,\n",
       " 'merry': 1,\n",
       " 'about': 2,\n",
       " 'as': 4,\n",
       " 'cheerful': 1,\n",
       " 'which': 1,\n",
       " 'his': 2,\n",
       " 'off': 1,\n",
       " 'guests': 1}"
      ]
     },
     "execution_count": 23,
     "metadata": {},
     "output_type": "execute_result"
    }
   ],
   "source": [
    "count_words(text)"
   ]
  },
  {
   "cell_type": "code",
   "execution_count": null,
   "id": "1e22d485",
   "metadata": {},
   "outputs": [],
   "source": []
  }
 ],
 "metadata": {
  "kernelspec": {
   "display_name": "Python 3",
   "language": "python",
   "name": "python3"
  },
  "language_info": {
   "codemirror_mode": {
    "name": "ipython",
    "version": 3
   },
   "file_extension": ".py",
   "mimetype": "text/x-python",
   "name": "python",
   "nbconvert_exporter": "python",
   "pygments_lexer": "ipython3",
   "version": "3.7.10"
  }
 },
 "nbformat": 4,
 "nbformat_minor": 5
}
