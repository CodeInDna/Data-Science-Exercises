{
 "cells": [
  {
   "cell_type": "markdown",
   "id": "a22d12bb",
   "metadata": {},
   "source": [
    "## RNNs: How to Implement A Basic RNN\n",
    "\n",
    "### Read In, Clean, And Split The Data"
   ]
  },
  {
   "cell_type": "code",
   "execution_count": 1,
   "id": "393e2d62",
   "metadata": {},
   "outputs": [],
   "source": [
    "# Read in data and split into training and test set\n",
    "# NOTE: we are NOT cleaning the data\n",
    "import numpy as np\n",
    "import pandas as pd\n",
    "\n",
    "from sklearn.model_selection import train_test_split\n",
    "pd.set_option('display.max_colwidth', 1000)\n",
    "\n",
    "messages = pd.read_csv('data/spam.csv', encoding='latin-1').drop(['Unnamed: 2', 'Unnamed: 3', 'Unnamed: 4'], axis=1)\n",
    "messages.columns = ['label', 'text']\n",
    "\n",
    "labels = np.where(messages['label']=='spam', 1, 0)\n",
    "\n",
    "X_train, X_test, y_train, y_test = train_test_split(messages['text'], labels, test_size=0.2)"
   ]
  },
  {
   "cell_type": "markdown",
   "id": "a94c8eed",
   "metadata": {},
   "source": [
    "### Prep Data For Modeling"
   ]
  },
  {
   "cell_type": "code",
   "execution_count": 2,
   "id": "3883569b",
   "metadata": {},
   "outputs": [],
   "source": [
    "from tensorflow.keras.preprocessing.text import Tokenizer\n",
    "from tensorflow.keras.preprocessing.sequence import pad_sequences"
   ]
  },
  {
   "cell_type": "code",
   "execution_count": 3,
   "id": "ce29a413",
   "metadata": {},
   "outputs": [],
   "source": [
    "## Initialize and fit the tokenizer\n",
    "tokenizer = Tokenizer()\n",
    "tokenizer.fit_on_texts(X_train)"
   ]
  },
  {
   "cell_type": "code",
   "execution_count": 4,
   "id": "39473860",
   "metadata": {},
   "outputs": [],
   "source": [
    "# USe that tokenizer to transform the text messages in the training and testing set\n",
    "X_train_seq = tokenizer.texts_to_sequences(X_train)\n",
    "X_test_seq = tokenizer.texts_to_sequences(X_test)"
   ]
  },
  {
   "cell_type": "code",
   "execution_count": 5,
   "id": "ea1f55bc",
   "metadata": {},
   "outputs": [
    {
     "data": {
      "text/plain": [
       "[1, 60, 81, 178, 125, 44, 60, 52, 863, 647, 36, 753]"
      ]
     },
     "execution_count": 5,
     "metadata": {},
     "output_type": "execute_result"
    }
   ],
   "source": [
    "# What do these sequences look like?\n",
    "X_train_seq[0]"
   ]
  },
  {
   "cell_type": "code",
   "execution_count": 6,
   "id": "73dadde7",
   "metadata": {},
   "outputs": [],
   "source": [
    "# Pad the sequences so each sequence is the same length\n",
    "X_train_seq_pad = pad_sequences(X_train_seq, 50)\n",
    "X_test_seq_pad = pad_sequences(X_test_seq, 50)"
   ]
  },
  {
   "cell_type": "code",
   "execution_count": 7,
   "id": "28231b0b",
   "metadata": {},
   "outputs": [
    {
     "data": {
      "text/plain": [
       "array([  0,   0,   0,   0,   0,   0,   0,   0,   0,   0,   0,   0,   0,\n",
       "         0,   0,   0,   0,   0,   0,   0,   0,   0,   0,   0,   0,   0,\n",
       "         0,   0,   0,   0,   0,   0,   0,   0,   0,   0,   0,   0,   1,\n",
       "        60,  81, 178, 125,  44,  60,  52, 863, 647,  36, 753])"
      ]
     },
     "execution_count": 7,
     "metadata": {},
     "output_type": "execute_result"
    }
   ],
   "source": [
    "# What do these padded sequences look like?\n",
    "X_train_seq_pad[0]"
   ]
  },
  {
   "cell_type": "markdown",
   "id": "9160d8e3",
   "metadata": {},
   "source": [
    "### Build Model"
   ]
  },
  {
   "cell_type": "code",
   "execution_count": 8,
   "id": "c3afeb76",
   "metadata": {},
   "outputs": [],
   "source": [
    "# Import the tools needed from keras and define functions to calculate recall and precision\n",
    "import tensorflow.keras.backend as K\n",
    "from tensorflow.keras.layers import Dense, Embedding, LSTM\n",
    "from tensorflow.keras.models import Sequential\n",
    "\n",
    "def recall_m(y_test, y_pred):\n",
    "    tp = K.sum(K.round(K.clip(y_pred*y_test, 0, 1)))\n",
    "    possible_pos = K.sum(K.round(K.clip(y_test, 0, 1)))\n",
    "    recall = tp / (possible_pos + K.epsilon())\n",
    "    return recall\n",
    "\n",
    "def precision_m(y_test, y_pred):\n",
    "    tp = K.sum(K.round(K.clip(y_pred*y_test, 0, 1)))\n",
    "    predicted_pos = K.sum(K.round(K.clip(y_pred, 0, 1)))\n",
    "    precision = tp / (predicted_pos + K.epsilon())\n",
    "    return precision"
   ]
  },
  {
   "cell_type": "code",
   "execution_count": 12,
   "id": "b54b23ba",
   "metadata": {},
   "outputs": [
    {
     "name": "stdout",
     "output_type": "stream",
     "text": [
      "Model: \"sequential_1\"\n",
      "_________________________________________________________________\n",
      "Layer (type)                 Output Shape              Param #   \n",
      "=================================================================\n",
      "embedding (Embedding)        (None, None, 32)          254656    \n",
      "_________________________________________________________________\n",
      "lstm (LSTM)                  (None, 32)                8320      \n",
      "_________________________________________________________________\n",
      "dense (Dense)                (None, 32)                1056      \n",
      "_________________________________________________________________\n",
      "dense_1 (Dense)              (None, 1)                 33        \n",
      "=================================================================\n",
      "Total params: 264,065\n",
      "Trainable params: 264,065\n",
      "Non-trainable params: 0\n",
      "_________________________________________________________________\n"
     ]
    }
   ],
   "source": [
    "# Construct a simple RNN model\n",
    "model = Sequential()\n",
    "model.add(Embedding(len(tokenizer.index_word)+1, 32))\n",
    "model.add(LSTM(32, dropout=0, recurrent_dropout=0))\n",
    "model.add(Dense(32, activation='relu'))\n",
    "model.add(Dense(1, activation='sigmoid'))\n",
    "model.summary()"
   ]
  },
  {
   "cell_type": "code",
   "execution_count": 17,
   "id": "a68571c6",
   "metadata": {},
   "outputs": [],
   "source": [
    "model.compile(optimizer='adam',\n",
    "             loss='binary_crossentropy',\n",
    "             metrics=['accuracy', recall_m, precision_m])"
   ]
  },
  {
   "cell_type": "code",
   "execution_count": 18,
   "id": "59def572",
   "metadata": {},
   "outputs": [
    {
     "name": "stdout",
     "output_type": "stream",
     "text": [
      "Epoch 1/10\n",
      "140/140 [==============================] - 4s 30ms/step - loss: 0.2410 - accuracy: 0.9210 - recall_m: 0.4021 - precision_m: 0.4914 - val_loss: 0.0740 - val_accuracy: 0.9830 - val_recall_m: 0.8027 - val_precision_m: 0.9143\n",
      "Epoch 2/10\n",
      "140/140 [==============================] - 3s 22ms/step - loss: 0.0345 - accuracy: 0.9912 - recall_m: 0.9468 - precision_m: 0.9773 - val_loss: 0.0460 - val_accuracy: 0.9883 - val_recall_m: 0.8635 - val_precision_m: 0.9240\n",
      "Epoch 3/10\n",
      "140/140 [==============================] - 3s 20ms/step - loss: 0.0127 - accuracy: 0.9969 - recall_m: 0.9664 - precision_m: 0.9737 - val_loss: 0.0497 - val_accuracy: 0.9839 - val_recall_m: 0.8706 - val_precision_m: 0.8907\n",
      "Epoch 4/10\n",
      "140/140 [==============================] - 3s 21ms/step - loss: 0.0049 - accuracy: 0.9991 - recall_m: 0.9943 - precision_m: 0.9988 - val_loss: 0.0525 - val_accuracy: 0.9865 - val_recall_m: 0.8635 - val_precision_m: 0.9002\n",
      "Epoch 5/10\n",
      "140/140 [==============================] - 3s 20ms/step - loss: 0.0043 - accuracy: 0.9987 - recall_m: 0.9936 - precision_m: 0.9954 - val_loss: 0.0837 - val_accuracy: 0.9830 - val_recall_m: 0.8117 - val_precision_m: 0.9371\n",
      "Epoch 6/10\n",
      "140/140 [==============================] - 3s 20ms/step - loss: 0.0015 - accuracy: 0.9998 - recall_m: 0.9843 - precision_m: 0.9857 - val_loss: 0.0725 - val_accuracy: 0.9857 - val_recall_m: 0.8356 - val_precision_m: 0.9371\n",
      "Epoch 7/10\n",
      "140/140 [==============================] - 3s 20ms/step - loss: 8.5903e-04 - accuracy: 0.9998 - recall_m: 0.9821 - precision_m: 0.9857 - val_loss: 0.0772 - val_accuracy: 0.9830 - val_recall_m: 0.8284 - val_precision_m: 0.9240\n",
      "Epoch 8/10\n",
      "140/140 [==============================] - 3s 20ms/step - loss: 1.9768e-04 - accuracy: 1.0000 - recall_m: 0.9714 - precision_m: 0.9714 - val_loss: 0.0875 - val_accuracy: 0.9848 - val_recall_m: 0.8260 - val_precision_m: 0.9371\n",
      "Epoch 9/10\n",
      "140/140 [==============================] - 3s 20ms/step - loss: 9.7250e-05 - accuracy: 1.0000 - recall_m: 1.0000 - precision_m: 1.0000 - val_loss: 0.0870 - val_accuracy: 0.9848 - val_recall_m: 0.8260 - val_precision_m: 0.9371\n",
      "Epoch 10/10\n",
      "140/140 [==============================] - 3s 20ms/step - loss: 6.9268e-05 - accuracy: 1.0000 - recall_m: 0.9929 - precision_m: 0.9929 - val_loss: 0.0899 - val_accuracy: 0.9848 - val_recall_m: 0.8260 - val_precision_m: 0.9371\n"
     ]
    }
   ],
   "source": [
    "# Fit the RNN model\n",
    "history = model.fit(X_train_seq_pad, y_train,\n",
    "                   batch_size=32, epochs=10,\n",
    "                   validation_data=(X_test_seq_pad, y_test))"
   ]
  },
  {
   "cell_type": "code",
   "execution_count": 19,
   "id": "f022ca82",
   "metadata": {},
   "outputs": [
    {
     "data": {
      "text/html": [
       "<div>\n",
       "<style scoped>\n",
       "    .dataframe tbody tr th:only-of-type {\n",
       "        vertical-align: middle;\n",
       "    }\n",
       "\n",
       "    .dataframe tbody tr th {\n",
       "        vertical-align: top;\n",
       "    }\n",
       "\n",
       "    .dataframe thead th {\n",
       "        text-align: right;\n",
       "    }\n",
       "</style>\n",
       "<table border=\"1\" class=\"dataframe\">\n",
       "  <thead>\n",
       "    <tr style=\"text-align: right;\">\n",
       "      <th></th>\n",
       "      <th>loss</th>\n",
       "      <th>accuracy</th>\n",
       "      <th>recall_m</th>\n",
       "      <th>precision_m</th>\n",
       "      <th>val_loss</th>\n",
       "      <th>val_accuracy</th>\n",
       "      <th>val_recall_m</th>\n",
       "      <th>val_precision_m</th>\n",
       "    </tr>\n",
       "  </thead>\n",
       "  <tbody>\n",
       "    <tr>\n",
       "      <th>0</th>\n",
       "      <td>0.241040</td>\n",
       "      <td>0.921023</td>\n",
       "      <td>0.402112</td>\n",
       "      <td>0.491429</td>\n",
       "      <td>0.074037</td>\n",
       "      <td>0.982960</td>\n",
       "      <td>0.802744</td>\n",
       "      <td>0.914286</td>\n",
       "    </tr>\n",
       "    <tr>\n",
       "      <th>1</th>\n",
       "      <td>0.034454</td>\n",
       "      <td>0.991250</td>\n",
       "      <td>0.946780</td>\n",
       "      <td>0.977296</td>\n",
       "      <td>0.045987</td>\n",
       "      <td>0.988341</td>\n",
       "      <td>0.863492</td>\n",
       "      <td>0.924048</td>\n",
       "    </tr>\n",
       "    <tr>\n",
       "      <th>2</th>\n",
       "      <td>0.012748</td>\n",
       "      <td>0.996859</td>\n",
       "      <td>0.966420</td>\n",
       "      <td>0.973741</td>\n",
       "      <td>0.049674</td>\n",
       "      <td>0.983856</td>\n",
       "      <td>0.870635</td>\n",
       "      <td>0.890714</td>\n",
       "    </tr>\n",
       "    <tr>\n",
       "      <th>3</th>\n",
       "      <td>0.004929</td>\n",
       "      <td>0.999103</td>\n",
       "      <td>0.994345</td>\n",
       "      <td>0.998810</td>\n",
       "      <td>0.052458</td>\n",
       "      <td>0.986547</td>\n",
       "      <td>0.863492</td>\n",
       "      <td>0.900238</td>\n",
       "    </tr>\n",
       "    <tr>\n",
       "      <th>4</th>\n",
       "      <td>0.004348</td>\n",
       "      <td>0.998654</td>\n",
       "      <td>0.993622</td>\n",
       "      <td>0.995357</td>\n",
       "      <td>0.083729</td>\n",
       "      <td>0.982960</td>\n",
       "      <td>0.811746</td>\n",
       "      <td>0.937143</td>\n",
       "    </tr>\n",
       "    <tr>\n",
       "      <th>5</th>\n",
       "      <td>0.001481</td>\n",
       "      <td>0.999776</td>\n",
       "      <td>0.984286</td>\n",
       "      <td>0.985714</td>\n",
       "      <td>0.072542</td>\n",
       "      <td>0.985650</td>\n",
       "      <td>0.835556</td>\n",
       "      <td>0.937143</td>\n",
       "    </tr>\n",
       "    <tr>\n",
       "      <th>6</th>\n",
       "      <td>0.000859</td>\n",
       "      <td>0.999776</td>\n",
       "      <td>0.982143</td>\n",
       "      <td>0.985714</td>\n",
       "      <td>0.077159</td>\n",
       "      <td>0.982960</td>\n",
       "      <td>0.828413</td>\n",
       "      <td>0.924048</td>\n",
       "    </tr>\n",
       "    <tr>\n",
       "      <th>7</th>\n",
       "      <td>0.000198</td>\n",
       "      <td>1.000000</td>\n",
       "      <td>0.971429</td>\n",
       "      <td>0.971429</td>\n",
       "      <td>0.087469</td>\n",
       "      <td>0.984753</td>\n",
       "      <td>0.826032</td>\n",
       "      <td>0.937143</td>\n",
       "    </tr>\n",
       "    <tr>\n",
       "      <th>8</th>\n",
       "      <td>0.000097</td>\n",
       "      <td>1.000000</td>\n",
       "      <td>1.000000</td>\n",
       "      <td>1.000000</td>\n",
       "      <td>0.087045</td>\n",
       "      <td>0.984753</td>\n",
       "      <td>0.826032</td>\n",
       "      <td>0.937143</td>\n",
       "    </tr>\n",
       "    <tr>\n",
       "      <th>9</th>\n",
       "      <td>0.000069</td>\n",
       "      <td>1.000000</td>\n",
       "      <td>0.992857</td>\n",
       "      <td>0.992857</td>\n",
       "      <td>0.089853</td>\n",
       "      <td>0.984753</td>\n",
       "      <td>0.826032</td>\n",
       "      <td>0.937143</td>\n",
       "    </tr>\n",
       "  </tbody>\n",
       "</table>\n",
       "</div>"
      ],
      "text/plain": [
       "       loss  accuracy  recall_m  precision_m  val_loss  val_accuracy  \\\n",
       "0  0.241040  0.921023  0.402112     0.491429  0.074037      0.982960   \n",
       "1  0.034454  0.991250  0.946780     0.977296  0.045987      0.988341   \n",
       "2  0.012748  0.996859  0.966420     0.973741  0.049674      0.983856   \n",
       "3  0.004929  0.999103  0.994345     0.998810  0.052458      0.986547   \n",
       "4  0.004348  0.998654  0.993622     0.995357  0.083729      0.982960   \n",
       "5  0.001481  0.999776  0.984286     0.985714  0.072542      0.985650   \n",
       "6  0.000859  0.999776  0.982143     0.985714  0.077159      0.982960   \n",
       "7  0.000198  1.000000  0.971429     0.971429  0.087469      0.984753   \n",
       "8  0.000097  1.000000  1.000000     1.000000  0.087045      0.984753   \n",
       "9  0.000069  1.000000  0.992857     0.992857  0.089853      0.984753   \n",
       "\n",
       "   val_recall_m  val_precision_m  \n",
       "0      0.802744         0.914286  \n",
       "1      0.863492         0.924048  \n",
       "2      0.870635         0.890714  \n",
       "3      0.863492         0.900238  \n",
       "4      0.811746         0.937143  \n",
       "5      0.835556         0.937143  \n",
       "6      0.828413         0.924048  \n",
       "7      0.826032         0.937143  \n",
       "8      0.826032         0.937143  \n",
       "9      0.826032         0.937143  "
      ]
     },
     "execution_count": 19,
     "metadata": {},
     "output_type": "execute_result"
    }
   ],
   "source": [
    "pd.DataFrame(history.history)"
   ]
  },
  {
   "cell_type": "code",
   "execution_count": 21,
   "id": "477856d9",
   "metadata": {},
   "outputs": [
    {
     "data": {
      "image/png": "[encoded data removed]",
      "text/plain": [
       "<Figure size 432x288 with 1 Axes>"
      ]
     },
     "metadata": {
      "needs_background": "light"
     },
     "output_type": "display_data"
    },
    {
     "data": {
      "image/png": "[encoded data removed]",
      "text/plain": [
       "<Figure size 432x288 with 1 Axes>"
      ]
     },
     "metadata": {
      "needs_background": "light"
     },
     "output_type": "display_data"
    },
    {
     "data": {
      "image/png": "[encoded data removed]",
      "text/plain": [
       "<Figure size 432x288 with 1 Axes>"
      ]
     },
     "metadata": {
      "needs_background": "light"
     },
     "output_type": "display_data"
    }
   ],
   "source": [
    "# Plot the evaluation metrics by each epuch for the model to see if we over or underfitting\n",
    "import matplotlib.pyplot as plt\n",
    "\n",
    "for i in ['accuracy', 'recall_m', 'precision_m']:\n",
    "    acc = history.history[i]\n",
    "    val_acc = history.history['val_{}'.format(i)]\n",
    "    epochs = range(1, len(acc) + 1)\n",
    "    \n",
    "    plt.figure()\n",
    "    plt.plot(epochs, acc, label='Training Metrics')\n",
    "    plt.plot(epochs, val_acc, label='Validation Metrics')\n",
    "    plt.title('Results for {}'.format(i))\n",
    "    plt.legend()\n",
    "    plt.show()"
   ]
  }
 ],
 "metadata": {
  "kernelspec": {
   "display_name": "Python 3",
   "language": "python",
   "name": "python3"
  },
  "language_info": {
   "codemirror_mode": {
    "name": "ipython",
    "version": 3
   },
   "file_extension": ".py",
   "mimetype": "text/x-python",
   "name": "python",
   "nbconvert_exporter": "python",
   "pygments_lexer": "ipython3",
   "version": "3.7.10"
  }
 },
 "nbformat": 4,
 "nbformat_minor": 5
}
