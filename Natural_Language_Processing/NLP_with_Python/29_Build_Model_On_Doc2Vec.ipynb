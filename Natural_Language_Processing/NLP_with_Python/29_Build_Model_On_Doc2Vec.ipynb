{
 "cells": [
  {
   "cell_type": "markdown",
   "id": "fc0fc50d",
   "metadata": {},
   "source": [
    "## Compare NLP Techniques: Build Model On doc2vec\n",
    "\n",
    "### Read In Cleaned Text"
   ]
  },
  {
   "cell_type": "code",
   "execution_count": 1,
   "id": "4f9853c0",
   "metadata": {},
   "outputs": [
    {
     "data": {
      "text/html": [
       "<div>\n",
       "<style scoped>\n",
       "    .dataframe tbody tr th:only-of-type {\n",
       "        vertical-align: middle;\n",
       "    }\n",
       "\n",
       "    .dataframe tbody tr th {\n",
       "        vertical-align: top;\n",
       "    }\n",
       "\n",
       "    .dataframe thead th {\n",
       "        text-align: right;\n",
       "    }\n",
       "</style>\n",
       "<table border=\"1\" class=\"dataframe\">\n",
       "  <thead>\n",
       "    <tr style=\"text-align: right;\">\n",
       "      <th></th>\n",
       "      <th>clean_text</th>\n",
       "    </tr>\n",
       "  </thead>\n",
       "  <tbody>\n",
       "    <tr>\n",
       "      <th>0</th>\n",
       "      <td>[living, simple, loving, also, simple, laughin...</td>\n",
       "    </tr>\n",
       "    <tr>\n",
       "      <th>1</th>\n",
       "      <td>[already, squatting, new, way, walking]</td>\n",
       "    </tr>\n",
       "    <tr>\n",
       "      <th>2</th>\n",
       "      <td>[sister, got, placed, birla, soft, da]</td>\n",
       "    </tr>\n",
       "    <tr>\n",
       "      <th>3</th>\n",
       "      <td>[lovely, smell, bus, aint, tobacco, ]</td>\n",
       "    </tr>\n",
       "    <tr>\n",
       "      <th>4</th>\n",
       "      <td>[yes, nigh, cant, aha]</td>\n",
       "    </tr>\n",
       "  </tbody>\n",
       "</table>\n",
       "</div>"
      ],
      "text/plain": [
       "                                          clean_text\n",
       "0  [living, simple, loving, also, simple, laughin...\n",
       "1            [already, squatting, new, way, walking]\n",
       "2             [sister, got, placed, birla, soft, da]\n",
       "3              [lovely, smell, bus, aint, tobacco, ]\n",
       "4                             [yes, nigh, cant, aha]"
      ]
     },
     "execution_count": 1,
     "metadata": {},
     "output_type": "execute_result"
    }
   ],
   "source": [
    "# Load the cleaned training and testing set\n",
    "import gensim\n",
    "import numpy as np\n",
    "import pandas as pd\n",
    "from sklearn.feature_extraction.text import TfidfVectorizer\n",
    "\n",
    "X_train = pd.read_csv('data/X_train.csv')\n",
    "X_test = pd.read_csv('data/X_test.csv')\n",
    "y_train = pd.read_csv('data/y_train.csv')\n",
    "y_test = pd.read_csv('data/y_test.csv')\n",
    "\n",
    "# X_train and X_test giving the output as string of list\n",
    "# convert them into list\n",
    "X_train['clean_text'] = [eval(list_str) for list_str in X_train['clean_text']]\n",
    "X_test['clean_text'] = [eval(list_str) for list_str in X_test['clean_text']]\n",
    "X_train.head()"
   ]
  },
  {
   "cell_type": "markdown",
   "id": "bb8f9031",
   "metadata": {},
   "source": [
    "### Create doc2vec Vectors"
   ]
  },
  {
   "cell_type": "code",
   "execution_count": 2,
   "id": "afbec568",
   "metadata": {},
   "outputs": [],
   "source": [
    "# Cteared TaggedDcoument vectors for each text message in the training and testing sets\n",
    "tagged_docs_train = [gensim.models.doc2vec.TaggedDocument(list_word, [i]) \n",
    "                     for i, list_word in enumerate(X_train['clean_text'])]\n",
    "tagged_docs_test = [gensim.models.doc2vec.TaggedDocument(list_word, [i]) \n",
    "                    for i, list_word in enumerate(X_test['clean_text'])]"
   ]
  },
  {
   "cell_type": "code",
   "execution_count": 3,
   "id": "de66d2eb",
   "metadata": {},
   "outputs": [
    {
     "data": {
      "text/plain": [
       "[TaggedDocument(words=['living', 'simple', 'loving', 'also', 'simple', 'laughing', 'simple', 'winning', 'tooo', 'simple', 'simple', 'difficult', ''], tags=[0]),\n",
       " TaggedDocument(words=['already', 'squatting', 'new', 'way', 'walking'], tags=[1]),\n",
       " TaggedDocument(words=['sister', 'got', 'placed', 'birla', 'soft', 'da'], tags=[2]),\n",
       " TaggedDocument(words=['lovely', 'smell', 'bus', 'aint', 'tobacco', ''], tags=[3]),\n",
       " TaggedDocument(words=['yes', 'nigh', 'cant', 'aha'], tags=[4]),\n",
       " TaggedDocument(words=['yup', 'remb', 'think', 'book', ''], tags=[5]),\n",
       " TaggedDocument(words=['sorry', 'roommates', 'took', 'forever', 'ok', 'come'], tags=[6]),\n",
       " TaggedDocument(words=['b4u', 'voucher', 'wc', '2703', 'marsms', 'log', 'onto', 'wwwb4utelecom', 'discount', 'credit', 'opt', 'reply', 'stop', 'customer', 'care', 'call', '08717168528'], tags=[7]),\n",
       " TaggedDocument(words=['kindly', 'send', 'one', 'flat', 'ltdecimalgt', 'today'], tags=[8]),\n",
       " TaggedDocument(words=['ceri', 'u', 'rebel', 'sweet', 'dreamz', 'little', 'buddy', 'c', 'ya', '2moro', 'needs', 'blokes'], tags=[9])]"
      ]
     },
     "execution_count": 3,
     "metadata": {},
     "output_type": "execute_result"
    }
   ],
   "source": [
    "# What do thest TaggedDocument Objects look like?\n",
    "tagged_docs_train[0:10]"
   ]
  },
  {
   "cell_type": "code",
   "execution_count": 4,
   "id": "92250917",
   "metadata": {},
   "outputs": [],
   "source": [
    "# Train a basic doc2vec model\n",
    "d2v_model = gensim.models.Doc2Vec(tagged_docs_train,\n",
    "                                 vector_size=100,\n",
    "                                 window=5,\n",
    "                                 min_count=2)"
   ]
  },
  {
   "cell_type": "code",
   "execution_count": 5,
   "id": "82106817",
   "metadata": {},
   "outputs": [],
   "source": [
    "# Infer the vectors to be used in training and testing\n",
    "train_vectors = [d2v_model.infer_vector(v.words) for v in tagged_docs_train]\n",
    "test_vectors = [d2v_model.infer_vector(v.words) for v in tagged_docs_test]"
   ]
  },
  {
   "cell_type": "markdown",
   "id": "b1fc9b08",
   "metadata": {},
   "source": [
    "### Fit the RF Classifier On Top Of Document Vectors"
   ]
  },
  {
   "cell_type": "code",
   "execution_count": 6,
   "id": "290cb15f",
   "metadata": {},
   "outputs": [],
   "source": [
    "# Instantiate and fit a basic Random Forest Classifier on the top of vectors\n",
    "from sklearn.ensemble import RandomForestClassifier\n",
    "\n",
    "rf= RandomForestClassifier()\n",
    "rf_model = rf.fit(train_vectors, y_train.values.ravel())"
   ]
  },
  {
   "cell_type": "code",
   "execution_count": 7,
   "id": "26c74767",
   "metadata": {},
   "outputs": [],
   "source": [
    "# USe the trained model to make predictions on the test data\n",
    "y_pred = rf_model.predict(test_vectors)"
   ]
  },
  {
   "cell_type": "code",
   "execution_count": 8,
   "id": "383bda62",
   "metadata": {},
   "outputs": [
    {
     "name": "stdout",
     "output_type": "stream",
     "text": [
      "Precision: 0.559 / Recall: 0.129 / Accuracy: 0.872\n"
     ]
    }
   ],
   "source": [
    "# Evaluate the predictions of the model on the holdout test set\n",
    "from sklearn.metrics import accuracy_score, precision_score, recall_score\n",
    "\n",
    "precision = precision_score(y_test, y_pred)\n",
    "recall = recall_score(y_test, y_pred)\n",
    "acc = accuracy_score(y_test, y_pred)\n",
    "print(f\"Precision: {round(precision, 3)} / Recall: {round(recall, 3)} / Accuracy: {round(acc, 3)}\")"
   ]
  }
 ],
 "metadata": {
  "kernelspec": {
   "display_name": "Python 3",
   "language": "python",
   "name": "python3"
  },
  "language_info": {
   "codemirror_mode": {
    "name": "ipython",
    "version": 3
   },
   "file_extension": ".py",
   "mimetype": "text/x-python",
   "name": "python",
   "nbconvert_exporter": "python",
   "pygments_lexer": "ipython3",
   "version": "3.7.10"
  }
 },
 "nbformat": 4,
 "nbformat_minor": 5
}
